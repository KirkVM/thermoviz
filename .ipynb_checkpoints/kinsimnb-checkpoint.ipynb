{
 "cells": [
  {
   "cell_type": "code",
   "execution_count": 22,
   "id": "1209688c-816c-4505-a733-fed2a26c19a0",
   "metadata": {},
   "outputs": [
    {
     "data": {
      "application/javascript": [
       "\n",
       "(function(root) {\n",
       "  function now() {\n",
       "    return new Date();\n",
       "  }\n",
       "\n",
       "  var force = true;\n",
       "\n",
       "  if (typeof root._bokeh_onload_callbacks === \"undefined\" || force === true) {\n",
       "    root._bokeh_onload_callbacks = [];\n",
       "    root._bokeh_is_loading = undefined;\n",
       "  }\n",
       "\n",
       "  if (typeof (root._bokeh_timeout) === \"undefined\" || force === true) {\n",
       "    root._bokeh_timeout = Date.now() + 5000;\n",
       "    root._bokeh_failed_load = false;\n",
       "  }\n",
       "\n",
       "  function run_callbacks() {\n",
       "    try {\n",
       "      root._bokeh_onload_callbacks.forEach(function(callback) {\n",
       "        if (callback != null)\n",
       "          callback();\n",
       "      });\n",
       "    } finally {\n",
       "      delete root._bokeh_onload_callbacks\n",
       "    }\n",
       "    console.debug(\"Bokeh: all callbacks have finished\");\n",
       "  }\n",
       "\n",
       "  function load_libs(css_urls, js_urls, js_modules, callback) {\n",
       "    if (css_urls == null) css_urls = [];\n",
       "    if (js_urls == null) js_urls = [];\n",
       "    if (js_modules == null) js_modules = [];\n",
       "\n",
       "    root._bokeh_onload_callbacks.push(callback);\n",
       "    if (root._bokeh_is_loading > 0) {\n",
       "      console.debug(\"Bokeh: BokehJS is being loaded, scheduling callback at\", now());\n",
       "      return null;\n",
       "    }\n",
       "    if (js_urls.length === 0 && js_modules.length === 0) {\n",
       "      run_callbacks();\n",
       "      return null;\n",
       "    }\n",
       "    console.debug(\"Bokeh: BokehJS not loaded, scheduling load and callback at\", now());\n",
       "    root._bokeh_is_loading = css_urls.length + js_urls.length + js_modules.length;\n",
       "\n",
       "    function on_load() {\n",
       "      root._bokeh_is_loading--;\n",
       "      if (root._bokeh_is_loading === 0) {\n",
       "        console.debug(\"Bokeh: all BokehJS libraries/stylesheets loaded\");\n",
       "        run_callbacks()\n",
       "      }\n",
       "    }\n",
       "\n",
       "    function on_error() {\n",
       "      console.error(\"failed to load \" + url);\n",
       "    }\n",
       "\n",
       "    for (var i = 0; i < css_urls.length; i++) {\n",
       "      var url = css_urls[i];\n",
       "      const element = document.createElement(\"link\");\n",
       "      element.onload = on_load;\n",
       "      element.onerror = on_error;\n",
       "      element.rel = \"stylesheet\";\n",
       "      element.type = \"text/css\";\n",
       "      element.href = url;\n",
       "      console.debug(\"Bokeh: injecting link tag for BokehJS stylesheet: \", url);\n",
       "      document.body.appendChild(element);\n",
       "    }\n",
       "\n",
       "    var skip = [];\n",
       "    if (window.requirejs) {\n",
       "      window.requirejs.config({'paths': {}, 'shim': {}});\n",
       "      \n",
       "    }\n",
       "    for (var i = 0; i < js_urls.length; i++) {\n",
       "      var url = js_urls[i];\n",
       "      if (skip.indexOf(url) >= 0) { on_load(); continue; }\n",
       "      var element = document.createElement('script');\n",
       "      element.onload = on_load;\n",
       "      element.onerror = on_error;\n",
       "      element.async = false;\n",
       "      element.src = url;\n",
       "      console.debug(\"Bokeh: injecting script tag for BokehJS library: \", url);\n",
       "      document.head.appendChild(element);\n",
       "    }\n",
       "    for (var i = 0; i < js_modules.length; i++) {\n",
       "      var url = js_modules[i];\n",
       "      if (skip.indexOf(url) >= 0) { on_load(); continue; }\n",
       "      var element = document.createElement('script');\n",
       "      element.onload = on_load;\n",
       "      element.onerror = on_error;\n",
       "      element.async = false;\n",
       "      element.src = url;\n",
       "      element.type = \"module\";\n",
       "      console.debug(\"Bokeh: injecting script tag for BokehJS library: \", url);\n",
       "      document.head.appendChild(element);\n",
       "    }\n",
       "    if (!js_urls.length && !js_modules.length) {\n",
       "      on_load()\n",
       "    }\n",
       "  };\n",
       "\n",
       "  function inject_raw_css(css) {\n",
       "    const element = document.createElement(\"style\");\n",
       "    element.appendChild(document.createTextNode(css));\n",
       "    document.body.appendChild(element);\n",
       "  }\n",
       "\n",
       "  var js_urls = [\"https://cdn.bokeh.org/bokeh/release/bokeh-2.3.3.min.js\", \"https://cdn.bokeh.org/bokeh/release/bokeh-widgets-2.3.3.min.js\", \"https://cdn.bokeh.org/bokeh/release/bokeh-tables-2.3.3.min.js\", \"https://unpkg.com/@holoviz/panel@0.12.0/dist/panel.min.js\"];\n",
       "  var js_modules = [];\n",
       "  var css_urls = [\"https://unpkg.com/@holoviz/panel@0.12.0/dist/css/alerts.css\", \"https://unpkg.com/@holoviz/panel@0.12.0/dist/css/card.css\", \"https://unpkg.com/@holoviz/panel@0.12.0/dist/css/widgets.css\", \"https://unpkg.com/@holoviz/panel@0.12.0/dist/css/markdown.css\", \"https://unpkg.com/@holoviz/panel@0.12.0/dist/css/json.css\", \"https://unpkg.com/@holoviz/panel@0.12.0/dist/css/loading.css\", \"https://unpkg.com/@holoviz/panel@0.12.0/dist/css/dataframe.css\"];\n",
       "  var inline_js = [\n",
       "    function(Bokeh) {\n",
       "      inject_raw_css(\"\\n    .bk.pn-loading.arcs:before {\\n      background-image: url(\\\"data:image/svg+xml;base64,PHN2ZyB4bWxucz0iaHR0cDovL3d3dy53My5vcmcvMjAwMC9zdmciIHhtbG5zOnhsaW5rPSJodHRwOi8vd3d3LnczLm9yZy8xOTk5L3hsaW5rIiBzdHlsZT0ibWFyZ2luOiBhdXRvOyBiYWNrZ3JvdW5kOiBub25lOyBkaXNwbGF5OiBibG9jazsgc2hhcGUtcmVuZGVyaW5nOiBhdXRvOyIgdmlld0JveD0iMCAwIDEwMCAxMDAiIHByZXNlcnZlQXNwZWN0UmF0aW89InhNaWRZTWlkIj4gIDxjaXJjbGUgY3g9IjUwIiBjeT0iNTAiIHI9IjMyIiBzdHJva2Utd2lkdGg9IjgiIHN0cm9rZT0iI2MzYzNjMyIgc3Ryb2tlLWRhc2hhcnJheT0iNTAuMjY1NDgyNDU3NDM2NjkgNTAuMjY1NDgyNDU3NDM2NjkiIGZpbGw9Im5vbmUiIHN0cm9rZS1saW5lY2FwPSJyb3VuZCI+ICAgIDxhbmltYXRlVHJhbnNmb3JtIGF0dHJpYnV0ZU5hbWU9InRyYW5zZm9ybSIgdHlwZT0icm90YXRlIiByZXBlYXRDb3VudD0iaW5kZWZpbml0ZSIgZHVyPSIxcyIga2V5VGltZXM9IjA7MSIgdmFsdWVzPSIwIDUwIDUwOzM2MCA1MCA1MCI+PC9hbmltYXRlVHJhbnNmb3JtPiAgPC9jaXJjbGU+PC9zdmc+\\\")\\n    }\\n    \");\n",
       "    },\n",
       "    function(Bokeh) {\n",
       "      Bokeh.set_log_level(\"info\");\n",
       "    },\n",
       "    function(Bokeh) {} // ensure no trailing comma for IE\n",
       "  ];\n",
       "\n",
       "  function run_inline_js() {\n",
       "    if ((root.Bokeh !== undefined) || (force === true)) {\n",
       "      for (var i = 0; i < inline_js.length; i++) {\n",
       "        inline_js[i].call(root, root.Bokeh);\n",
       "      }} else if (Date.now() < root._bokeh_timeout) {\n",
       "      setTimeout(run_inline_js, 100);\n",
       "    } else if (!root._bokeh_failed_load) {\n",
       "      console.log(\"Bokeh: BokehJS failed to load within specified timeout.\");\n",
       "      root._bokeh_failed_load = true;\n",
       "    }\n",
       "  }\n",
       "\n",
       "  if (root._bokeh_is_loading === 0) {\n",
       "    console.debug(\"Bokeh: BokehJS loaded, going straight to plotting\");\n",
       "    run_inline_js();\n",
       "  } else {\n",
       "    load_libs(css_urls, js_urls, js_modules, function() {\n",
       "      console.debug(\"Bokeh: BokehJS plotting callback run at\", now());\n",
       "      run_inline_js();\n",
       "    });\n",
       "  }\n",
       "}(window));"
      ],
      "application/vnd.holoviews_load.v0+json": "\n(function(root) {\n  function now() {\n    return new Date();\n  }\n\n  var force = true;\n\n  if (typeof root._bokeh_onload_callbacks === \"undefined\" || force === true) {\n    root._bokeh_onload_callbacks = [];\n    root._bokeh_is_loading = undefined;\n  }\n\n  if (typeof (root._bokeh_timeout) === \"undefined\" || force === true) {\n    root._bokeh_timeout = Date.now() + 5000;\n    root._bokeh_failed_load = false;\n  }\n\n  function run_callbacks() {\n    try {\n      root._bokeh_onload_callbacks.forEach(function(callback) {\n        if (callback != null)\n          callback();\n      });\n    } finally {\n      delete root._bokeh_onload_callbacks\n    }\n    console.debug(\"Bokeh: all callbacks have finished\");\n  }\n\n  function load_libs(css_urls, js_urls, js_modules, callback) {\n    if (css_urls == null) css_urls = [];\n    if (js_urls == null) js_urls = [];\n    if (js_modules == null) js_modules = [];\n\n    root._bokeh_onload_callbacks.push(callback);\n    if (root._bokeh_is_loading > 0) {\n      console.debug(\"Bokeh: BokehJS is being loaded, scheduling callback at\", now());\n      return null;\n    }\n    if (js_urls.length === 0 && js_modules.length === 0) {\n      run_callbacks();\n      return null;\n    }\n    console.debug(\"Bokeh: BokehJS not loaded, scheduling load and callback at\", now());\n    root._bokeh_is_loading = css_urls.length + js_urls.length + js_modules.length;\n\n    function on_load() {\n      root._bokeh_is_loading--;\n      if (root._bokeh_is_loading === 0) {\n        console.debug(\"Bokeh: all BokehJS libraries/stylesheets loaded\");\n        run_callbacks()\n      }\n    }\n\n    function on_error() {\n      console.error(\"failed to load \" + url);\n    }\n\n    for (var i = 0; i < css_urls.length; i++) {\n      var url = css_urls[i];\n      const element = document.createElement(\"link\");\n      element.onload = on_load;\n      element.onerror = on_error;\n      element.rel = \"stylesheet\";\n      element.type = \"text/css\";\n      element.href = url;\n      console.debug(\"Bokeh: injecting link tag for BokehJS stylesheet: \", url);\n      document.body.appendChild(element);\n    }\n\n    var skip = [];\n    if (window.requirejs) {\n      window.requirejs.config({'paths': {}, 'shim': {}});\n      \n    }\n    for (var i = 0; i < js_urls.length; i++) {\n      var url = js_urls[i];\n      if (skip.indexOf(url) >= 0) { on_load(); continue; }\n      var element = document.createElement('script');\n      element.onload = on_load;\n      element.onerror = on_error;\n      element.async = false;\n      element.src = url;\n      console.debug(\"Bokeh: injecting script tag for BokehJS library: \", url);\n      document.head.appendChild(element);\n    }\n    for (var i = 0; i < js_modules.length; i++) {\n      var url = js_modules[i];\n      if (skip.indexOf(url) >= 0) { on_load(); continue; }\n      var element = document.createElement('script');\n      element.onload = on_load;\n      element.onerror = on_error;\n      element.async = false;\n      element.src = url;\n      element.type = \"module\";\n      console.debug(\"Bokeh: injecting script tag for BokehJS library: \", url);\n      document.head.appendChild(element);\n    }\n    if (!js_urls.length && !js_modules.length) {\n      on_load()\n    }\n  };\n\n  function inject_raw_css(css) {\n    const element = document.createElement(\"style\");\n    element.appendChild(document.createTextNode(css));\n    document.body.appendChild(element);\n  }\n\n  var js_urls = [\"https://cdn.bokeh.org/bokeh/release/bokeh-2.3.3.min.js\", \"https://cdn.bokeh.org/bokeh/release/bokeh-widgets-2.3.3.min.js\", \"https://cdn.bokeh.org/bokeh/release/bokeh-tables-2.3.3.min.js\", \"https://unpkg.com/@holoviz/panel@0.12.0/dist/panel.min.js\"];\n  var js_modules = [];\n  var css_urls = [\"https://unpkg.com/@holoviz/panel@0.12.0/dist/css/alerts.css\", \"https://unpkg.com/@holoviz/panel@0.12.0/dist/css/card.css\", \"https://unpkg.com/@holoviz/panel@0.12.0/dist/css/widgets.css\", \"https://unpkg.com/@holoviz/panel@0.12.0/dist/css/markdown.css\", \"https://unpkg.com/@holoviz/panel@0.12.0/dist/css/json.css\", \"https://unpkg.com/@holoviz/panel@0.12.0/dist/css/loading.css\", \"https://unpkg.com/@holoviz/panel@0.12.0/dist/css/dataframe.css\"];\n  var inline_js = [\n    function(Bokeh) {\n      inject_raw_css(\"\\n    .bk.pn-loading.arcs:before {\\n      background-image: url(\\\"data:image/svg+xml;base64,PHN2ZyB4bWxucz0iaHR0cDovL3d3dy53My5vcmcvMjAwMC9zdmciIHhtbG5zOnhsaW5rPSJodHRwOi8vd3d3LnczLm9yZy8xOTk5L3hsaW5rIiBzdHlsZT0ibWFyZ2luOiBhdXRvOyBiYWNrZ3JvdW5kOiBub25lOyBkaXNwbGF5OiBibG9jazsgc2hhcGUtcmVuZGVyaW5nOiBhdXRvOyIgdmlld0JveD0iMCAwIDEwMCAxMDAiIHByZXNlcnZlQXNwZWN0UmF0aW89InhNaWRZTWlkIj4gIDxjaXJjbGUgY3g9IjUwIiBjeT0iNTAiIHI9IjMyIiBzdHJva2Utd2lkdGg9IjgiIHN0cm9rZT0iI2MzYzNjMyIgc3Ryb2tlLWRhc2hhcnJheT0iNTAuMjY1NDgyNDU3NDM2NjkgNTAuMjY1NDgyNDU3NDM2NjkiIGZpbGw9Im5vbmUiIHN0cm9rZS1saW5lY2FwPSJyb3VuZCI+ICAgIDxhbmltYXRlVHJhbnNmb3JtIGF0dHJpYnV0ZU5hbWU9InRyYW5zZm9ybSIgdHlwZT0icm90YXRlIiByZXBlYXRDb3VudD0iaW5kZWZpbml0ZSIgZHVyPSIxcyIga2V5VGltZXM9IjA7MSIgdmFsdWVzPSIwIDUwIDUwOzM2MCA1MCA1MCI+PC9hbmltYXRlVHJhbnNmb3JtPiAgPC9jaXJjbGU+PC9zdmc+\\\")\\n    }\\n    \");\n    },\n    function(Bokeh) {\n      Bokeh.set_log_level(\"info\");\n    },\n    function(Bokeh) {} // ensure no trailing comma for IE\n  ];\n\n  function run_inline_js() {\n    if ((root.Bokeh !== undefined) || (force === true)) {\n      for (var i = 0; i < inline_js.length; i++) {\n        inline_js[i].call(root, root.Bokeh);\n      }} else if (Date.now() < root._bokeh_timeout) {\n      setTimeout(run_inline_js, 100);\n    } else if (!root._bokeh_failed_load) {\n      console.log(\"Bokeh: BokehJS failed to load within specified timeout.\");\n      root._bokeh_failed_load = true;\n    }\n  }\n\n  if (root._bokeh_is_loading === 0) {\n    console.debug(\"Bokeh: BokehJS loaded, going straight to plotting\");\n    run_inline_js();\n  } else {\n    load_libs(css_urls, js_urls, js_modules, function() {\n      console.debug(\"Bokeh: BokehJS plotting callback run at\", now());\n      run_inline_js();\n    });\n  }\n}(window));"
     },
     "metadata": {},
     "output_type": "display_data"
    },
    {
     "data": {
      "application/javascript": [
       "\n",
       "if ((window.PyViz === undefined) || (window.PyViz instanceof HTMLElement)) {\n",
       "  window.PyViz = {comms: {}, comm_status:{}, kernels:{}, receivers: {}, plot_index: []}\n",
       "}\n",
       "\n",
       "\n",
       "    function JupyterCommManager() {\n",
       "    }\n",
       "\n",
       "    JupyterCommManager.prototype.register_target = function(plot_id, comm_id, msg_handler) {\n",
       "      if (window.comm_manager || ((window.Jupyter !== undefined) && (Jupyter.notebook.kernel != null))) {\n",
       "        var comm_manager = window.comm_manager || Jupyter.notebook.kernel.comm_manager;\n",
       "        comm_manager.register_target(comm_id, function(comm) {\n",
       "          comm.on_msg(msg_handler);\n",
       "        });\n",
       "      } else if ((plot_id in window.PyViz.kernels) && (window.PyViz.kernels[plot_id])) {\n",
       "        window.PyViz.kernels[plot_id].registerCommTarget(comm_id, function(comm) {\n",
       "          comm.onMsg = msg_handler;\n",
       "        });\n",
       "      } else if (typeof google != 'undefined' && google.colab.kernel != null) {\n",
       "        google.colab.kernel.comms.registerTarget(comm_id, (comm) => {\n",
       "          var messages = comm.messages[Symbol.asyncIterator]();\n",
       "          function processIteratorResult(result) {\n",
       "            var message = result.value;\n",
       "            console.log(message)\n",
       "            var content = {data: message.data, comm_id};\n",
       "            var buffers = []\n",
       "            for (var buffer of message.buffers || []) {\n",
       "              buffers.push(new DataView(buffer))\n",
       "            }\n",
       "            var metadata = message.metadata || {};\n",
       "            var msg = {content, buffers, metadata}\n",
       "            msg_handler(msg);\n",
       "            return messages.next().then(processIteratorResult);\n",
       "          }\n",
       "          return messages.next().then(processIteratorResult);\n",
       "        })\n",
       "      }\n",
       "    }\n",
       "\n",
       "    JupyterCommManager.prototype.get_client_comm = function(plot_id, comm_id, msg_handler) {\n",
       "      if (comm_id in window.PyViz.comms) {\n",
       "        return window.PyViz.comms[comm_id];\n",
       "      } else if (window.comm_manager || ((window.Jupyter !== undefined) && (Jupyter.notebook.kernel != null))) {\n",
       "        var comm_manager = window.comm_manager || Jupyter.notebook.kernel.comm_manager;\n",
       "        var comm = comm_manager.new_comm(comm_id, {}, {}, {}, comm_id);\n",
       "        if (msg_handler) {\n",
       "          comm.on_msg(msg_handler);\n",
       "        }\n",
       "      } else if ((plot_id in window.PyViz.kernels) && (window.PyViz.kernels[plot_id])) {\n",
       "        var comm = window.PyViz.kernels[plot_id].connectToComm(comm_id);\n",
       "        comm.open();\n",
       "        if (msg_handler) {\n",
       "          comm.onMsg = msg_handler;\n",
       "        }\n",
       "      } else if (typeof google != 'undefined' && google.colab.kernel != null) {\n",
       "        var comm_promise = google.colab.kernel.comms.open(comm_id)\n",
       "        comm_promise.then((comm) => {\n",
       "          window.PyViz.comms[comm_id] = comm;\n",
       "          if (msg_handler) {\n",
       "            var messages = comm.messages[Symbol.asyncIterator]();\n",
       "            function processIteratorResult(result) {\n",
       "              var message = result.value;\n",
       "              var content = {data: message.data};\n",
       "              var metadata = message.metadata || {comm_id};\n",
       "              var msg = {content, metadata}\n",
       "              msg_handler(msg);\n",
       "              return messages.next().then(processIteratorResult);\n",
       "            }\n",
       "            return messages.next().then(processIteratorResult);\n",
       "          }\n",
       "        }) \n",
       "        var sendClosure = (data, metadata, buffers, disposeOnDone) => {\n",
       "          return comm_promise.then((comm) => {\n",
       "            comm.send(data, metadata, buffers, disposeOnDone);\n",
       "          });\n",
       "        };\n",
       "        var comm = {\n",
       "          send: sendClosure\n",
       "        };\n",
       "      }\n",
       "      window.PyViz.comms[comm_id] = comm;\n",
       "      return comm;\n",
       "    }\n",
       "    window.PyViz.comm_manager = new JupyterCommManager();\n",
       "    \n",
       "\n",
       "\n",
       "var JS_MIME_TYPE = 'application/javascript';\n",
       "var HTML_MIME_TYPE = 'text/html';\n",
       "var EXEC_MIME_TYPE = 'application/vnd.holoviews_exec.v0+json';\n",
       "var CLASS_NAME = 'output';\n",
       "\n",
       "/**\n",
       " * Render data to the DOM node\n",
       " */\n",
       "function render(props, node) {\n",
       "  var div = document.createElement(\"div\");\n",
       "  var script = document.createElement(\"script\");\n",
       "  node.appendChild(div);\n",
       "  node.appendChild(script);\n",
       "}\n",
       "\n",
       "/**\n",
       " * Handle when a new output is added\n",
       " */\n",
       "function handle_add_output(event, handle) {\n",
       "  var output_area = handle.output_area;\n",
       "  var output = handle.output;\n",
       "  if ((output.data == undefined) || (!output.data.hasOwnProperty(EXEC_MIME_TYPE))) {\n",
       "    return\n",
       "  }\n",
       "  var id = output.metadata[EXEC_MIME_TYPE][\"id\"];\n",
       "  var toinsert = output_area.element.find(\".\" + CLASS_NAME.split(' ')[0]);\n",
       "  if (id !== undefined) {\n",
       "    var nchildren = toinsert.length;\n",
       "    var html_node = toinsert[nchildren-1].children[0];\n",
       "    html_node.innerHTML = output.data[HTML_MIME_TYPE];\n",
       "    var scripts = [];\n",
       "    var nodelist = html_node.querySelectorAll(\"script\");\n",
       "    for (var i in nodelist) {\n",
       "      if (nodelist.hasOwnProperty(i)) {\n",
       "        scripts.push(nodelist[i])\n",
       "      }\n",
       "    }\n",
       "\n",
       "    scripts.forEach( function (oldScript) {\n",
       "      var newScript = document.createElement(\"script\");\n",
       "      var attrs = [];\n",
       "      var nodemap = oldScript.attributes;\n",
       "      for (var j in nodemap) {\n",
       "        if (nodemap.hasOwnProperty(j)) {\n",
       "          attrs.push(nodemap[j])\n",
       "        }\n",
       "      }\n",
       "      attrs.forEach(function(attr) { newScript.setAttribute(attr.name, attr.value) });\n",
       "      newScript.appendChild(document.createTextNode(oldScript.innerHTML));\n",
       "      oldScript.parentNode.replaceChild(newScript, oldScript);\n",
       "    });\n",
       "    if (JS_MIME_TYPE in output.data) {\n",
       "      toinsert[nchildren-1].children[1].textContent = output.data[JS_MIME_TYPE];\n",
       "    }\n",
       "    output_area._hv_plot_id = id;\n",
       "    if ((window.Bokeh !== undefined) && (id in Bokeh.index)) {\n",
       "      window.PyViz.plot_index[id] = Bokeh.index[id];\n",
       "    } else {\n",
       "      window.PyViz.plot_index[id] = null;\n",
       "    }\n",
       "  } else if (output.metadata[EXEC_MIME_TYPE][\"server_id\"] !== undefined) {\n",
       "    var bk_div = document.createElement(\"div\");\n",
       "    bk_div.innerHTML = output.data[HTML_MIME_TYPE];\n",
       "    var script_attrs = bk_div.children[0].attributes;\n",
       "    for (var i = 0; i < script_attrs.length; i++) {\n",
       "      toinsert[toinsert.length - 1].childNodes[1].setAttribute(script_attrs[i].name, script_attrs[i].value);\n",
       "    }\n",
       "    // store reference to server id on output_area\n",
       "    output_area._bokeh_server_id = output.metadata[EXEC_MIME_TYPE][\"server_id\"];\n",
       "  }\n",
       "}\n",
       "\n",
       "/**\n",
       " * Handle when an output is cleared or removed\n",
       " */\n",
       "function handle_clear_output(event, handle) {\n",
       "  var id = handle.cell.output_area._hv_plot_id;\n",
       "  var server_id = handle.cell.output_area._bokeh_server_id;\n",
       "  if (((id === undefined) || !(id in PyViz.plot_index)) && (server_id !== undefined)) { return; }\n",
       "  var comm = window.PyViz.comm_manager.get_client_comm(\"hv-extension-comm\", \"hv-extension-comm\", function () {});\n",
       "  if (server_id !== null) {\n",
       "    comm.send({event_type: 'server_delete', 'id': server_id});\n",
       "    return;\n",
       "  } else if (comm !== null) {\n",
       "    comm.send({event_type: 'delete', 'id': id});\n",
       "  }\n",
       "  delete PyViz.plot_index[id];\n",
       "  if ((window.Bokeh !== undefined) & (id in window.Bokeh.index)) {\n",
       "    var doc = window.Bokeh.index[id].model.document\n",
       "    doc.clear();\n",
       "    const i = window.Bokeh.documents.indexOf(doc);\n",
       "    if (i > -1) {\n",
       "      window.Bokeh.documents.splice(i, 1);\n",
       "    }\n",
       "  }\n",
       "}\n",
       "\n",
       "/**\n",
       " * Handle kernel restart event\n",
       " */\n",
       "function handle_kernel_cleanup(event, handle) {\n",
       "  delete PyViz.comms[\"hv-extension-comm\"];\n",
       "  window.PyViz.plot_index = {}\n",
       "}\n",
       "\n",
       "/**\n",
       " * Handle update_display_data messages\n",
       " */\n",
       "function handle_update_output(event, handle) {\n",
       "  handle_clear_output(event, {cell: {output_area: handle.output_area}})\n",
       "  handle_add_output(event, handle)\n",
       "}\n",
       "\n",
       "function register_renderer(events, OutputArea) {\n",
       "  function append_mime(data, metadata, element) {\n",
       "    // create a DOM node to render to\n",
       "    var toinsert = this.create_output_subarea(\n",
       "    metadata,\n",
       "    CLASS_NAME,\n",
       "    EXEC_MIME_TYPE\n",
       "    );\n",
       "    this.keyboard_manager.register_events(toinsert);\n",
       "    // Render to node\n",
       "    var props = {data: data, metadata: metadata[EXEC_MIME_TYPE]};\n",
       "    render(props, toinsert[0]);\n",
       "    element.append(toinsert);\n",
       "    return toinsert\n",
       "  }\n",
       "\n",
       "  events.on('output_added.OutputArea', handle_add_output);\n",
       "  events.on('output_updated.OutputArea', handle_update_output);\n",
       "  events.on('clear_output.CodeCell', handle_clear_output);\n",
       "  events.on('delete.Cell', handle_clear_output);\n",
       "  events.on('kernel_ready.Kernel', handle_kernel_cleanup);\n",
       "\n",
       "  OutputArea.prototype.register_mime_type(EXEC_MIME_TYPE, append_mime, {\n",
       "    safe: true,\n",
       "    index: 0\n",
       "  });\n",
       "}\n",
       "\n",
       "if (window.Jupyter !== undefined) {\n",
       "  try {\n",
       "    var events = require('base/js/events');\n",
       "    var OutputArea = require('notebook/js/outputarea').OutputArea;\n",
       "    if (OutputArea.prototype.mime_types().indexOf(EXEC_MIME_TYPE) == -1) {\n",
       "      register_renderer(events, OutputArea);\n",
       "    }\n",
       "  } catch(err) {\n",
       "  }\n",
       "}\n"
      ],
      "application/vnd.holoviews_load.v0+json": "\nif ((window.PyViz === undefined) || (window.PyViz instanceof HTMLElement)) {\n  window.PyViz = {comms: {}, comm_status:{}, kernels:{}, receivers: {}, plot_index: []}\n}\n\n\n    function JupyterCommManager() {\n    }\n\n    JupyterCommManager.prototype.register_target = function(plot_id, comm_id, msg_handler) {\n      if (window.comm_manager || ((window.Jupyter !== undefined) && (Jupyter.notebook.kernel != null))) {\n        var comm_manager = window.comm_manager || Jupyter.notebook.kernel.comm_manager;\n        comm_manager.register_target(comm_id, function(comm) {\n          comm.on_msg(msg_handler);\n        });\n      } else if ((plot_id in window.PyViz.kernels) && (window.PyViz.kernels[plot_id])) {\n        window.PyViz.kernels[plot_id].registerCommTarget(comm_id, function(comm) {\n          comm.onMsg = msg_handler;\n        });\n      } else if (typeof google != 'undefined' && google.colab.kernel != null) {\n        google.colab.kernel.comms.registerTarget(comm_id, (comm) => {\n          var messages = comm.messages[Symbol.asyncIterator]();\n          function processIteratorResult(result) {\n            var message = result.value;\n            console.log(message)\n            var content = {data: message.data, comm_id};\n            var buffers = []\n            for (var buffer of message.buffers || []) {\n              buffers.push(new DataView(buffer))\n            }\n            var metadata = message.metadata || {};\n            var msg = {content, buffers, metadata}\n            msg_handler(msg);\n            return messages.next().then(processIteratorResult);\n          }\n          return messages.next().then(processIteratorResult);\n        })\n      }\n    }\n\n    JupyterCommManager.prototype.get_client_comm = function(plot_id, comm_id, msg_handler) {\n      if (comm_id in window.PyViz.comms) {\n        return window.PyViz.comms[comm_id];\n      } else if (window.comm_manager || ((window.Jupyter !== undefined) && (Jupyter.notebook.kernel != null))) {\n        var comm_manager = window.comm_manager || Jupyter.notebook.kernel.comm_manager;\n        var comm = comm_manager.new_comm(comm_id, {}, {}, {}, comm_id);\n        if (msg_handler) {\n          comm.on_msg(msg_handler);\n        }\n      } else if ((plot_id in window.PyViz.kernels) && (window.PyViz.kernels[plot_id])) {\n        var comm = window.PyViz.kernels[plot_id].connectToComm(comm_id);\n        comm.open();\n        if (msg_handler) {\n          comm.onMsg = msg_handler;\n        }\n      } else if (typeof google != 'undefined' && google.colab.kernel != null) {\n        var comm_promise = google.colab.kernel.comms.open(comm_id)\n        comm_promise.then((comm) => {\n          window.PyViz.comms[comm_id] = comm;\n          if (msg_handler) {\n            var messages = comm.messages[Symbol.asyncIterator]();\n            function processIteratorResult(result) {\n              var message = result.value;\n              var content = {data: message.data};\n              var metadata = message.metadata || {comm_id};\n              var msg = {content, metadata}\n              msg_handler(msg);\n              return messages.next().then(processIteratorResult);\n            }\n            return messages.next().then(processIteratorResult);\n          }\n        }) \n        var sendClosure = (data, metadata, buffers, disposeOnDone) => {\n          return comm_promise.then((comm) => {\n            comm.send(data, metadata, buffers, disposeOnDone);\n          });\n        };\n        var comm = {\n          send: sendClosure\n        };\n      }\n      window.PyViz.comms[comm_id] = comm;\n      return comm;\n    }\n    window.PyViz.comm_manager = new JupyterCommManager();\n    \n\n\nvar JS_MIME_TYPE = 'application/javascript';\nvar HTML_MIME_TYPE = 'text/html';\nvar EXEC_MIME_TYPE = 'application/vnd.holoviews_exec.v0+json';\nvar CLASS_NAME = 'output';\n\n/**\n * Render data to the DOM node\n */\nfunction render(props, node) {\n  var div = document.createElement(\"div\");\n  var script = document.createElement(\"script\");\n  node.appendChild(div);\n  node.appendChild(script);\n}\n\n/**\n * Handle when a new output is added\n */\nfunction handle_add_output(event, handle) {\n  var output_area = handle.output_area;\n  var output = handle.output;\n  if ((output.data == undefined) || (!output.data.hasOwnProperty(EXEC_MIME_TYPE))) {\n    return\n  }\n  var id = output.metadata[EXEC_MIME_TYPE][\"id\"];\n  var toinsert = output_area.element.find(\".\" + CLASS_NAME.split(' ')[0]);\n  if (id !== undefined) {\n    var nchildren = toinsert.length;\n    var html_node = toinsert[nchildren-1].children[0];\n    html_node.innerHTML = output.data[HTML_MIME_TYPE];\n    var scripts = [];\n    var nodelist = html_node.querySelectorAll(\"script\");\n    for (var i in nodelist) {\n      if (nodelist.hasOwnProperty(i)) {\n        scripts.push(nodelist[i])\n      }\n    }\n\n    scripts.forEach( function (oldScript) {\n      var newScript = document.createElement(\"script\");\n      var attrs = [];\n      var nodemap = oldScript.attributes;\n      for (var j in nodemap) {\n        if (nodemap.hasOwnProperty(j)) {\n          attrs.push(nodemap[j])\n        }\n      }\n      attrs.forEach(function(attr) { newScript.setAttribute(attr.name, attr.value) });\n      newScript.appendChild(document.createTextNode(oldScript.innerHTML));\n      oldScript.parentNode.replaceChild(newScript, oldScript);\n    });\n    if (JS_MIME_TYPE in output.data) {\n      toinsert[nchildren-1].children[1].textContent = output.data[JS_MIME_TYPE];\n    }\n    output_area._hv_plot_id = id;\n    if ((window.Bokeh !== undefined) && (id in Bokeh.index)) {\n      window.PyViz.plot_index[id] = Bokeh.index[id];\n    } else {\n      window.PyViz.plot_index[id] = null;\n    }\n  } else if (output.metadata[EXEC_MIME_TYPE][\"server_id\"] !== undefined) {\n    var bk_div = document.createElement(\"div\");\n    bk_div.innerHTML = output.data[HTML_MIME_TYPE];\n    var script_attrs = bk_div.children[0].attributes;\n    for (var i = 0; i < script_attrs.length; i++) {\n      toinsert[toinsert.length - 1].childNodes[1].setAttribute(script_attrs[i].name, script_attrs[i].value);\n    }\n    // store reference to server id on output_area\n    output_area._bokeh_server_id = output.metadata[EXEC_MIME_TYPE][\"server_id\"];\n  }\n}\n\n/**\n * Handle when an output is cleared or removed\n */\nfunction handle_clear_output(event, handle) {\n  var id = handle.cell.output_area._hv_plot_id;\n  var server_id = handle.cell.output_area._bokeh_server_id;\n  if (((id === undefined) || !(id in PyViz.plot_index)) && (server_id !== undefined)) { return; }\n  var comm = window.PyViz.comm_manager.get_client_comm(\"hv-extension-comm\", \"hv-extension-comm\", function () {});\n  if (server_id !== null) {\n    comm.send({event_type: 'server_delete', 'id': server_id});\n    return;\n  } else if (comm !== null) {\n    comm.send({event_type: 'delete', 'id': id});\n  }\n  delete PyViz.plot_index[id];\n  if ((window.Bokeh !== undefined) & (id in window.Bokeh.index)) {\n    var doc = window.Bokeh.index[id].model.document\n    doc.clear();\n    const i = window.Bokeh.documents.indexOf(doc);\n    if (i > -1) {\n      window.Bokeh.documents.splice(i, 1);\n    }\n  }\n}\n\n/**\n * Handle kernel restart event\n */\nfunction handle_kernel_cleanup(event, handle) {\n  delete PyViz.comms[\"hv-extension-comm\"];\n  window.PyViz.plot_index = {}\n}\n\n/**\n * Handle update_display_data messages\n */\nfunction handle_update_output(event, handle) {\n  handle_clear_output(event, {cell: {output_area: handle.output_area}})\n  handle_add_output(event, handle)\n}\n\nfunction register_renderer(events, OutputArea) {\n  function append_mime(data, metadata, element) {\n    // create a DOM node to render to\n    var toinsert = this.create_output_subarea(\n    metadata,\n    CLASS_NAME,\n    EXEC_MIME_TYPE\n    );\n    this.keyboard_manager.register_events(toinsert);\n    // Render to node\n    var props = {data: data, metadata: metadata[EXEC_MIME_TYPE]};\n    render(props, toinsert[0]);\n    element.append(toinsert);\n    return toinsert\n  }\n\n  events.on('output_added.OutputArea', handle_add_output);\n  events.on('output_updated.OutputArea', handle_update_output);\n  events.on('clear_output.CodeCell', handle_clear_output);\n  events.on('delete.Cell', handle_clear_output);\n  events.on('kernel_ready.Kernel', handle_kernel_cleanup);\n\n  OutputArea.prototype.register_mime_type(EXEC_MIME_TYPE, append_mime, {\n    safe: true,\n    index: 0\n  });\n}\n\nif (window.Jupyter !== undefined) {\n  try {\n    var events = require('base/js/events');\n    var OutputArea = require('notebook/js/outputarea').OutputArea;\n    if (OutputArea.prototype.mime_types().indexOf(EXEC_MIME_TYPE) == -1) {\n      register_renderer(events, OutputArea);\n    }\n  } catch(err) {\n  }\n}\n"
     },
     "metadata": {},
     "output_type": "display_data"
    }
   ],
   "source": [
    "import param\n",
    "import panel as pn\n",
    "import numpy as np\n",
    "import pandas as pd\n",
    "pn.extension()"
   ]
  },
  {
   "cell_type": "markdown",
   "id": "cb26e310-9502-4632-85f4-99c4e3acc99f",
   "metadata": {},
   "source": [
    "START with a simple reaction:\n",
    "A->B:\n",
    "a. dB/dt=-dA/dt=k[A]\n",
    "b. [A]=[A]t0 * e^(-kt)\n",
    "\n"
   ]
  },
  {
   "cell_type": "code",
   "execution_count": 13,
   "id": "f7546767-4556-4800-8a6f-4a70fd18bcde",
   "metadata": {},
   "outputs": [
    {
     "ename": "SyntaxError",
     "evalue": "positional argument follows keyword argument (2843856129.py, line 4)",
     "output_type": "error",
     "traceback": [
      "\u001b[0;36m  File \u001b[0;32m\"/var/folders/dm/b13csy3d1554_t20p2qt31th0000gq/T/ipykernel_2890/2843856129.py\"\u001b[0;36m, line \u001b[0;32m4\u001b[0m\n\u001b[0;31m    y = param.Range(default=(2,3),param.List([1,2,3,4,5,6,7,8]))\u001b[0m\n\u001b[0m                                                               ^\u001b[0m\n\u001b[0;31mSyntaxError\u001b[0m\u001b[0;31m:\u001b[0m positional argument follows keyword argument\n"
     ]
    }
   ],
   "source": [
    "class BaseClass(param.Parameterized):\n",
    "    x = param.Parameter(default=3.14, doc=\"X position\")\n",
    "    y = param.Range(default=(2,3),bounds=(1,7),step=.5)"
   ]
  },
  {
   "cell_type": "code",
   "execution_count": 12,
   "id": "4add4084-c07d-4875-9a93-83ace7511c2e",
   "metadata": {},
   "outputs": [
    {
     "data": {},
     "metadata": {},
     "output_type": "display_data"
    },
    {
     "data": {
      "application/vnd.holoviews_exec.v0+json": "",
      "text/html": [
       "<div id='1009'>\n",
       "\n",
       "\n",
       "\n",
       "\n",
       "\n",
       "  <div class=\"bk-root\" id=\"d39bf06c-aa42-4d84-bdf0-9711a7afb725\" data-root-id=\"1009\"></div>\n",
       "</div>\n",
       "<script type=\"application/javascript\">(function(root) {\n",
       "  function embed_document(root) {\n",
       "    var docs_json = {\"0f7c516e-a610-44ec-9998-86e80ca8f3f4\":{\"defs\":[{\"extends\":null,\"module\":null,\"name\":\"ReactiveHTML1\",\"overrides\":[],\"properties\":[]},{\"extends\":null,\"module\":null,\"name\":\"FlexBox1\",\"overrides\":[],\"properties\":[{\"default\":\"flex-start\",\"kind\":null,\"name\":\"align_content\"},{\"default\":\"flex-start\",\"kind\":null,\"name\":\"align_items\"},{\"default\":\"row\",\"kind\":null,\"name\":\"flex_direction\"},{\"default\":\"wrap\",\"kind\":null,\"name\":\"flex_wrap\"},{\"default\":\"flex-start\",\"kind\":null,\"name\":\"justify_content\"}]},{\"extends\":null,\"module\":null,\"name\":\"TemplateActions1\",\"overrides\":[],\"properties\":[{\"default\":0,\"kind\":null,\"name\":\"open_modal\"},{\"default\":0,\"kind\":null,\"name\":\"close_modal\"}]},{\"extends\":null,\"module\":null,\"name\":\"MaterialTemplateActions1\",\"overrides\":[],\"properties\":[{\"default\":0,\"kind\":null,\"name\":\"open_modal\"},{\"default\":0,\"kind\":null,\"name\":\"close_modal\"}]}],\"roots\":{\"references\":[{\"attributes\":{\"margin\":[5,10,5,10],\"name\":\"\",\"text\":\"<b>BaseClass</b>\"},\"id\":\"1011\",\"type\":\"Div\"},{\"attributes\":{\"children\":[{\"id\":\"1011\"},{\"id\":\"1012\"},{\"id\":\"1013\"}],\"margin\":[5,5,5,5],\"min_width\":300,\"name\":\"BaseClass\",\"width\":300},\"id\":\"1010\",\"type\":\"Column\"},{\"attributes\":{\"reload\":false},\"id\":\"1015\",\"type\":\"panel.models.location.Location\"},{\"attributes\":{\"end\":7,\"margin\":[5,10,5,10],\"start\":1,\"step\":0.5,\"title\":\"Y\",\"value\":[2,3]},\"id\":\"1013\",\"type\":\"RangeSlider\"},{\"attributes\":{\"client_comm_id\":\"2234ba02322c4b1cb792066cf99f890c\",\"comm_id\":\"0d54e62c06de4dc3a92b9ece22c9d6a8\",\"plot_id\":\"1009\"},\"id\":\"1014\",\"type\":\"panel.models.comm_manager.CommManager\"},{\"attributes\":{\"children\":[{\"id\":\"1010\"}],\"margin\":[0,0,0,0],\"name\":\"Row00123\"},\"id\":\"1009\",\"type\":\"Row\"},{\"attributes\":{\"margin\":[5,10,5,10],\"title\":\"X\",\"value\":\"3.14\"},\"id\":\"1012\",\"type\":\"TextInput\"}],\"root_ids\":[\"1009\",\"1014\",\"1015\"]},\"title\":\"Bokeh Application\",\"version\":\"2.3.3\"}};\n",
       "    var render_items = [{\"docid\":\"0f7c516e-a610-44ec-9998-86e80ca8f3f4\",\"root_ids\":[\"1009\"],\"roots\":{\"1009\":\"d39bf06c-aa42-4d84-bdf0-9711a7afb725\"}}];\n",
       "    root.Bokeh.embed.embed_items_notebook(docs_json, render_items);\n",
       "  }\n",
       "  if (root.Bokeh !== undefined && root.Bokeh.Panel !== undefined) {\n",
       "    embed_document(root);\n",
       "  } else {\n",
       "    var attempts = 0;\n",
       "    var timer = setInterval(function(root) {\n",
       "      if (root.Bokeh !== undefined && root.Bokeh.Panel !== undefined) {\n",
       "        clearInterval(timer);\n",
       "        embed_document(root);\n",
       "      } else if (document.readyState == \"complete\") {\n",
       "        attempts++;\n",
       "        if (attempts > 200) {\n",
       "          clearInterval(timer);\n",
       "          console.log(\"Bokeh: ERROR: Unable to run BokehJS code because BokehJS library is missing\");\n",
       "        }\n",
       "      }\n",
       "    }, 25, root)\n",
       "  }\n",
       "})(window);</script>"
      ],
      "text/plain": [
       "Row\n",
       "    [0] Column(margin=5, name='BaseClass', width=300)\n",
       "        [0] StaticText(value='<b>BaseClass</b>')\n",
       "        [1] LiteralInput(name='X', value=3.14)\n",
       "        [2] RangeSlider(end=7, name='Y', start=1, step=0.5, value=(2, 3), value_end=3, value_start=2)"
      ]
     },
     "execution_count": 12,
     "metadata": {
      "application/vnd.holoviews_exec.v0+json": {
       "id": "1009"
      }
     },
     "output_type": "execute_result"
    }
   ],
   "source": [
    "base=BaseClass()\n",
    "pn.Row(base)"
   ]
  },
  {
   "cell_type": "code",
   "execution_count": 110,
   "id": "d4a1d584-8881-4b9c-9b81-cfa1cce3c4c2",
   "metadata": {},
   "outputs": [],
   "source": [
    "df=pd.DataFrame.from_dict({'x':[3,4,5],'y':[1,3,13]})\n",
    "source=ColumnDataSource(data=ColumnDataSource.from_df(df))"
   ]
  },
  {
   "cell_type": "code",
   "execution_count": 111,
   "id": "439dea4a-944a-41a5-866e-eb96e1b87ce5",
   "metadata": {},
   "outputs": [
    {
     "data": {
      "text/plain": [
       "{'index': array([0, 1, 2]), 'x': array([3, 4, 5]), 'y': array([ 1,  3, 13])}"
      ]
     },
     "execution_count": 111,
     "metadata": {},
     "output_type": "execute_result"
    }
   ],
   "source": [
    "source.data"
   ]
  },
  {
   "cell_type": "code",
   "execution_count": 166,
   "id": "6caa28e3-e2c9-412c-815a-c6404a7d3a52",
   "metadata": {},
   "outputs": [
    {
     "data": {},
     "metadata": {},
     "output_type": "display_data"
    },
    {
     "data": {
      "application/vnd.holoviews_exec.v0+json": "",
      "text/html": [
       "<div id='14696'>\n",
       "\n",
       "\n",
       "\n",
       "\n",
       "\n",
       "  <div class=\"bk-root\" id=\"6f90b405-7b58-47bc-87e8-8181e750639e\" data-root-id=\"14696\"></div>\n",
       "</div>\n",
       "<script type=\"application/javascript\">(function(root) {\n",
       "  function embed_document(root) {\n",
       "    var docs_json = {\"8f42d6c7-f4ce-4282-be72-430dcab84f84\":{\"defs\":[{\"extends\":null,\"module\":null,\"name\":\"ReactiveHTML1\",\"overrides\":[],\"properties\":[]},{\"extends\":null,\"module\":null,\"name\":\"FlexBox1\",\"overrides\":[],\"properties\":[{\"default\":\"flex-start\",\"kind\":null,\"name\":\"align_content\"},{\"default\":\"flex-start\",\"kind\":null,\"name\":\"align_items\"},{\"default\":\"row\",\"kind\":null,\"name\":\"flex_direction\"},{\"default\":\"wrap\",\"kind\":null,\"name\":\"flex_wrap\"},{\"default\":\"flex-start\",\"kind\":null,\"name\":\"justify_content\"}]},{\"extends\":null,\"module\":null,\"name\":\"TemplateActions1\",\"overrides\":[],\"properties\":[{\"default\":0,\"kind\":null,\"name\":\"open_modal\"},{\"default\":0,\"kind\":null,\"name\":\"close_modal\"}]},{\"extends\":null,\"module\":null,\"name\":\"MaterialTemplateActions1\",\"overrides\":[],\"properties\":[{\"default\":0,\"kind\":null,\"name\":\"open_modal\"},{\"default\":0,\"kind\":null,\"name\":\"close_modal\"}]}],\"roots\":{\"references\":[{\"attributes\":{},\"id\":\"14670\",\"type\":\"BasicTicker\"},{\"attributes\":{\"end\":7,\"margin\":[5,10,5,10],\"start\":1,\"step\":0.5,\"title\":\"Base\",\"value\":[2,3]},\"id\":\"14697\",\"type\":\"RangeSlider\"},{\"attributes\":{},\"id\":\"14704\",\"type\":\"BasicTickFormatter\"},{\"attributes\":{},\"id\":\"14699\",\"type\":\"Title\"},{\"attributes\":{},\"id\":\"14705\",\"type\":\"AllLabels\"},{\"attributes\":{},\"id\":\"14665\",\"type\":\"LinearScale\"},{\"attributes\":{\"overlay\":{\"id\":\"14683\"}},\"id\":\"14679\",\"type\":\"BoxZoomTool\"},{\"attributes\":{},\"id\":\"14677\",\"type\":\"PanTool\"},{\"attributes\":{\"children\":[{\"id\":\"14697\"},{\"id\":\"14698\"}],\"margin\":[0,0,0,0],\"name\":\"Row01520\"},\"id\":\"14696\",\"type\":\"Row\"},{\"attributes\":{},\"id\":\"14707\",\"type\":\"UnionRenderers\"},{\"attributes\":{},\"id\":\"14681\",\"type\":\"ResetTool\"},{\"attributes\":{\"fill_color\":{\"value\":\"#1f77b4\"},\"line_color\":{\"value\":\"#1f77b4\"},\"x\":{\"field\":\"x\"},\"y\":{\"field\":\"y\"}},\"id\":\"14692\",\"type\":\"Circle\"},{\"attributes\":{},\"id\":\"14708\",\"type\":\"Selection\"},{\"attributes\":{\"axis\":{\"id\":\"14669\"},\"ticker\":null},\"id\":\"14672\",\"type\":\"Grid\"},{\"attributes\":{\"bottom_units\":\"screen\",\"fill_alpha\":0.5,\"fill_color\":\"lightgrey\",\"left_units\":\"screen\",\"level\":\"overlay\",\"line_alpha\":1.0,\"line_color\":\"black\",\"line_dash\":[4,4],\"line_width\":2,\"right_units\":\"screen\",\"syncable\":false,\"top_units\":\"screen\"},\"id\":\"14683\",\"type\":\"BoxAnnotation\"},{\"attributes\":{},\"id\":\"14661\",\"type\":\"DataRange1d\"},{\"attributes\":{\"formatter\":{\"id\":\"14704\"},\"major_label_policy\":{\"id\":\"14705\"},\"ticker\":{\"id\":\"14674\"}},\"id\":\"14673\",\"type\":\"LinearAxis\"},{\"attributes\":{\"fill_alpha\":{\"value\":0.1},\"fill_color\":{\"value\":\"#1f77b4\"},\"line_alpha\":{\"value\":0.1},\"line_color\":{\"value\":\"#1f77b4\"},\"x\":{\"field\":\"x\"},\"y\":{\"field\":\"y\"}},\"id\":\"14693\",\"type\":\"Circle\"},{\"attributes\":{},\"id\":\"14701\",\"type\":\"BasicTickFormatter\"},{\"attributes\":{\"active_multi\":null,\"tools\":[{\"id\":\"14677\"},{\"id\":\"14678\"},{\"id\":\"14679\"},{\"id\":\"14680\"},{\"id\":\"14681\"},{\"id\":\"14682\"}]},\"id\":\"14684\",\"type\":\"Toolbar\"},{\"attributes\":{\"client_comm_id\":\"61488c8213ad458a962704ac22736297\",\"comm_id\":\"14568c87c7914a0f87dc7c10238146b2\",\"plot_id\":\"14696\"},\"id\":\"14754\",\"type\":\"panel.models.comm_manager.CommManager\"},{\"attributes\":{},\"id\":\"14667\",\"type\":\"LinearScale\"},{\"attributes\":{},\"id\":\"14702\",\"type\":\"AllLabels\"},{\"attributes\":{},\"id\":\"14682\",\"type\":\"HelpTool\"},{\"attributes\":{\"formatter\":{\"id\":\"14701\"},\"major_label_policy\":{\"id\":\"14702\"},\"ticker\":{\"id\":\"14670\"}},\"id\":\"14669\",\"type\":\"LinearAxis\"},{\"attributes\":{\"source\":{\"id\":\"14659\"}},\"id\":\"14695\",\"type\":\"CDSView\"},{\"attributes\":{\"data_source\":{\"id\":\"14659\"},\"glyph\":{\"id\":\"14692\"},\"hover_glyph\":null,\"muted_glyph\":null,\"nonselection_glyph\":{\"id\":\"14693\"},\"view\":{\"id\":\"14695\"}},\"id\":\"14694\",\"type\":\"GlyphRenderer\"},{\"attributes\":{\"axis\":{\"id\":\"14673\"},\"dimension\":1,\"ticker\":null},\"id\":\"14676\",\"type\":\"Grid\"},{\"attributes\":{},\"id\":\"14674\",\"type\":\"BasicTicker\"},{\"attributes\":{},\"id\":\"14680\",\"type\":\"SaveTool\"},{\"attributes\":{},\"id\":\"14663\",\"type\":\"DataRange1d\"},{\"attributes\":{\"children\":[{\"id\":\"14660\"}],\"margin\":[0,0,0,0],\"name\":\"Row01515\"},\"id\":\"14698\",\"type\":\"Row\"},{\"attributes\":{},\"id\":\"14678\",\"type\":\"WheelZoomTool\"},{\"attributes\":{\"below\":[{\"id\":\"14669\"}],\"center\":[{\"id\":\"14672\"},{\"id\":\"14676\"}],\"height\":200,\"left\":[{\"id\":\"14673\"}],\"renderers\":[{\"id\":\"14694\"}],\"title\":{\"id\":\"14699\"},\"toolbar\":{\"id\":\"14684\"},\"width\":400,\"x_range\":{\"id\":\"14661\"},\"x_scale\":{\"id\":\"14665\"},\"y_range\":{\"id\":\"14663\"},\"y_scale\":{\"id\":\"14667\"}},\"id\":\"14660\",\"subtype\":\"Figure\",\"type\":\"Plot\"},{\"attributes\":{\"data\":{\"index\":[0,1,2],\"x\":[3,4,5],\"y\":[1,3,45]},\"selected\":{\"id\":\"14708\"},\"selection_policy\":{\"id\":\"14707\"}},\"id\":\"14659\",\"type\":\"ColumnDataSource\"}],\"root_ids\":[\"14696\",\"14754\"]},\"title\":\"Bokeh Application\",\"version\":\"2.3.3\"}};\n",
       "    var render_items = [{\"docid\":\"8f42d6c7-f4ce-4282-be72-430dcab84f84\",\"root_ids\":[\"14696\"],\"roots\":{\"14696\":\"6f90b405-7b58-47bc-87e8-8181e750639e\"}}];\n",
       "    root.Bokeh.embed.embed_items_notebook(docs_json, render_items);\n",
       "  }\n",
       "  if (root.Bokeh !== undefined && root.Bokeh.Panel !== undefined) {\n",
       "    embed_document(root);\n",
       "  } else {\n",
       "    var attempts = 0;\n",
       "    var timer = setInterval(function(root) {\n",
       "      if (root.Bokeh !== undefined && root.Bokeh.Panel !== undefined) {\n",
       "        clearInterval(timer);\n",
       "        embed_document(root);\n",
       "      } else if (document.readyState == \"complete\") {\n",
       "        attempts++;\n",
       "        if (attempts > 200) {\n",
       "          clearInterval(timer);\n",
       "          console.log(\"Bokeh: ERROR: Unable to run BokehJS code because BokehJS library is missing\");\n",
       "        }\n",
       "      }\n",
       "    }, 25, root)\n",
       "  }\n",
       "})(window);</script>"
      ],
      "text/plain": [
       "Row\n",
       "    [0] RangeSlider(end=7, name='Base', start=1, step=0.5, value=(2, 3), value_end=3, value_start=2)\n",
       "    [1] ParamMethod(method)"
      ]
     },
     "execution_count": 166,
     "metadata": {
      "application/vnd.holoviews_exec.v0+json": {
       "id": "14696"
      }
     },
     "output_type": "execute_result"
    }
   ],
   "source": [
    "from bokeh.plotting import figure\n",
    "from bokeh.models import ColumnDataSource\n",
    "\n",
    "class kinviewer(param.Parameterized):\n",
    "    df=pd.DataFrame.from_dict({'x':[3,4,5],'y':[1,3,13]})\n",
    "    source=ColumnDataSource(data=ColumnDataSource.from_df(df))    \n",
    "    base=param.Range(default=(2,3),bounds=(1,7),step=.5)\n",
    "    p=figure(height=200,width=400)\n",
    "    #p.plot_width=300\n",
    "    #p.plot_height=200\n",
    "    #counter=0\n",
    "    \n",
    "    @param.depends('base')\n",
    "    def plot_view(self):\n",
    "        #self.counter+=1\n",
    "        #self.source=ColumnDataSource(self.df)        \n",
    "        #self.source.data={'x':[1,3,20],'y':[1,5,self.base[-1]*5]}\n",
    "        self.source.data=ColumnDataSource.from_df(df)    \n",
    "        self.source.data['y'][-1]=self.base[-1]*15\n",
    "        self.p.circle(x='x',y='y',source=self.source)\n",
    "        return pn.pane.Bokeh(self.p)\n",
    "kv=kinviewer()\n",
    "pn.Row(kv.param.base,kv.plot_view)"
   ]
  },
  {
   "cell_type": "code",
   "execution_count": 153,
   "id": "1216c7b1-3e34-4098-a0b4-7447cb47831f",
   "metadata": {},
   "outputs": [
    {
     "name": "stdout",
     "output_type": "stream",
     "text": [
      "stuff3\n"
     ]
    }
   ],
   "source": [
    "kv.base=(1,5)"
   ]
  },
  {
   "cell_type": "code",
   "execution_count": 145,
   "id": "48748f24-88b9-45eb-a1c4-4f813d0ea1e9",
   "metadata": {},
   "outputs": [
    {
     "name": "stdout",
     "output_type": "stream",
     "text": [
      "(2, 3)\n",
      "{'x': [1, 3, 20], 'y': [1, 5, 27.5]}\n",
      "1\n"
     ]
    }
   ],
   "source": [
    "print(kv.base.y)\n",
    "print(kv.source.data)\n",
    "print(kv.counter)"
   ]
  },
  {
   "cell_type": "code",
   "execution_count": 70,
   "id": "3763e780-4a63-42bc-8093-abda9ba6771d",
   "metadata": {},
   "outputs": [
    {
     "data": {
      "text/plain": [
       "3"
      ]
     },
     "execution_count": 70,
     "metadata": {},
     "output_type": "execute_result"
    }
   ],
   "source": [
    "#class Binding"
   ]
  },
  {
   "cell_type": "code",
   "execution_count": null,
   "id": "8dfd7ee1-d778-4559-93c3-0f3e989342f5",
   "metadata": {},
   "outputs": [],
   "source": []
  },
  {
   "cell_type": "code",
   "execution_count": 2,
   "id": "2a146984-d2c6-40d3-a6af-e8d2ad259391",
   "metadata": {},
   "outputs": [],
   "source": [
    "#first set up timescale\n",
    "seconds=np.arange(0,10*60,1)"
   ]
  },
  {
   "cell_type": "code",
   "execution_count": 3,
   "id": "4171f95a-ce23-41c5-ac78-89452a469320",
   "metadata": {},
   "outputs": [],
   "source": [
    "Ainit=10e-6\n",
    "k=1e-2"
   ]
  },
  {
   "cell_type": "code",
   "execution_count": 4,
   "id": "342ce8dd-a43d-4f36-b291-f534c31442c9",
   "metadata": {},
   "outputs": [
    {
     "data": {
      "text/plain": [
       "(0.0, 1e-05)"
      ]
     },
     "execution_count": 4,
     "metadata": {},
     "output_type": "execute_result"
    },
    {
     "data": {
      "image/png": "[encoded data removed]",
      "text/plain": [
       "<Figure size 432x288 with 1 Axes>"
      ]
     },
     "metadata": {
      "needs_background": "light"
     },
     "output_type": "display_data"
    }
   ],
   "source": [
    "A=Ainit*np.exp(-k*seconds)\n",
    "plt.plot(seconds,A)\n",
    "plt.ylim(0,Ainit)"
   ]
  },
  {
   "cell_type": "code",
   "execution_count": 17,
   "id": "a3b78db2-861a-4512-9397-cb34d2242d07",
   "metadata": {},
   "outputs": [
    {
     "data": {
      "text/plain": [
       "array([0])"
      ]
     },
     "execution_count": 17,
     "metadata": {},
     "output_type": "execute_result"
    }
   ],
   "source": [
    "seconds"
   ]
  },
  {
   "cell_type": "code",
   "execution_count": 6,
   "id": "0ee53c65-115f-4c36-ac39-86bddf6ab63b",
   "metadata": {},
   "outputs": [],
   "source": [
    "float_slider = pn.widgets.FloatSlider(name='Float Slider', start=0, end=3.141, step=0.01, value=1.57)"
   ]
  },
  {
   "cell_type": "code",
   "execution_count": 9,
   "id": "57823b44-df4b-4d8f-81bf-f3ad79b9658d",
   "metadata": {},
   "outputs": [
    {
     "data": {
      "text/html": [
       "\n",
       "<pre>Traceback (most recent call last):\n",
       "  File &quot;C:\\Users\\kvand\\kvmcode\\thermoviz\\venv_thermoviz\\lib\\site-packages\\pyviz_comms\\__init__.py&quot;, line 325, in _handle_msg\n",
       "    self._on_msg(msg)\n",
       "  File &quot;C:\\Users\\kvand\\kvmcode\\thermoviz\\venv_thermoviz\\lib\\site-packages\\panel\\viewable.py&quot;, line 261, in _on_msg\n",
       "    doc.unhold()\n",
       "  File &quot;C:\\Users\\kvand\\kvmcode\\thermoviz\\venv_thermoviz\\lib\\site-packages\\bokeh\\document\\document.py&quot;, line 669, in unhold\n",
       "    self._trigger_on_change(event)\n",
       "  File &quot;C:\\Users\\kvand\\kvmcode\\thermoviz\\venv_thermoviz\\lib\\site-packages\\bokeh\\document\\document.py&quot;, line 1180, in _trigger_on_change\n",
       "    self._with_self_as_curdoc(event.callback_invoker)\n",
       "  File &quot;C:\\Users\\kvand\\kvmcode\\thermoviz\\venv_thermoviz\\lib\\site-packages\\bokeh\\document\\document.py&quot;, line 1198, in _with_self_as_curdoc\n",
       "    return f()\n",
       "  File &quot;C:\\Users\\kvand\\kvmcode\\thermoviz\\venv_thermoviz\\lib\\site-packages\\bokeh\\util\\callback_manager.py&quot;, line 161, in invoke\n",
       "    callback(attr, old, new)\n",
       "  File &quot;C:\\Users\\kvand\\kvmcode\\thermoviz\\venv_thermoviz\\lib\\site-packages\\panel\\reactive.py&quot;, line 273, in _comm_change\n",
       "    self._process_events({attr: new})\n",
       "  File &quot;C:\\Users\\kvand\\kvmcode\\thermoviz\\venv_thermoviz\\lib\\site-packages\\panel\\reactive.py&quot;, line 245, in _process_events\n",
       "    self.param.set_param(**self._process_property_change(events))\n",
       "  File &quot;C:\\Users\\kvand\\kvmcode\\thermoviz\\venv_thermoviz\\lib\\site-packages\\param\\parameterized.py&quot;, line 1526, in set_param\n",
       "    self_._batch_call_watchers()\n",
       "  File &quot;C:\\Users\\kvand\\kvmcode\\thermoviz\\venv_thermoviz\\lib\\site-packages\\param\\parameterized.py&quot;, line 1665, in _batch_call_watchers\n",
       "    self_._execute_watcher(watcher, events)\n",
       "  File &quot;C:\\Users\\kvand\\kvmcode\\thermoviz\\venv_thermoviz\\lib\\site-packages\\param\\parameterized.py&quot;, line 1627, in _execute_watcher\n",
       "    watcher.fn(*args, **kwargs)\n",
       "TypeError: cool() takes 0 positional arguments but 1 was given\n",
       "</pre>\n",
       "\n",
       "\n",
       "<pre>Traceback (most recent call last):\n",
       "  File &quot;C:\\Users\\kvand\\kvmcode\\thermoviz\\venv_thermoviz\\lib\\site-packages\\pyviz_comms\\__init__.py&quot;, line 325, in _handle_msg\n",
       "    self._on_msg(msg)\n",
       "  File &quot;C:\\Users\\kvand\\kvmcode\\thermoviz\\venv_thermoviz\\lib\\site-packages\\panel\\viewable.py&quot;, line 261, in _on_msg\n",
       "    doc.unhold()\n",
       "  File &quot;C:\\Users\\kvand\\kvmcode\\thermoviz\\venv_thermoviz\\lib\\site-packages\\bokeh\\document\\document.py&quot;, line 669, in unhold\n",
       "    self._trigger_on_change(event)\n",
       "  File &quot;C:\\Users\\kvand\\kvmcode\\thermoviz\\venv_thermoviz\\lib\\site-packages\\bokeh\\document\\document.py&quot;, line 1180, in _trigger_on_change\n",
       "    self._with_self_as_curdoc(event.callback_invoker)\n",
       "  File &quot;C:\\Users\\kvand\\kvmcode\\thermoviz\\venv_thermoviz\\lib\\site-packages\\bokeh\\document\\document.py&quot;, line 1198, in _with_self_as_curdoc\n",
       "    return f()\n",
       "  File &quot;C:\\Users\\kvand\\kvmcode\\thermoviz\\venv_thermoviz\\lib\\site-packages\\bokeh\\util\\callback_manager.py&quot;, line 161, in invoke\n",
       "    callback(attr, old, new)\n",
       "  File &quot;C:\\Users\\kvand\\kvmcode\\thermoviz\\venv_thermoviz\\lib\\site-packages\\panel\\reactive.py&quot;, line 273, in _comm_change\n",
       "    self._process_events({attr: new})\n",
       "  File &quot;C:\\Users\\kvand\\kvmcode\\thermoviz\\venv_thermoviz\\lib\\site-packages\\panel\\reactive.py&quot;, line 245, in _process_events\n",
       "    self.param.set_param(**self._process_property_change(events))\n",
       "  File &quot;C:\\Users\\kvand\\kvmcode\\thermoviz\\venv_thermoviz\\lib\\site-packages\\param\\parameterized.py&quot;, line 1526, in set_param\n",
       "    self_._batch_call_watchers()\n",
       "  File &quot;C:\\Users\\kvand\\kvmcode\\thermoviz\\venv_thermoviz\\lib\\site-packages\\param\\parameterized.py&quot;, line 1665, in _batch_call_watchers\n",
       "    self_._execute_watcher(watcher, events)\n",
       "  File &quot;C:\\Users\\kvand\\kvmcode\\thermoviz\\venv_thermoviz\\lib\\site-packages\\param\\parameterized.py&quot;, line 1627, in _execute_watcher\n",
       "    watcher.fn(*args, **kwargs)\n",
       "TypeError: cool() takes 0 positional arguments but 1 was given\n",
       "</pre>\n",
       "\n",
       "\n",
       "<pre>Traceback (most recent call last):\n",
       "  File &quot;C:\\Users\\kvand\\kvmcode\\thermoviz\\venv_thermoviz\\lib\\site-packages\\pyviz_comms\\__init__.py&quot;, line 325, in _handle_msg\n",
       "    self._on_msg(msg)\n",
       "  File &quot;C:\\Users\\kvand\\kvmcode\\thermoviz\\venv_thermoviz\\lib\\site-packages\\panel\\viewable.py&quot;, line 261, in _on_msg\n",
       "    doc.unhold()\n",
       "  File &quot;C:\\Users\\kvand\\kvmcode\\thermoviz\\venv_thermoviz\\lib\\site-packages\\bokeh\\document\\document.py&quot;, line 669, in unhold\n",
       "    self._trigger_on_change(event)\n",
       "  File &quot;C:\\Users\\kvand\\kvmcode\\thermoviz\\venv_thermoviz\\lib\\site-packages\\bokeh\\document\\document.py&quot;, line 1180, in _trigger_on_change\n",
       "    self._with_self_as_curdoc(event.callback_invoker)\n",
       "  File &quot;C:\\Users\\kvand\\kvmcode\\thermoviz\\venv_thermoviz\\lib\\site-packages\\bokeh\\document\\document.py&quot;, line 1198, in _with_self_as_curdoc\n",
       "    return f()\n",
       "  File &quot;C:\\Users\\kvand\\kvmcode\\thermoviz\\venv_thermoviz\\lib\\site-packages\\bokeh\\util\\callback_manager.py&quot;, line 161, in invoke\n",
       "    callback(attr, old, new)\n",
       "  File &quot;C:\\Users\\kvand\\kvmcode\\thermoviz\\venv_thermoviz\\lib\\site-packages\\panel\\reactive.py&quot;, line 273, in _comm_change\n",
       "    self._process_events({attr: new})\n",
       "  File &quot;C:\\Users\\kvand\\kvmcode\\thermoviz\\venv_thermoviz\\lib\\site-packages\\panel\\reactive.py&quot;, line 245, in _process_events\n",
       "    self.param.set_param(**self._process_property_change(events))\n",
       "  File &quot;C:\\Users\\kvand\\kvmcode\\thermoviz\\venv_thermoviz\\lib\\site-packages\\param\\parameterized.py&quot;, line 1526, in set_param\n",
       "    self_._batch_call_watchers()\n",
       "  File &quot;C:\\Users\\kvand\\kvmcode\\thermoviz\\venv_thermoviz\\lib\\site-packages\\param\\parameterized.py&quot;, line 1665, in _batch_call_watchers\n",
       "    self_._execute_watcher(watcher, events)\n",
       "  File &quot;C:\\Users\\kvand\\kvmcode\\thermoviz\\venv_thermoviz\\lib\\site-packages\\param\\parameterized.py&quot;, line 1627, in _execute_watcher\n",
       "    watcher.fn(*args, **kwargs)\n",
       "TypeError: cool() takes 0 positional arguments but 1 was given\n",
       "</pre>\n",
       "\n",
       "\n",
       "<pre>Traceback (most recent call last):\n",
       "  File &quot;C:\\Users\\kvand\\kvmcode\\thermoviz\\venv_thermoviz\\lib\\site-packages\\pyviz_comms\\__init__.py&quot;, line 325, in _handle_msg\n",
       "    self._on_msg(msg)\n",
       "  File &quot;C:\\Users\\kvand\\kvmcode\\thermoviz\\venv_thermoviz\\lib\\site-packages\\panel\\viewable.py&quot;, line 261, in _on_msg\n",
       "    doc.unhold()\n",
       "  File &quot;C:\\Users\\kvand\\kvmcode\\thermoviz\\venv_thermoviz\\lib\\site-packages\\bokeh\\document\\document.py&quot;, line 669, in unhold\n",
       "    self._trigger_on_change(event)\n",
       "  File &quot;C:\\Users\\kvand\\kvmcode\\thermoviz\\venv_thermoviz\\lib\\site-packages\\bokeh\\document\\document.py&quot;, line 1180, in _trigger_on_change\n",
       "    self._with_self_as_curdoc(event.callback_invoker)\n",
       "  File &quot;C:\\Users\\kvand\\kvmcode\\thermoviz\\venv_thermoviz\\lib\\site-packages\\bokeh\\document\\document.py&quot;, line 1198, in _with_self_as_curdoc\n",
       "    return f()\n",
       "  File &quot;C:\\Users\\kvand\\kvmcode\\thermoviz\\venv_thermoviz\\lib\\site-packages\\bokeh\\util\\callback_manager.py&quot;, line 161, in invoke\n",
       "    callback(attr, old, new)\n",
       "  File &quot;C:\\Users\\kvand\\kvmcode\\thermoviz\\venv_thermoviz\\lib\\site-packages\\panel\\reactive.py&quot;, line 273, in _comm_change\n",
       "    self._process_events({attr: new})\n",
       "  File &quot;C:\\Users\\kvand\\kvmcode\\thermoviz\\venv_thermoviz\\lib\\site-packages\\panel\\reactive.py&quot;, line 245, in _process_events\n",
       "    self.param.set_param(**self._process_property_change(events))\n",
       "  File &quot;C:\\Users\\kvand\\kvmcode\\thermoviz\\venv_thermoviz\\lib\\site-packages\\param\\parameterized.py&quot;, line 1526, in set_param\n",
       "    self_._batch_call_watchers()\n",
       "  File &quot;C:\\Users\\kvand\\kvmcode\\thermoviz\\venv_thermoviz\\lib\\site-packages\\param\\parameterized.py&quot;, line 1665, in _batch_call_watchers\n",
       "    self_._execute_watcher(watcher, events)\n",
       "  File &quot;C:\\Users\\kvand\\kvmcode\\thermoviz\\venv_thermoviz\\lib\\site-packages\\param\\parameterized.py&quot;, line 1627, in _execute_watcher\n",
       "    watcher.fn(*args, **kwargs)\n",
       "TypeError: cool() takes 0 positional arguments but 1 was given\n",
       "</pre>\n",
       "\n",
       "\n",
       "<pre>Traceback (most recent call last):\n",
       "  File &quot;C:\\Users\\kvand\\kvmcode\\thermoviz\\venv_thermoviz\\lib\\site-packages\\pyviz_comms\\__init__.py&quot;, line 325, in _handle_msg\n",
       "    self._on_msg(msg)\n",
       "  File &quot;C:\\Users\\kvand\\kvmcode\\thermoviz\\venv_thermoviz\\lib\\site-packages\\panel\\viewable.py&quot;, line 261, in _on_msg\n",
       "    doc.unhold()\n",
       "  File &quot;C:\\Users\\kvand\\kvmcode\\thermoviz\\venv_thermoviz\\lib\\site-packages\\bokeh\\document\\document.py&quot;, line 669, in unhold\n",
       "    self._trigger_on_change(event)\n",
       "  File &quot;C:\\Users\\kvand\\kvmcode\\thermoviz\\venv_thermoviz\\lib\\site-packages\\bokeh\\document\\document.py&quot;, line 1180, in _trigger_on_change\n",
       "    self._with_self_as_curdoc(event.callback_invoker)\n",
       "  File &quot;C:\\Users\\kvand\\kvmcode\\thermoviz\\venv_thermoviz\\lib\\site-packages\\bokeh\\document\\document.py&quot;, line 1198, in _with_self_as_curdoc\n",
       "    return f()\n",
       "  File &quot;C:\\Users\\kvand\\kvmcode\\thermoviz\\venv_thermoviz\\lib\\site-packages\\bokeh\\util\\callback_manager.py&quot;, line 161, in invoke\n",
       "    callback(attr, old, new)\n",
       "  File &quot;C:\\Users\\kvand\\kvmcode\\thermoviz\\venv_thermoviz\\lib\\site-packages\\panel\\reactive.py&quot;, line 273, in _comm_change\n",
       "    self._process_events({attr: new})\n",
       "  File &quot;C:\\Users\\kvand\\kvmcode\\thermoviz\\venv_thermoviz\\lib\\site-packages\\panel\\reactive.py&quot;, line 245, in _process_events\n",
       "    self.param.set_param(**self._process_property_change(events))\n",
       "  File &quot;C:\\Users\\kvand\\kvmcode\\thermoviz\\venv_thermoviz\\lib\\site-packages\\param\\parameterized.py&quot;, line 1526, in set_param\n",
       "    self_._batch_call_watchers()\n",
       "  File &quot;C:\\Users\\kvand\\kvmcode\\thermoviz\\venv_thermoviz\\lib\\site-packages\\param\\parameterized.py&quot;, line 1665, in _batch_call_watchers\n",
       "    self_._execute_watcher(watcher, events)\n",
       "  File &quot;C:\\Users\\kvand\\kvmcode\\thermoviz\\venv_thermoviz\\lib\\site-packages\\param\\parameterized.py&quot;, line 1627, in _execute_watcher\n",
       "    watcher.fn(*args, **kwargs)\n",
       "TypeError: cool() takes 0 positional arguments but 1 was given\n",
       "</pre>\n",
       "\n",
       "\n",
       "<pre>Traceback (most recent call last):\n",
       "  File &quot;C:\\Users\\kvand\\kvmcode\\thermoviz\\venv_thermoviz\\lib\\site-packages\\pyviz_comms\\__init__.py&quot;, line 325, in _handle_msg\n",
       "    self._on_msg(msg)\n",
       "  File &quot;C:\\Users\\kvand\\kvmcode\\thermoviz\\venv_thermoviz\\lib\\site-packages\\panel\\viewable.py&quot;, line 261, in _on_msg\n",
       "    doc.unhold()\n",
       "  File &quot;C:\\Users\\kvand\\kvmcode\\thermoviz\\venv_thermoviz\\lib\\site-packages\\bokeh\\document\\document.py&quot;, line 669, in unhold\n",
       "    self._trigger_on_change(event)\n",
       "  File &quot;C:\\Users\\kvand\\kvmcode\\thermoviz\\venv_thermoviz\\lib\\site-packages\\bokeh\\document\\document.py&quot;, line 1180, in _trigger_on_change\n",
       "    self._with_self_as_curdoc(event.callback_invoker)\n",
       "  File &quot;C:\\Users\\kvand\\kvmcode\\thermoviz\\venv_thermoviz\\lib\\site-packages\\bokeh\\document\\document.py&quot;, line 1198, in _with_self_as_curdoc\n",
       "    return f()\n",
       "  File &quot;C:\\Users\\kvand\\kvmcode\\thermoviz\\venv_thermoviz\\lib\\site-packages\\bokeh\\util\\callback_manager.py&quot;, line 161, in invoke\n",
       "    callback(attr, old, new)\n",
       "  File &quot;C:\\Users\\kvand\\kvmcode\\thermoviz\\venv_thermoviz\\lib\\site-packages\\panel\\reactive.py&quot;, line 273, in _comm_change\n",
       "    self._process_events({attr: new})\n",
       "  File &quot;C:\\Users\\kvand\\kvmcode\\thermoviz\\venv_thermoviz\\lib\\site-packages\\panel\\reactive.py&quot;, line 245, in _process_events\n",
       "    self.param.set_param(**self._process_property_change(events))\n",
       "  File &quot;C:\\Users\\kvand\\kvmcode\\thermoviz\\venv_thermoviz\\lib\\site-packages\\param\\parameterized.py&quot;, line 1526, in set_param\n",
       "    self_._batch_call_watchers()\n",
       "  File &quot;C:\\Users\\kvand\\kvmcode\\thermoviz\\venv_thermoviz\\lib\\site-packages\\param\\parameterized.py&quot;, line 1665, in _batch_call_watchers\n",
       "    self_._execute_watcher(watcher, events)\n",
       "  File &quot;C:\\Users\\kvand\\kvmcode\\thermoviz\\venv_thermoviz\\lib\\site-packages\\param\\parameterized.py&quot;, line 1627, in _execute_watcher\n",
       "    watcher.fn(*args, **kwargs)\n",
       "TypeError: cool() takes 0 positional arguments but 1 was given\n",
       "</pre>\n",
       "\n",
       "\n",
       "<pre>Traceback (most recent call last):\n",
       "  File &quot;C:\\Users\\kvand\\kvmcode\\thermoviz\\venv_thermoviz\\lib\\site-packages\\pyviz_comms\\__init__.py&quot;, line 325, in _handle_msg\n",
       "    self._on_msg(msg)\n",
       "  File &quot;C:\\Users\\kvand\\kvmcode\\thermoviz\\venv_thermoviz\\lib\\site-packages\\panel\\viewable.py&quot;, line 261, in _on_msg\n",
       "    doc.unhold()\n",
       "  File &quot;C:\\Users\\kvand\\kvmcode\\thermoviz\\venv_thermoviz\\lib\\site-packages\\bokeh\\document\\document.py&quot;, line 669, in unhold\n",
       "    self._trigger_on_change(event)\n",
       "  File &quot;C:\\Users\\kvand\\kvmcode\\thermoviz\\venv_thermoviz\\lib\\site-packages\\bokeh\\document\\document.py&quot;, line 1180, in _trigger_on_change\n",
       "    self._with_self_as_curdoc(event.callback_invoker)\n",
       "  File &quot;C:\\Users\\kvand\\kvmcode\\thermoviz\\venv_thermoviz\\lib\\site-packages\\bokeh\\document\\document.py&quot;, line 1198, in _with_self_as_curdoc\n",
       "    return f()\n",
       "  File &quot;C:\\Users\\kvand\\kvmcode\\thermoviz\\venv_thermoviz\\lib\\site-packages\\bokeh\\util\\callback_manager.py&quot;, line 161, in invoke\n",
       "    callback(attr, old, new)\n",
       "  File &quot;C:\\Users\\kvand\\kvmcode\\thermoviz\\venv_thermoviz\\lib\\site-packages\\panel\\reactive.py&quot;, line 273, in _comm_change\n",
       "    self._process_events({attr: new})\n",
       "  File &quot;C:\\Users\\kvand\\kvmcode\\thermoviz\\venv_thermoviz\\lib\\site-packages\\panel\\reactive.py&quot;, line 245, in _process_events\n",
       "    self.param.set_param(**self._process_property_change(events))\n",
       "  File &quot;C:\\Users\\kvand\\kvmcode\\thermoviz\\venv_thermoviz\\lib\\site-packages\\param\\parameterized.py&quot;, line 1526, in set_param\n",
       "    self_._batch_call_watchers()\n",
       "  File &quot;C:\\Users\\kvand\\kvmcode\\thermoviz\\venv_thermoviz\\lib\\site-packages\\param\\parameterized.py&quot;, line 1665, in _batch_call_watchers\n",
       "    self_._execute_watcher(watcher, events)\n",
       "  File &quot;C:\\Users\\kvand\\kvmcode\\thermoviz\\venv_thermoviz\\lib\\site-packages\\param\\parameterized.py&quot;, line 1627, in _execute_watcher\n",
       "    watcher.fn(*args, **kwargs)\n",
       "TypeError: cool() takes 0 positional arguments but 1 was given\n",
       "</pre>\n",
       "\n",
       "\n",
       "<pre>Traceback (most recent call last):\n",
       "  File &quot;C:\\Users\\kvand\\kvmcode\\thermoviz\\venv_thermoviz\\lib\\site-packages\\pyviz_comms\\__init__.py&quot;, line 325, in _handle_msg\n",
       "    self._on_msg(msg)\n",
       "  File &quot;C:\\Users\\kvand\\kvmcode\\thermoviz\\venv_thermoviz\\lib\\site-packages\\panel\\viewable.py&quot;, line 261, in _on_msg\n",
       "    doc.unhold()\n",
       "  File &quot;C:\\Users\\kvand\\kvmcode\\thermoviz\\venv_thermoviz\\lib\\site-packages\\bokeh\\document\\document.py&quot;, line 669, in unhold\n",
       "    self._trigger_on_change(event)\n",
       "  File &quot;C:\\Users\\kvand\\kvmcode\\thermoviz\\venv_thermoviz\\lib\\site-packages\\bokeh\\document\\document.py&quot;, line 1180, in _trigger_on_change\n",
       "    self._with_self_as_curdoc(event.callback_invoker)\n",
       "  File &quot;C:\\Users\\kvand\\kvmcode\\thermoviz\\venv_thermoviz\\lib\\site-packages\\bokeh\\document\\document.py&quot;, line 1198, in _with_self_as_curdoc\n",
       "    return f()\n",
       "  File &quot;C:\\Users\\kvand\\kvmcode\\thermoviz\\venv_thermoviz\\lib\\site-packages\\bokeh\\util\\callback_manager.py&quot;, line 161, in invoke\n",
       "    callback(attr, old, new)\n",
       "  File &quot;C:\\Users\\kvand\\kvmcode\\thermoviz\\venv_thermoviz\\lib\\site-packages\\panel\\reactive.py&quot;, line 273, in _comm_change\n",
       "    self._process_events({attr: new})\n",
       "  File &quot;C:\\Users\\kvand\\kvmcode\\thermoviz\\venv_thermoviz\\lib\\site-packages\\panel\\reactive.py&quot;, line 245, in _process_events\n",
       "    self.param.set_param(**self._process_property_change(events))\n",
       "  File &quot;C:\\Users\\kvand\\kvmcode\\thermoviz\\venv_thermoviz\\lib\\site-packages\\param\\parameterized.py&quot;, line 1526, in set_param\n",
       "    self_._batch_call_watchers()\n",
       "  File &quot;C:\\Users\\kvand\\kvmcode\\thermoviz\\venv_thermoviz\\lib\\site-packages\\param\\parameterized.py&quot;, line 1665, in _batch_call_watchers\n",
       "    self_._execute_watcher(watcher, events)\n",
       "  File &quot;C:\\Users\\kvand\\kvmcode\\thermoviz\\venv_thermoviz\\lib\\site-packages\\param\\parameterized.py&quot;, line 1627, in _execute_watcher\n",
       "    watcher.fn(*args, **kwargs)\n",
       "TypeError: cool() takes 0 positional arguments but 1 was given\n",
       "</pre>\n",
       "\n",
       "\n",
       "<pre>Traceback (most recent call last):\n",
       "  File &quot;C:\\Users\\kvand\\kvmcode\\thermoviz\\venv_thermoviz\\lib\\site-packages\\pyviz_comms\\__init__.py&quot;, line 325, in _handle_msg\n",
       "    self._on_msg(msg)\n",
       "  File &quot;C:\\Users\\kvand\\kvmcode\\thermoviz\\venv_thermoviz\\lib\\site-packages\\panel\\viewable.py&quot;, line 261, in _on_msg\n",
       "    doc.unhold()\n",
       "  File &quot;C:\\Users\\kvand\\kvmcode\\thermoviz\\venv_thermoviz\\lib\\site-packages\\bokeh\\document\\document.py&quot;, line 669, in unhold\n",
       "    self._trigger_on_change(event)\n",
       "  File &quot;C:\\Users\\kvand\\kvmcode\\thermoviz\\venv_thermoviz\\lib\\site-packages\\bokeh\\document\\document.py&quot;, line 1180, in _trigger_on_change\n",
       "    self._with_self_as_curdoc(event.callback_invoker)\n",
       "  File &quot;C:\\Users\\kvand\\kvmcode\\thermoviz\\venv_thermoviz\\lib\\site-packages\\bokeh\\document\\document.py&quot;, line 1198, in _with_self_as_curdoc\n",
       "    return f()\n",
       "  File &quot;C:\\Users\\kvand\\kvmcode\\thermoviz\\venv_thermoviz\\lib\\site-packages\\bokeh\\util\\callback_manager.py&quot;, line 161, in invoke\n",
       "    callback(attr, old, new)\n",
       "  File &quot;C:\\Users\\kvand\\kvmcode\\thermoviz\\venv_thermoviz\\lib\\site-packages\\panel\\reactive.py&quot;, line 273, in _comm_change\n",
       "    self._process_events({attr: new})\n",
       "  File &quot;C:\\Users\\kvand\\kvmcode\\thermoviz\\venv_thermoviz\\lib\\site-packages\\panel\\reactive.py&quot;, line 245, in _process_events\n",
       "    self.param.set_param(**self._process_property_change(events))\n",
       "  File &quot;C:\\Users\\kvand\\kvmcode\\thermoviz\\venv_thermoviz\\lib\\site-packages\\param\\parameterized.py&quot;, line 1526, in set_param\n",
       "    self_._batch_call_watchers()\n",
       "  File &quot;C:\\Users\\kvand\\kvmcode\\thermoviz\\venv_thermoviz\\lib\\site-packages\\param\\parameterized.py&quot;, line 1665, in _batch_call_watchers\n",
       "    self_._execute_watcher(watcher, events)\n",
       "  File &quot;C:\\Users\\kvand\\kvmcode\\thermoviz\\venv_thermoviz\\lib\\site-packages\\param\\parameterized.py&quot;, line 1627, in _execute_watcher\n",
       "    watcher.fn(*args, **kwargs)\n",
       "TypeError: cool() takes 0 positional arguments but 1 was given\n",
       "</pre>\n",
       "\n",
       "\n",
       "<pre>Traceback (most recent call last):\n",
       "  File &quot;C:\\Users\\kvand\\kvmcode\\thermoviz\\venv_thermoviz\\lib\\site-packages\\pyviz_comms\\__init__.py&quot;, line 325, in _handle_msg\n",
       "    self._on_msg(msg)\n",
       "  File &quot;C:\\Users\\kvand\\kvmcode\\thermoviz\\venv_thermoviz\\lib\\site-packages\\panel\\viewable.py&quot;, line 261, in _on_msg\n",
       "    doc.unhold()\n",
       "  File &quot;C:\\Users\\kvand\\kvmcode\\thermoviz\\venv_thermoviz\\lib\\site-packages\\bokeh\\document\\document.py&quot;, line 669, in unhold\n",
       "    self._trigger_on_change(event)\n",
       "  File &quot;C:\\Users\\kvand\\kvmcode\\thermoviz\\venv_thermoviz\\lib\\site-packages\\bokeh\\document\\document.py&quot;, line 1180, in _trigger_on_change\n",
       "    self._with_self_as_curdoc(event.callback_invoker)\n",
       "  File &quot;C:\\Users\\kvand\\kvmcode\\thermoviz\\venv_thermoviz\\lib\\site-packages\\bokeh\\document\\document.py&quot;, line 1198, in _with_self_as_curdoc\n",
       "    return f()\n",
       "  File &quot;C:\\Users\\kvand\\kvmcode\\thermoviz\\venv_thermoviz\\lib\\site-packages\\bokeh\\util\\callback_manager.py&quot;, line 161, in invoke\n",
       "    callback(attr, old, new)\n",
       "  File &quot;C:\\Users\\kvand\\kvmcode\\thermoviz\\venv_thermoviz\\lib\\site-packages\\panel\\reactive.py&quot;, line 273, in _comm_change\n",
       "    self._process_events({attr: new})\n",
       "  File &quot;C:\\Users\\kvand\\kvmcode\\thermoviz\\venv_thermoviz\\lib\\site-packages\\panel\\reactive.py&quot;, line 245, in _process_events\n",
       "    self.param.set_param(**self._process_property_change(events))\n",
       "  File &quot;C:\\Users\\kvand\\kvmcode\\thermoviz\\venv_thermoviz\\lib\\site-packages\\param\\parameterized.py&quot;, line 1526, in set_param\n",
       "    self_._batch_call_watchers()\n",
       "  File &quot;C:\\Users\\kvand\\kvmcode\\thermoviz\\venv_thermoviz\\lib\\site-packages\\param\\parameterized.py&quot;, line 1665, in _batch_call_watchers\n",
       "    self_._execute_watcher(watcher, events)\n",
       "  File &quot;C:\\Users\\kvand\\kvmcode\\thermoviz\\venv_thermoviz\\lib\\site-packages\\param\\parameterized.py&quot;, line 1627, in _execute_watcher\n",
       "    watcher.fn(*args, **kwargs)\n",
       "TypeError: cool() takes 0 positional arguments but 1 was given\n",
       "</pre>\n",
       "\n",
       "\n",
       "<pre>Traceback (most recent call last):\n",
       "  File &quot;C:\\Users\\kvand\\kvmcode\\thermoviz\\venv_thermoviz\\lib\\site-packages\\pyviz_comms\\__init__.py&quot;, line 325, in _handle_msg\n",
       "    self._on_msg(msg)\n",
       "  File &quot;C:\\Users\\kvand\\kvmcode\\thermoviz\\venv_thermoviz\\lib\\site-packages\\panel\\viewable.py&quot;, line 261, in _on_msg\n",
       "    doc.unhold()\n",
       "  File &quot;C:\\Users\\kvand\\kvmcode\\thermoviz\\venv_thermoviz\\lib\\site-packages\\bokeh\\document\\document.py&quot;, line 669, in unhold\n",
       "    self._trigger_on_change(event)\n",
       "  File &quot;C:\\Users\\kvand\\kvmcode\\thermoviz\\venv_thermoviz\\lib\\site-packages\\bokeh\\document\\document.py&quot;, line 1180, in _trigger_on_change\n",
       "    self._with_self_as_curdoc(event.callback_invoker)\n",
       "  File &quot;C:\\Users\\kvand\\kvmcode\\thermoviz\\venv_thermoviz\\lib\\site-packages\\bokeh\\document\\document.py&quot;, line 1198, in _with_self_as_curdoc\n",
       "    return f()\n",
       "  File &quot;C:\\Users\\kvand\\kvmcode\\thermoviz\\venv_thermoviz\\lib\\site-packages\\bokeh\\util\\callback_manager.py&quot;, line 161, in invoke\n",
       "    callback(attr, old, new)\n",
       "  File &quot;C:\\Users\\kvand\\kvmcode\\thermoviz\\venv_thermoviz\\lib\\site-packages\\panel\\reactive.py&quot;, line 273, in _comm_change\n",
       "    self._process_events({attr: new})\n",
       "  File &quot;C:\\Users\\kvand\\kvmcode\\thermoviz\\venv_thermoviz\\lib\\site-packages\\panel\\reactive.py&quot;, line 245, in _process_events\n",
       "    self.param.set_param(**self._process_property_change(events))\n",
       "  File &quot;C:\\Users\\kvand\\kvmcode\\thermoviz\\venv_thermoviz\\lib\\site-packages\\param\\parameterized.py&quot;, line 1526, in set_param\n",
       "    self_._batch_call_watchers()\n",
       "  File &quot;C:\\Users\\kvand\\kvmcode\\thermoviz\\venv_thermoviz\\lib\\site-packages\\param\\parameterized.py&quot;, line 1665, in _batch_call_watchers\n",
       "    self_._execute_watcher(watcher, events)\n",
       "  File &quot;C:\\Users\\kvand\\kvmcode\\thermoviz\\venv_thermoviz\\lib\\site-packages\\param\\parameterized.py&quot;, line 1627, in _execute_watcher\n",
       "    watcher.fn(*args, **kwargs)\n",
       "TypeError: cool() takes 0 positional arguments but 1 was given\n",
       "</pre>\n",
       "\n",
       "\n",
       "<pre>Traceback (most recent call last):\n",
       "  File &quot;C:\\Users\\kvand\\kvmcode\\thermoviz\\venv_thermoviz\\lib\\site-packages\\pyviz_comms\\__init__.py&quot;, line 325, in _handle_msg\n",
       "    self._on_msg(msg)\n",
       "  File &quot;C:\\Users\\kvand\\kvmcode\\thermoviz\\venv_thermoviz\\lib\\site-packages\\panel\\viewable.py&quot;, line 261, in _on_msg\n",
       "    doc.unhold()\n",
       "  File &quot;C:\\Users\\kvand\\kvmcode\\thermoviz\\venv_thermoviz\\lib\\site-packages\\bokeh\\document\\document.py&quot;, line 669, in unhold\n",
       "    self._trigger_on_change(event)\n",
       "  File &quot;C:\\Users\\kvand\\kvmcode\\thermoviz\\venv_thermoviz\\lib\\site-packages\\bokeh\\document\\document.py&quot;, line 1180, in _trigger_on_change\n",
       "    self._with_self_as_curdoc(event.callback_invoker)\n",
       "  File &quot;C:\\Users\\kvand\\kvmcode\\thermoviz\\venv_thermoviz\\lib\\site-packages\\bokeh\\document\\document.py&quot;, line 1198, in _with_self_as_curdoc\n",
       "    return f()\n",
       "  File &quot;C:\\Users\\kvand\\kvmcode\\thermoviz\\venv_thermoviz\\lib\\site-packages\\bokeh\\util\\callback_manager.py&quot;, line 161, in invoke\n",
       "    callback(attr, old, new)\n",
       "  File &quot;C:\\Users\\kvand\\kvmcode\\thermoviz\\venv_thermoviz\\lib\\site-packages\\panel\\reactive.py&quot;, line 273, in _comm_change\n",
       "    self._process_events({attr: new})\n",
       "  File &quot;C:\\Users\\kvand\\kvmcode\\thermoviz\\venv_thermoviz\\lib\\site-packages\\panel\\reactive.py&quot;, line 245, in _process_events\n",
       "    self.param.set_param(**self._process_property_change(events))\n",
       "  File &quot;C:\\Users\\kvand\\kvmcode\\thermoviz\\venv_thermoviz\\lib\\site-packages\\param\\parameterized.py&quot;, line 1526, in set_param\n",
       "    self_._batch_call_watchers()\n",
       "  File &quot;C:\\Users\\kvand\\kvmcode\\thermoviz\\venv_thermoviz\\lib\\site-packages\\param\\parameterized.py&quot;, line 1665, in _batch_call_watchers\n",
       "    self_._execute_watcher(watcher, events)\n",
       "  File &quot;C:\\Users\\kvand\\kvmcode\\thermoviz\\venv_thermoviz\\lib\\site-packages\\param\\parameterized.py&quot;, line 1627, in _execute_watcher\n",
       "    watcher.fn(*args, **kwargs)\n",
       "TypeError: cool() takes 0 positional arguments but 1 was given\n",
       "</pre>\n",
       "\n",
       "\n",
       "<pre>Traceback (most recent call last):\n",
       "  File &quot;C:\\Users\\kvand\\kvmcode\\thermoviz\\venv_thermoviz\\lib\\site-packages\\pyviz_comms\\__init__.py&quot;, line 325, in _handle_msg\n",
       "    self._on_msg(msg)\n",
       "  File &quot;C:\\Users\\kvand\\kvmcode\\thermoviz\\venv_thermoviz\\lib\\site-packages\\panel\\viewable.py&quot;, line 261, in _on_msg\n",
       "    doc.unhold()\n",
       "  File &quot;C:\\Users\\kvand\\kvmcode\\thermoviz\\venv_thermoviz\\lib\\site-packages\\bokeh\\document\\document.py&quot;, line 669, in unhold\n",
       "    self._trigger_on_change(event)\n",
       "  File &quot;C:\\Users\\kvand\\kvmcode\\thermoviz\\venv_thermoviz\\lib\\site-packages\\bokeh\\document\\document.py&quot;, line 1180, in _trigger_on_change\n",
       "    self._with_self_as_curdoc(event.callback_invoker)\n",
       "  File &quot;C:\\Users\\kvand\\kvmcode\\thermoviz\\venv_thermoviz\\lib\\site-packages\\bokeh\\document\\document.py&quot;, line 1198, in _with_self_as_curdoc\n",
       "    return f()\n",
       "  File &quot;C:\\Users\\kvand\\kvmcode\\thermoviz\\venv_thermoviz\\lib\\site-packages\\bokeh\\util\\callback_manager.py&quot;, line 161, in invoke\n",
       "    callback(attr, old, new)\n",
       "  File &quot;C:\\Users\\kvand\\kvmcode\\thermoviz\\venv_thermoviz\\lib\\site-packages\\panel\\reactive.py&quot;, line 273, in _comm_change\n",
       "    self._process_events({attr: new})\n",
       "  File &quot;C:\\Users\\kvand\\kvmcode\\thermoviz\\venv_thermoviz\\lib\\site-packages\\panel\\reactive.py&quot;, line 245, in _process_events\n",
       "    self.param.set_param(**self._process_property_change(events))\n",
       "  File &quot;C:\\Users\\kvand\\kvmcode\\thermoviz\\venv_thermoviz\\lib\\site-packages\\param\\parameterized.py&quot;, line 1526, in set_param\n",
       "    self_._batch_call_watchers()\n",
       "  File &quot;C:\\Users\\kvand\\kvmcode\\thermoviz\\venv_thermoviz\\lib\\site-packages\\param\\parameterized.py&quot;, line 1665, in _batch_call_watchers\n",
       "    self_._execute_watcher(watcher, events)\n",
       "  File &quot;C:\\Users\\kvand\\kvmcode\\thermoviz\\venv_thermoviz\\lib\\site-packages\\param\\parameterized.py&quot;, line 1627, in _execute_watcher\n",
       "    watcher.fn(*args, **kwargs)\n",
       "TypeError: cool() takes 0 positional arguments but 1 was given\n",
       "</pre>\n",
       "\n",
       "\n",
       "<pre>Traceback (most recent call last):\n",
       "  File &quot;C:\\Users\\kvand\\kvmcode\\thermoviz\\venv_thermoviz\\lib\\site-packages\\pyviz_comms\\__init__.py&quot;, line 325, in _handle_msg\n",
       "    self._on_msg(msg)\n",
       "  File &quot;C:\\Users\\kvand\\kvmcode\\thermoviz\\venv_thermoviz\\lib\\site-packages\\panel\\viewable.py&quot;, line 261, in _on_msg\n",
       "    doc.unhold()\n",
       "  File &quot;C:\\Users\\kvand\\kvmcode\\thermoviz\\venv_thermoviz\\lib\\site-packages\\bokeh\\document\\document.py&quot;, line 669, in unhold\n",
       "    self._trigger_on_change(event)\n",
       "  File &quot;C:\\Users\\kvand\\kvmcode\\thermoviz\\venv_thermoviz\\lib\\site-packages\\bokeh\\document\\document.py&quot;, line 1180, in _trigger_on_change\n",
       "    self._with_self_as_curdoc(event.callback_invoker)\n",
       "  File &quot;C:\\Users\\kvand\\kvmcode\\thermoviz\\venv_thermoviz\\lib\\site-packages\\bokeh\\document\\document.py&quot;, line 1198, in _with_self_as_curdoc\n",
       "    return f()\n",
       "  File &quot;C:\\Users\\kvand\\kvmcode\\thermoviz\\venv_thermoviz\\lib\\site-packages\\bokeh\\util\\callback_manager.py&quot;, line 161, in invoke\n",
       "    callback(attr, old, new)\n",
       "  File &quot;C:\\Users\\kvand\\kvmcode\\thermoviz\\venv_thermoviz\\lib\\site-packages\\panel\\reactive.py&quot;, line 273, in _comm_change\n",
       "    self._process_events({attr: new})\n",
       "  File &quot;C:\\Users\\kvand\\kvmcode\\thermoviz\\venv_thermoviz\\lib\\site-packages\\panel\\reactive.py&quot;, line 245, in _process_events\n",
       "    self.param.set_param(**self._process_property_change(events))\n",
       "  File &quot;C:\\Users\\kvand\\kvmcode\\thermoviz\\venv_thermoviz\\lib\\site-packages\\param\\parameterized.py&quot;, line 1526, in set_param\n",
       "    self_._batch_call_watchers()\n",
       "  File &quot;C:\\Users\\kvand\\kvmcode\\thermoviz\\venv_thermoviz\\lib\\site-packages\\param\\parameterized.py&quot;, line 1665, in _batch_call_watchers\n",
       "    self_._execute_watcher(watcher, events)\n",
       "  File &quot;C:\\Users\\kvand\\kvmcode\\thermoviz\\venv_thermoviz\\lib\\site-packages\\param\\parameterized.py&quot;, line 1627, in _execute_watcher\n",
       "    watcher.fn(*args, **kwargs)\n",
       "TypeError: cool() takes 0 positional arguments but 1 was given\n",
       "</pre>\n",
       "\n",
       "\n",
       "<pre>Traceback (most recent call last):\n",
       "  File &quot;C:\\Users\\kvand\\kvmcode\\thermoviz\\venv_thermoviz\\lib\\site-packages\\pyviz_comms\\__init__.py&quot;, line 325, in _handle_msg\n",
       "    self._on_msg(msg)\n",
       "  File &quot;C:\\Users\\kvand\\kvmcode\\thermoviz\\venv_thermoviz\\lib\\site-packages\\panel\\viewable.py&quot;, line 261, in _on_msg\n",
       "    doc.unhold()\n",
       "  File &quot;C:\\Users\\kvand\\kvmcode\\thermoviz\\venv_thermoviz\\lib\\site-packages\\bokeh\\document\\document.py&quot;, line 669, in unhold\n",
       "    self._trigger_on_change(event)\n",
       "  File &quot;C:\\Users\\kvand\\kvmcode\\thermoviz\\venv_thermoviz\\lib\\site-packages\\bokeh\\document\\document.py&quot;, line 1180, in _trigger_on_change\n",
       "    self._with_self_as_curdoc(event.callback_invoker)\n",
       "  File &quot;C:\\Users\\kvand\\kvmcode\\thermoviz\\venv_thermoviz\\lib\\site-packages\\bokeh\\document\\document.py&quot;, line 1198, in _with_self_as_curdoc\n",
       "    return f()\n",
       "  File &quot;C:\\Users\\kvand\\kvmcode\\thermoviz\\venv_thermoviz\\lib\\site-packages\\bokeh\\util\\callback_manager.py&quot;, line 161, in invoke\n",
       "    callback(attr, old, new)\n",
       "  File &quot;C:\\Users\\kvand\\kvmcode\\thermoviz\\venv_thermoviz\\lib\\site-packages\\panel\\reactive.py&quot;, line 273, in _comm_change\n",
       "    self._process_events({attr: new})\n",
       "  File &quot;C:\\Users\\kvand\\kvmcode\\thermoviz\\venv_thermoviz\\lib\\site-packages\\panel\\reactive.py&quot;, line 245, in _process_events\n",
       "    self.param.set_param(**self._process_property_change(events))\n",
       "  File &quot;C:\\Users\\kvand\\kvmcode\\thermoviz\\venv_thermoviz\\lib\\site-packages\\param\\parameterized.py&quot;, line 1526, in set_param\n",
       "    self_._batch_call_watchers()\n",
       "  File &quot;C:\\Users\\kvand\\kvmcode\\thermoviz\\venv_thermoviz\\lib\\site-packages\\param\\parameterized.py&quot;, line 1665, in _batch_call_watchers\n",
       "    self_._execute_watcher(watcher, events)\n",
       "  File &quot;C:\\Users\\kvand\\kvmcode\\thermoviz\\venv_thermoviz\\lib\\site-packages\\param\\parameterized.py&quot;, line 1627, in _execute_watcher\n",
       "    watcher.fn(*args, **kwargs)\n",
       "TypeError: cool() takes 0 positional arguments but 1 was given\n",
       "</pre>\n",
       "\n",
       "\n",
       "<pre>Traceback (most recent call last):\n",
       "  File &quot;C:\\Users\\kvand\\kvmcode\\thermoviz\\venv_thermoviz\\lib\\site-packages\\pyviz_comms\\__init__.py&quot;, line 325, in _handle_msg\n",
       "    self._on_msg(msg)\n",
       "  File &quot;C:\\Users\\kvand\\kvmcode\\thermoviz\\venv_thermoviz\\lib\\site-packages\\panel\\viewable.py&quot;, line 261, in _on_msg\n",
       "    doc.unhold()\n",
       "  File &quot;C:\\Users\\kvand\\kvmcode\\thermoviz\\venv_thermoviz\\lib\\site-packages\\bokeh\\document\\document.py&quot;, line 669, in unhold\n",
       "    self._trigger_on_change(event)\n",
       "  File &quot;C:\\Users\\kvand\\kvmcode\\thermoviz\\venv_thermoviz\\lib\\site-packages\\bokeh\\document\\document.py&quot;, line 1180, in _trigger_on_change\n",
       "    self._with_self_as_curdoc(event.callback_invoker)\n",
       "  File &quot;C:\\Users\\kvand\\kvmcode\\thermoviz\\venv_thermoviz\\lib\\site-packages\\bokeh\\document\\document.py&quot;, line 1198, in _with_self_as_curdoc\n",
       "    return f()\n",
       "  File &quot;C:\\Users\\kvand\\kvmcode\\thermoviz\\venv_thermoviz\\lib\\site-packages\\bokeh\\util\\callback_manager.py&quot;, line 161, in invoke\n",
       "    callback(attr, old, new)\n",
       "  File &quot;C:\\Users\\kvand\\kvmcode\\thermoviz\\venv_thermoviz\\lib\\site-packages\\panel\\reactive.py&quot;, line 273, in _comm_change\n",
       "    self._process_events({attr: new})\n",
       "  File &quot;C:\\Users\\kvand\\kvmcode\\thermoviz\\venv_thermoviz\\lib\\site-packages\\panel\\reactive.py&quot;, line 245, in _process_events\n",
       "    self.param.set_param(**self._process_property_change(events))\n",
       "  File &quot;C:\\Users\\kvand\\kvmcode\\thermoviz\\venv_thermoviz\\lib\\site-packages\\param\\parameterized.py&quot;, line 1526, in set_param\n",
       "    self_._batch_call_watchers()\n",
       "  File &quot;C:\\Users\\kvand\\kvmcode\\thermoviz\\venv_thermoviz\\lib\\site-packages\\param\\parameterized.py&quot;, line 1665, in _batch_call_watchers\n",
       "    self_._execute_watcher(watcher, events)\n",
       "  File &quot;C:\\Users\\kvand\\kvmcode\\thermoviz\\venv_thermoviz\\lib\\site-packages\\param\\parameterized.py&quot;, line 1627, in _execute_watcher\n",
       "    watcher.fn(*args, **kwargs)\n",
       "TypeError: cool() takes 0 positional arguments but 1 was given\n",
       "</pre>\n",
       "\n",
       "\n",
       "<pre>Traceback (most recent call last):\n",
       "  File &quot;C:\\Users\\kvand\\kvmcode\\thermoviz\\venv_thermoviz\\lib\\site-packages\\pyviz_comms\\__init__.py&quot;, line 325, in _handle_msg\n",
       "    self._on_msg(msg)\n",
       "  File &quot;C:\\Users\\kvand\\kvmcode\\thermoviz\\venv_thermoviz\\lib\\site-packages\\panel\\viewable.py&quot;, line 261, in _on_msg\n",
       "    doc.unhold()\n",
       "  File &quot;C:\\Users\\kvand\\kvmcode\\thermoviz\\venv_thermoviz\\lib\\site-packages\\bokeh\\document\\document.py&quot;, line 669, in unhold\n",
       "    self._trigger_on_change(event)\n",
       "  File &quot;C:\\Users\\kvand\\kvmcode\\thermoviz\\venv_thermoviz\\lib\\site-packages\\bokeh\\document\\document.py&quot;, line 1180, in _trigger_on_change\n",
       "    self._with_self_as_curdoc(event.callback_invoker)\n",
       "  File &quot;C:\\Users\\kvand\\kvmcode\\thermoviz\\venv_thermoviz\\lib\\site-packages\\bokeh\\document\\document.py&quot;, line 1198, in _with_self_as_curdoc\n",
       "    return f()\n",
       "  File &quot;C:\\Users\\kvand\\kvmcode\\thermoviz\\venv_thermoviz\\lib\\site-packages\\bokeh\\util\\callback_manager.py&quot;, line 161, in invoke\n",
       "    callback(attr, old, new)\n",
       "  File &quot;C:\\Users\\kvand\\kvmcode\\thermoviz\\venv_thermoviz\\lib\\site-packages\\panel\\reactive.py&quot;, line 273, in _comm_change\n",
       "    self._process_events({attr: new})\n",
       "  File &quot;C:\\Users\\kvand\\kvmcode\\thermoviz\\venv_thermoviz\\lib\\site-packages\\panel\\reactive.py&quot;, line 245, in _process_events\n",
       "    self.param.set_param(**self._process_property_change(events))\n",
       "  File &quot;C:\\Users\\kvand\\kvmcode\\thermoviz\\venv_thermoviz\\lib\\site-packages\\param\\parameterized.py&quot;, line 1526, in set_param\n",
       "    self_._batch_call_watchers()\n",
       "  File &quot;C:\\Users\\kvand\\kvmcode\\thermoviz\\venv_thermoviz\\lib\\site-packages\\param\\parameterized.py&quot;, line 1665, in _batch_call_watchers\n",
       "    self_._execute_watcher(watcher, events)\n",
       "  File &quot;C:\\Users\\kvand\\kvmcode\\thermoviz\\venv_thermoviz\\lib\\site-packages\\param\\parameterized.py&quot;, line 1627, in _execute_watcher\n",
       "    watcher.fn(*args, **kwargs)\n",
       "TypeError: cool() takes 0 positional arguments but 1 was given\n",
       "</pre>\n",
       "\n",
       "\n",
       "<pre>Traceback (most recent call last):\n",
       "  File &quot;C:\\Users\\kvand\\kvmcode\\thermoviz\\venv_thermoviz\\lib\\site-packages\\pyviz_comms\\__init__.py&quot;, line 325, in _handle_msg\n",
       "    self._on_msg(msg)\n",
       "  File &quot;C:\\Users\\kvand\\kvmcode\\thermoviz\\venv_thermoviz\\lib\\site-packages\\panel\\viewable.py&quot;, line 261, in _on_msg\n",
       "    doc.unhold()\n",
       "  File &quot;C:\\Users\\kvand\\kvmcode\\thermoviz\\venv_thermoviz\\lib\\site-packages\\bokeh\\document\\document.py&quot;, line 669, in unhold\n",
       "    self._trigger_on_change(event)\n",
       "  File &quot;C:\\Users\\kvand\\kvmcode\\thermoviz\\venv_thermoviz\\lib\\site-packages\\bokeh\\document\\document.py&quot;, line 1180, in _trigger_on_change\n",
       "    self._with_self_as_curdoc(event.callback_invoker)\n",
       "  File &quot;C:\\Users\\kvand\\kvmcode\\thermoviz\\venv_thermoviz\\lib\\site-packages\\bokeh\\document\\document.py&quot;, line 1198, in _with_self_as_curdoc\n",
       "    return f()\n",
       "  File &quot;C:\\Users\\kvand\\kvmcode\\thermoviz\\venv_thermoviz\\lib\\site-packages\\bokeh\\util\\callback_manager.py&quot;, line 161, in invoke\n",
       "    callback(attr, old, new)\n",
       "  File &quot;C:\\Users\\kvand\\kvmcode\\thermoviz\\venv_thermoviz\\lib\\site-packages\\panel\\reactive.py&quot;, line 273, in _comm_change\n",
       "    self._process_events({attr: new})\n",
       "  File &quot;C:\\Users\\kvand\\kvmcode\\thermoviz\\venv_thermoviz\\lib\\site-packages\\panel\\reactive.py&quot;, line 245, in _process_events\n",
       "    self.param.set_param(**self._process_property_change(events))\n",
       "  File &quot;C:\\Users\\kvand\\kvmcode\\thermoviz\\venv_thermoviz\\lib\\site-packages\\param\\parameterized.py&quot;, line 1526, in set_param\n",
       "    self_._batch_call_watchers()\n",
       "  File &quot;C:\\Users\\kvand\\kvmcode\\thermoviz\\venv_thermoviz\\lib\\site-packages\\param\\parameterized.py&quot;, line 1665, in _batch_call_watchers\n",
       "    self_._execute_watcher(watcher, events)\n",
       "  File &quot;C:\\Users\\kvand\\kvmcode\\thermoviz\\venv_thermoviz\\lib\\site-packages\\param\\parameterized.py&quot;, line 1627, in _execute_watcher\n",
       "    watcher.fn(*args, **kwargs)\n",
       "TypeError: cool() takes 0 positional arguments but 1 was given\n",
       "</pre>\n",
       "\n",
       "\n",
       "<pre>Traceback (most recent call last):\n",
       "  File &quot;C:\\Users\\kvand\\kvmcode\\thermoviz\\venv_thermoviz\\lib\\site-packages\\pyviz_comms\\__init__.py&quot;, line 325, in _handle_msg\n",
       "    self._on_msg(msg)\n",
       "  File &quot;C:\\Users\\kvand\\kvmcode\\thermoviz\\venv_thermoviz\\lib\\site-packages\\panel\\viewable.py&quot;, line 261, in _on_msg\n",
       "    doc.unhold()\n",
       "  File &quot;C:\\Users\\kvand\\kvmcode\\thermoviz\\venv_thermoviz\\lib\\site-packages\\bokeh\\document\\document.py&quot;, line 669, in unhold\n",
       "    self._trigger_on_change(event)\n",
       "  File &quot;C:\\Users\\kvand\\kvmcode\\thermoviz\\venv_thermoviz\\lib\\site-packages\\bokeh\\document\\document.py&quot;, line 1180, in _trigger_on_change\n",
       "    self._with_self_as_curdoc(event.callback_invoker)\n",
       "  File &quot;C:\\Users\\kvand\\kvmcode\\thermoviz\\venv_thermoviz\\lib\\site-packages\\bokeh\\document\\document.py&quot;, line 1198, in _with_self_as_curdoc\n",
       "    return f()\n",
       "  File &quot;C:\\Users\\kvand\\kvmcode\\thermoviz\\venv_thermoviz\\lib\\site-packages\\bokeh\\util\\callback_manager.py&quot;, line 161, in invoke\n",
       "    callback(attr, old, new)\n",
       "  File &quot;C:\\Users\\kvand\\kvmcode\\thermoviz\\venv_thermoviz\\lib\\site-packages\\panel\\reactive.py&quot;, line 273, in _comm_change\n",
       "    self._process_events({attr: new})\n",
       "  File &quot;C:\\Users\\kvand\\kvmcode\\thermoviz\\venv_thermoviz\\lib\\site-packages\\panel\\reactive.py&quot;, line 245, in _process_events\n",
       "    self.param.set_param(**self._process_property_change(events))\n",
       "  File &quot;C:\\Users\\kvand\\kvmcode\\thermoviz\\venv_thermoviz\\lib\\site-packages\\param\\parameterized.py&quot;, line 1526, in set_param\n",
       "    self_._batch_call_watchers()\n",
       "  File &quot;C:\\Users\\kvand\\kvmcode\\thermoviz\\venv_thermoviz\\lib\\site-packages\\param\\parameterized.py&quot;, line 1665, in _batch_call_watchers\n",
       "    self_._execute_watcher(watcher, events)\n",
       "  File &quot;C:\\Users\\kvand\\kvmcode\\thermoviz\\venv_thermoviz\\lib\\site-packages\\param\\parameterized.py&quot;, line 1627, in _execute_watcher\n",
       "    watcher.fn(*args, **kwargs)\n",
       "TypeError: cool() takes 0 positional arguments but 1 was given\n",
       "</pre>\n",
       "\n",
       "\n",
       "<pre>Traceback (most recent call last):\n",
       "  File &quot;C:\\Users\\kvand\\kvmcode\\thermoviz\\venv_thermoviz\\lib\\site-packages\\pyviz_comms\\__init__.py&quot;, line 325, in _handle_msg\n",
       "    self._on_msg(msg)\n",
       "  File &quot;C:\\Users\\kvand\\kvmcode\\thermoviz\\venv_thermoviz\\lib\\site-packages\\panel\\viewable.py&quot;, line 261, in _on_msg\n",
       "    doc.unhold()\n",
       "  File &quot;C:\\Users\\kvand\\kvmcode\\thermoviz\\venv_thermoviz\\lib\\site-packages\\bokeh\\document\\document.py&quot;, line 669, in unhold\n",
       "    self._trigger_on_change(event)\n",
       "  File &quot;C:\\Users\\kvand\\kvmcode\\thermoviz\\venv_thermoviz\\lib\\site-packages\\bokeh\\document\\document.py&quot;, line 1180, in _trigger_on_change\n",
       "    self._with_self_as_curdoc(event.callback_invoker)\n",
       "  File &quot;C:\\Users\\kvand\\kvmcode\\thermoviz\\venv_thermoviz\\lib\\site-packages\\bokeh\\document\\document.py&quot;, line 1198, in _with_self_as_curdoc\n",
       "    return f()\n",
       "  File &quot;C:\\Users\\kvand\\kvmcode\\thermoviz\\venv_thermoviz\\lib\\site-packages\\bokeh\\util\\callback_manager.py&quot;, line 161, in invoke\n",
       "    callback(attr, old, new)\n",
       "  File &quot;C:\\Users\\kvand\\kvmcode\\thermoviz\\venv_thermoviz\\lib\\site-packages\\panel\\reactive.py&quot;, line 273, in _comm_change\n",
       "    self._process_events({attr: new})\n",
       "  File &quot;C:\\Users\\kvand\\kvmcode\\thermoviz\\venv_thermoviz\\lib\\site-packages\\panel\\reactive.py&quot;, line 245, in _process_events\n",
       "    self.param.set_param(**self._process_property_change(events))\n",
       "  File &quot;C:\\Users\\kvand\\kvmcode\\thermoviz\\venv_thermoviz\\lib\\site-packages\\param\\parameterized.py&quot;, line 1526, in set_param\n",
       "    self_._batch_call_watchers()\n",
       "  File &quot;C:\\Users\\kvand\\kvmcode\\thermoviz\\venv_thermoviz\\lib\\site-packages\\param\\parameterized.py&quot;, line 1665, in _batch_call_watchers\n",
       "    self_._execute_watcher(watcher, events)\n",
       "  File &quot;C:\\Users\\kvand\\kvmcode\\thermoviz\\venv_thermoviz\\lib\\site-packages\\param\\parameterized.py&quot;, line 1627, in _execute_watcher\n",
       "    watcher.fn(*args, **kwargs)\n",
       "TypeError: cool() takes 0 positional arguments but 1 was given\n",
       "</pre>\n"
      ]
     },
     "metadata": {},
     "output_type": "display_data"
    },
    {
     "data": {
      "application/vnd.holoviews_exec.v0+json": "",
      "text/html": [
       "<div id='1002'>\n",
       "\n",
       "\n",
       "\n",
       "\n",
       "\n",
       "  <div class=\"bk-root\" id=\"5e9656e6-b286-4d08-beec-80d444ead1cb\" data-root-id=\"1002\"></div>\n",
       "</div>\n",
       "<script type=\"application/javascript\">(function(root) {\n",
       "  function embed_document(root) {\n",
       "    var docs_json = {\"937b2a63-712d-4af4-9607-b0bf5cbb3f43\":{\"defs\":[],\"roots\":{\"references\":[{\"attributes\":{\"client_comm_id\":\"908a8eda19484170aee9b18cb5a4cfd7\",\"comm_id\":\"5f6091531ea64349964028f76e4fafce\",\"plot_id\":\"1002\"},\"id\":\"1003\",\"type\":\"panel.models.comm_manager.CommManager\"},{\"attributes\":{\"reload\":false},\"id\":\"1004\",\"type\":\"panel.models.location.Location\"},{\"attributes\":{\"end\":3.141,\"margin\":[5,10,5,10],\"start\":0,\"step\":0.01,\"title\":\"Float Slider\",\"value\":1.57},\"id\":\"1002\",\"type\":\"Slider\"}],\"root_ids\":[\"1002\",\"1003\",\"1004\"]},\"title\":\"Bokeh Application\",\"version\":\"2.3.3\"}};\n",
       "    var render_items = [{\"docid\":\"937b2a63-712d-4af4-9607-b0bf5cbb3f43\",\"root_ids\":[\"1002\"],\"roots\":{\"1002\":\"5e9656e6-b286-4d08-beec-80d444ead1cb\"}}];\n",
       "    root.Bokeh.embed.embed_items_notebook(docs_json, render_items);\n",
       "  }\n",
       "  if (root.Bokeh !== undefined && root.Bokeh.Panel !== undefined) {\n",
       "    embed_document(root);\n",
       "  } else {\n",
       "    var attempts = 0;\n",
       "    var timer = setInterval(function(root) {\n",
       "      if (root.Bokeh !== undefined && root.Bokeh.Panel !== undefined) {\n",
       "        clearInterval(timer);\n",
       "        embed_document(root);\n",
       "      } else if (document.readyState == \"complete\") {\n",
       "        attempts++;\n",
       "        if (attempts > 100) {\n",
       "          clearInterval(timer);\n",
       "          console.log(\"Bokeh: ERROR: Unable to run BokehJS code because BokehJS library is missing\");\n",
       "        }\n",
       "      }\n",
       "    }, 10, root)\n",
       "  }\n",
       "})(window);</script>"
      ],
      "text/plain": [
       "FloatSlider(end=3.141, name='Float Slider', step=0.01, value=1.57)"
      ]
     },
     "execution_count": 9,
     "metadata": {
      "application/vnd.holoviews_exec.v0+json": {
       "id": "1002"
      }
     },
     "output_type": "execute_result"
    }
   ],
   "source": [
    "float_slider"
   ]
  },
  {
   "cell_type": "code",
   "execution_count": 16,
   "id": "ce04db5e-115c-47fd-a3a1-1bad9f3e266d",
   "metadata": {},
   "outputs": [
    {
     "ename": "ValueError",
     "evalue": "Declare parameters to link or a set of callbacks, neither was defined.",
     "output_type": "error",
     "traceback": [
      "\u001b[1;31m---------------------------------------------------------------------------\u001b[0m",
      "\u001b[1;31mValueError\u001b[0m                                Traceback (most recent call last)",
      "\u001b[1;32m~\\AppData\\Local\\Temp/ipykernel_15504/2340867561.py\u001b[0m in \u001b[0;36m<module>\u001b[1;34m\u001b[0m\n\u001b[0;32m      5\u001b[0m \u001b[0mp1\u001b[0m\u001b[1;33m.\u001b[0m\u001b[0mline\u001b[0m\u001b[1;33m(\u001b[0m\u001b[0mseconds\u001b[0m\u001b[1;33m,\u001b[0m\u001b[0mA\u001b[0m \u001b[1;33m)\u001b[0m\u001b[1;33m\u001b[0m\u001b[1;33m\u001b[0m\u001b[0m\n\u001b[0;32m      6\u001b[0m \u001b[0mpnl\u001b[0m\u001b[1;33m=\u001b[0m\u001b[0mpn\u001b[0m\u001b[1;33m.\u001b[0m\u001b[0mpanel\u001b[0m\u001b[1;33m(\u001b[0m\u001b[0mp1\u001b[0m\u001b[1;33m)\u001b[0m\u001b[1;33m\u001b[0m\u001b[1;33m\u001b[0m\u001b[0m\n\u001b[1;32m----> 7\u001b[1;33m \u001b[0mpnl\u001b[0m\u001b[1;33m.\u001b[0m\u001b[0mlink\u001b[0m\u001b[1;33m(\u001b[0m\u001b[0mfloat_slider\u001b[0m\u001b[1;33m)\u001b[0m\u001b[1;33m\u001b[0m\u001b[1;33m\u001b[0m\u001b[0m\n\u001b[0m\u001b[0;32m      8\u001b[0m \u001b[1;31m#tabs = pn.Tabs(p1)\u001b[0m\u001b[1;33m\u001b[0m\u001b[1;33m\u001b[0m\u001b[1;33m\u001b[0m\u001b[0m\n\u001b[0;32m      9\u001b[0m \u001b[0mpnl\u001b[0m\u001b[1;33m\u001b[0m\u001b[1;33m\u001b[0m\u001b[0m\n",
      "\u001b[1;32m~\\kvmcode\\thermoviz\\venv_thermoviz\\lib\\site-packages\\panel\\reactive.py\u001b[0m in \u001b[0;36mlink\u001b[1;34m(self, target, callbacks, bidirectional, **links)\u001b[0m\n\u001b[0;32m    363\u001b[0m                              'not both.')\n\u001b[0;32m    364\u001b[0m         \u001b[1;32melif\u001b[0m \u001b[1;32mnot\u001b[0m \u001b[0mlinks\u001b[0m \u001b[1;32mand\u001b[0m \u001b[1;32mnot\u001b[0m \u001b[0mcallbacks\u001b[0m\u001b[1;33m:\u001b[0m\u001b[1;33m\u001b[0m\u001b[1;33m\u001b[0m\u001b[0m\n\u001b[1;32m--> 365\u001b[1;33m             raise ValueError('Declare parameters to link or a set of '\n\u001b[0m\u001b[0;32m    366\u001b[0m                              'callbacks, neither was defined.')\n\u001b[0;32m    367\u001b[0m         \u001b[1;32melif\u001b[0m \u001b[0mcallbacks\u001b[0m \u001b[1;32mand\u001b[0m \u001b[0mbidirectional\u001b[0m\u001b[1;33m:\u001b[0m\u001b[1;33m\u001b[0m\u001b[1;33m\u001b[0m\u001b[0m\n",
      "\u001b[1;31mValueError\u001b[0m: Declare parameters to link or a set of callbacks, neither was defined."
     ]
    }
   ],
   "source": [
    "from bokeh.plotting import figure\n",
    "\n",
    "p1 = figure(width=300, height=300)\n",
    "A=Ainit*np.exp(-float_slider.value*seconds)\n",
    "p1.line(seconds,A )\n",
    "pnl=pn.panel(p1)\n",
    "pnl.link(float_slider,)\n",
    "#tabs = pn.Tabs(p1)\n",
    "pnl"
   ]
  },
  {
   "cell_type": "code",
   "execution_count": 25,
   "id": "0576b0b5-dfd0-40bf-8789-a419137de992",
   "metadata": {},
   "outputs": [
    {
     "data": {
      "text/plain": [
       "Watcher(inst=FloatSlider(end=3.141, name='Float Slider', step=0.01, value=1.6), cls=<class 'panel.widgets.slider.FloatSlider'>, fn=<function cool at 0x000001F4B7A85700>, mode='args', onlychanged=True, parameter_names=('value',), what='value', queued=False)"
      ]
     },
     "execution_count": 25,
     "metadata": {},
     "output_type": "execute_result"
    }
   ],
   "source": [
    "float_slider.param.watch(cool, 'value')"
   ]
  },
  {
   "cell_type": "code",
   "execution_count": 26,
   "id": "4c1809db-9055-4f98-ad24-b317382711dd",
   "metadata": {},
   "outputs": [],
   "source": [
    "def cool(thin):\n",
    "    p1 = figure(width=300, height=300)\n",
    "    A=Ainit*np.exp(-float_slider.value*seconds)\n",
    "    p1.line(seconds,A )\n",
    "    pnl=pn.panel(p1)\n",
    "#    pnl.link(float_slider,)\n",
    "#tabs = pn.Tabs(p1)\n",
    "    return pnl"
   ]
  },
  {
   "cell_type": "code",
   "execution_count": 1,
   "id": "7a8bc87d-f691-4b54-8c77-e1444b8251b3",
   "metadata": {},
   "outputs": [],
   "source": [
    "import numpy as np\n",
    "from chempy import ReactionSystem"
   ]
  },
  {
   "cell_type": "code",
   "execution_count": 11,
   "id": "963e4a4a-0a3b-4a09-8272-9d844128bb14",
   "metadata": {},
   "outputs": [],
   "source": [
    "rxnstr=\"\"\" A + B -> C; 1e-4 \n",
    "            C -> A + B ; 1e-1 \"\"\""
   ]
  },
  {
   "cell_type": "code",
   "execution_count": 34,
   "id": "ab9a1f89-637a-467c-8c17-bd39e738a5de",
   "metadata": {},
   "outputs": [],
   "source": [
    "from chempy import Reaction"
   ]
  },
  {
   "cell_type": "code",
   "execution_count": null,
   "id": "0e7cfe09-e6a0-43db-a42a-e19770202f4e",
   "metadata": {},
   "outputs": [],
   "source": [
    "r=Reaction()"
   ]
  },
  {
   "cell_type": "code",
   "execution_count": 26,
   "id": "28fcbed6-9c53-461d-8d36-01e4f13195cc",
   "metadata": {},
   "outputs": [],
   "source": [
    ">>> rsys = ReactionSystem.from_string(\"\"\"2 Fe+2 + H2O2 -> 2 Fe+3 + 2 OH-; 42\n",
    "...     2 Fe+3 + H2O2 -> 2 Fe+2 + O2 + 2 H+; 17\n",
    "...     H+ + OH- -> H2O; 1e10\n",
    "...     H2O -> H+ + OH-; 1e-4\"\"\")"
   ]
  },
  {
   "cell_type": "code",
   "execution_count": 33,
   "id": "ea9add46-473d-459e-8a9a-8e4495330d29",
   "metadata": {},
   "outputs": [
    {
     "ename": "ParseException",
     "evalue": "Expected {Re:('A[cglmrstu]|B[aehikr]?|C[adeflmnorsu]?|D[bsy]|E[rsu]|F[elmr]?|G[ade]|H[efgos]?|I[nr]?|Kr?|L[airuv]|M[cdgnot]|N[abdehiop]?|O[gs]?|P[abdmortu]?|R[abefghnu]|S[bcegimnr]?|T[abcehilms]|U|V|W|Xe|Yb?|Z[nr]') | Group:({{Suppress:(\"(\") : ...} Suppress:(\")\")})}, found 'A'  (at char 0), (line:1, col:1)",
     "output_type": "error",
     "traceback": [
      "\u001b[1;31m---------------------------------------------------------------------------\u001b[0m",
      "\u001b[1;31mParseException\u001b[0m                            Traceback (most recent call last)",
      "\u001b[1;32m~\\AppData\\Local\\Temp/ipykernel_14060/1570135836.py\u001b[0m in \u001b[0;36m<module>\u001b[1;34m\u001b[0m\n\u001b[1;32m----> 1\u001b[1;33m rsys=ReactionSystem.from_string(\"\"\"A + B -> C; 1e-4\n\u001b[0m\u001b[0;32m      2\u001b[0m     C -> A + B; 1e-1\"\"\",\\\n\u001b[0;32m      3\u001b[0m     substances=['A','B','C'])\n",
      "\u001b[1;32m~\\kvmcode\\thermoviz\\venv_thermoviz\\lib\\site-packages\\chempy\\reactionsystem.py\u001b[0m in \u001b[0;36mfrom_string\u001b[1;34m(cls, s, substances, rxn_parse_kwargs, comment_tokens, **kwargs)\u001b[0m\n\u001b[0;32m    366\u001b[0m         \u001b[1;32mif\u001b[0m \u001b[1;34m'substance_factory'\u001b[0m \u001b[1;32mnot\u001b[0m \u001b[1;32min\u001b[0m \u001b[0mkwargs\u001b[0m\u001b[1;33m:\u001b[0m\u001b[1;33m\u001b[0m\u001b[1;33m\u001b[0m\u001b[0m\n\u001b[0;32m    367\u001b[0m             \u001b[0mkwargs\u001b[0m\u001b[1;33m[\u001b[0m\u001b[1;34m'substance_factory'\u001b[0m\u001b[1;33m]\u001b[0m \u001b[1;33m=\u001b[0m \u001b[0mcls\u001b[0m\u001b[1;33m.\u001b[0m\u001b[0m_BaseSubstance\u001b[0m\u001b[1;33m.\u001b[0m\u001b[0mfrom_formula\u001b[0m\u001b[1;33m\u001b[0m\u001b[1;33m\u001b[0m\u001b[0m\n\u001b[1;32m--> 368\u001b[1;33m         \u001b[1;32mreturn\u001b[0m \u001b[0mcls\u001b[0m\u001b[1;33m(\u001b[0m\u001b[0mrxns\u001b[0m\u001b[1;33m,\u001b[0m \u001b[0msubstances\u001b[0m\u001b[1;33m,\u001b[0m \u001b[1;33m**\u001b[0m\u001b[0mkwargs\u001b[0m\u001b[1;33m)\u001b[0m\u001b[1;33m\u001b[0m\u001b[1;33m\u001b[0m\u001b[0m\n\u001b[0m\u001b[0;32m    369\u001b[0m \u001b[1;33m\u001b[0m\u001b[0m\n\u001b[0;32m    370\u001b[0m     \u001b[1;32mdef\u001b[0m \u001b[0m__getitem__\u001b[0m\u001b[1;33m(\u001b[0m\u001b[0mself\u001b[0m\u001b[1;33m,\u001b[0m \u001b[0mkey\u001b[0m\u001b[1;33m)\u001b[0m\u001b[1;33m:\u001b[0m\u001b[1;33m\u001b[0m\u001b[1;33m\u001b[0m\u001b[0m\n",
      "\u001b[1;32m~\\kvmcode\\thermoviz\\venv_thermoviz\\lib\\site-packages\\chempy\\reactionsystem.py\u001b[0m in \u001b[0;36m__init__\u001b[1;34m(self, rxns, substances, name, checks, dont_check, substance_factory, missing_substances_from_keys, sort_substances)\u001b[0m\n\u001b[0;32m     92\u001b[0m                 \u001b[0mself\u001b[0m\u001b[1;33m.\u001b[0m\u001b[0msubstances\u001b[0m \u001b[1;33m=\u001b[0m \u001b[0mOrderedDict\u001b[0m\u001b[1;33m(\u001b[0m\u001b[0msubstances\u001b[0m\u001b[1;33m)\u001b[0m\u001b[1;33m\u001b[0m\u001b[1;33m\u001b[0m\u001b[0m\n\u001b[0;32m     93\u001b[0m             \u001b[1;32melse\u001b[0m\u001b[1;33m:\u001b[0m\u001b[1;33m\u001b[0m\u001b[1;33m\u001b[0m\u001b[0m\n\u001b[1;32m---> 94\u001b[1;33m                 \u001b[0mself\u001b[0m\u001b[1;33m.\u001b[0m\u001b[0msubstances\u001b[0m \u001b[1;33m=\u001b[0m \u001b[0mOrderedDict\u001b[0m\u001b[1;33m(\u001b[0m\u001b[1;33m(\u001b[0m\u001b[0mk\u001b[0m\u001b[1;33m,\u001b[0m \u001b[0msubstance_factory\u001b[0m\u001b[1;33m(\u001b[0m\u001b[0mk\u001b[0m\u001b[1;33m)\u001b[0m\u001b[1;33m)\u001b[0m \u001b[1;32mfor\u001b[0m \u001b[0mk\u001b[0m \u001b[1;32min\u001b[0m \u001b[0msubstances\u001b[0m\u001b[1;33m)\u001b[0m\u001b[1;33m\u001b[0m\u001b[1;33m\u001b[0m\u001b[0m\n\u001b[0m\u001b[0;32m     95\u001b[0m \u001b[1;33m\u001b[0m\u001b[0m\n\u001b[0;32m     96\u001b[0m         \u001b[1;32mif\u001b[0m \u001b[0mmissing_substances_from_keys\u001b[0m\u001b[1;33m:\u001b[0m\u001b[1;33m\u001b[0m\u001b[1;33m\u001b[0m\u001b[0m\n",
      "\u001b[1;32m~\\kvmcode\\thermoviz\\venv_thermoviz\\lib\\site-packages\\chempy\\reactionsystem.py\u001b[0m in \u001b[0;36m<genexpr>\u001b[1;34m(.0)\u001b[0m\n\u001b[0;32m     92\u001b[0m                 \u001b[0mself\u001b[0m\u001b[1;33m.\u001b[0m\u001b[0msubstances\u001b[0m \u001b[1;33m=\u001b[0m \u001b[0mOrderedDict\u001b[0m\u001b[1;33m(\u001b[0m\u001b[0msubstances\u001b[0m\u001b[1;33m)\u001b[0m\u001b[1;33m\u001b[0m\u001b[1;33m\u001b[0m\u001b[0m\n\u001b[0;32m     93\u001b[0m             \u001b[1;32melse\u001b[0m\u001b[1;33m:\u001b[0m\u001b[1;33m\u001b[0m\u001b[1;33m\u001b[0m\u001b[0m\n\u001b[1;32m---> 94\u001b[1;33m                 \u001b[0mself\u001b[0m\u001b[1;33m.\u001b[0m\u001b[0msubstances\u001b[0m \u001b[1;33m=\u001b[0m \u001b[0mOrderedDict\u001b[0m\u001b[1;33m(\u001b[0m\u001b[1;33m(\u001b[0m\u001b[0mk\u001b[0m\u001b[1;33m,\u001b[0m \u001b[0msubstance_factory\u001b[0m\u001b[1;33m(\u001b[0m\u001b[0mk\u001b[0m\u001b[1;33m)\u001b[0m\u001b[1;33m)\u001b[0m \u001b[1;32mfor\u001b[0m \u001b[0mk\u001b[0m \u001b[1;32min\u001b[0m \u001b[0msubstances\u001b[0m\u001b[1;33m)\u001b[0m\u001b[1;33m\u001b[0m\u001b[1;33m\u001b[0m\u001b[0m\n\u001b[0m\u001b[0;32m     95\u001b[0m \u001b[1;33m\u001b[0m\u001b[0m\n\u001b[0;32m     96\u001b[0m         \u001b[1;32mif\u001b[0m \u001b[0mmissing_substances_from_keys\u001b[0m\u001b[1;33m:\u001b[0m\u001b[1;33m\u001b[0m\u001b[1;33m\u001b[0m\u001b[0m\n",
      "\u001b[1;32m~\\kvmcode\\thermoviz\\venv_thermoviz\\lib\\site-packages\\chempy\\chemistry.py\u001b[0m in \u001b[0;36mfrom_formula\u001b[1;34m(cls, formula, **kwargs)\u001b[0m\n\u001b[0;32m    178\u001b[0m                    \u001b[0municode_name\u001b[0m\u001b[1;33m=\u001b[0m\u001b[0mformula_to_unicode\u001b[0m\u001b[1;33m(\u001b[0m\u001b[0mformula\u001b[0m\u001b[1;33m)\u001b[0m\u001b[1;33m,\u001b[0m\u001b[1;33m\u001b[0m\u001b[1;33m\u001b[0m\u001b[0m\n\u001b[0;32m    179\u001b[0m                    \u001b[0mhtml_name\u001b[0m\u001b[1;33m=\u001b[0m\u001b[0mformula_to_html\u001b[0m\u001b[1;33m(\u001b[0m\u001b[0mformula\u001b[0m\u001b[1;33m)\u001b[0m\u001b[1;33m,\u001b[0m\u001b[1;33m\u001b[0m\u001b[1;33m\u001b[0m\u001b[0m\n\u001b[1;32m--> 180\u001b[1;33m                    \u001b[0mcomposition\u001b[0m\u001b[1;33m=\u001b[0m\u001b[0mformula_to_composition\u001b[0m\u001b[1;33m(\u001b[0m\u001b[0mformula\u001b[0m\u001b[1;33m)\u001b[0m\u001b[1;33m,\u001b[0m\u001b[1;33m\u001b[0m\u001b[1;33m\u001b[0m\u001b[0m\n\u001b[0m\u001b[0;32m    181\u001b[0m                    **kwargs)\n\u001b[0;32m    182\u001b[0m \u001b[1;33m\u001b[0m\u001b[0m\n",
      "\u001b[1;32m~\\kvmcode\\thermoviz\\venv_thermoviz\\lib\\site-packages\\chempy\\util\\parsing.py\u001b[0m in \u001b[0;36mformula_to_composition\u001b[1;34m(formula, prefixes, suffixes)\u001b[0m\n\u001b[0;32m    279\u001b[0m         \u001b[1;32melse\u001b[0m\u001b[1;33m:\u001b[0m\u001b[1;33m\u001b[0m\u001b[1;33m\u001b[0m\u001b[0m\n\u001b[0;32m    280\u001b[0m             \u001b[0mm\u001b[0m\u001b[1;33m,\u001b[0m \u001b[0mstoich\u001b[0m \u001b[1;33m=\u001b[0m \u001b[0m_get_leading_integer\u001b[0m\u001b[1;33m(\u001b[0m\u001b[0mstoich\u001b[0m\u001b[1;33m)\u001b[0m\u001b[1;33m\u001b[0m\u001b[1;33m\u001b[0m\u001b[0m\n\u001b[1;32m--> 281\u001b[1;33m         \u001b[0mcomp\u001b[0m \u001b[1;33m=\u001b[0m \u001b[0m_parse_stoich\u001b[0m\u001b[1;33m(\u001b[0m\u001b[0mstoich\u001b[0m\u001b[1;33m)\u001b[0m\u001b[1;33m\u001b[0m\u001b[1;33m\u001b[0m\u001b[0m\n\u001b[0m\u001b[0;32m    282\u001b[0m         \u001b[1;32mfor\u001b[0m \u001b[0mk\u001b[0m\u001b[1;33m,\u001b[0m \u001b[0mv\u001b[0m \u001b[1;32min\u001b[0m \u001b[0mcomp\u001b[0m\u001b[1;33m.\u001b[0m\u001b[0mitems\u001b[0m\u001b[1;33m(\u001b[0m\u001b[1;33m)\u001b[0m\u001b[1;33m:\u001b[0m\u001b[1;33m\u001b[0m\u001b[1;33m\u001b[0m\u001b[0m\n\u001b[0;32m    283\u001b[0m             \u001b[1;32mif\u001b[0m \u001b[0mk\u001b[0m \u001b[1;32mnot\u001b[0m \u001b[1;32min\u001b[0m \u001b[0mtot_comp\u001b[0m\u001b[1;33m:\u001b[0m\u001b[1;33m\u001b[0m\u001b[1;33m\u001b[0m\u001b[0m\n",
      "\u001b[1;32m~\\kvmcode\\thermoviz\\venv_thermoviz\\lib\\site-packages\\chempy\\util\\parsing.py\u001b[0m in \u001b[0;36m_parse_stoich\u001b[1;34m(stoich)\u001b[0m\n\u001b[0;32m    207\u001b[0m         \u001b[1;32mreturn\u001b[0m \u001b[1;33m{\u001b[0m\u001b[1;33m}\u001b[0m\u001b[1;33m\u001b[0m\u001b[1;33m\u001b[0m\u001b[0m\n\u001b[0;32m    208\u001b[0m     return {symbols.index(k)+1: n for k, n\n\u001b[1;32m--> 209\u001b[1;33m             in _get_formula_parser().parseString(stoich)}\n\u001b[0m\u001b[0;32m    210\u001b[0m \u001b[1;33m\u001b[0m\u001b[0m\n\u001b[0;32m    211\u001b[0m _greek_letters = (\n",
      "\u001b[1;32m~\\kvmcode\\thermoviz\\venv_thermoviz\\lib\\site-packages\\pyparsing.py\u001b[0m in \u001b[0;36mparseString\u001b[1;34m(self, instring, parseAll)\u001b[0m\n\u001b[0;32m   1953\u001b[0m                 \u001b[1;32mif\u001b[0m \u001b[0mgetattr\u001b[0m\u001b[1;33m(\u001b[0m\u001b[0mexc\u001b[0m\u001b[1;33m,\u001b[0m \u001b[1;34m'__traceback__'\u001b[0m\u001b[1;33m,\u001b[0m \u001b[1;32mNone\u001b[0m\u001b[1;33m)\u001b[0m \u001b[1;32mis\u001b[0m \u001b[1;32mnot\u001b[0m \u001b[1;32mNone\u001b[0m\u001b[1;33m:\u001b[0m\u001b[1;33m\u001b[0m\u001b[1;33m\u001b[0m\u001b[0m\n\u001b[0;32m   1954\u001b[0m                     \u001b[0mexc\u001b[0m\u001b[1;33m.\u001b[0m\u001b[0m__traceback__\u001b[0m \u001b[1;33m=\u001b[0m \u001b[0mself\u001b[0m\u001b[1;33m.\u001b[0m\u001b[0m_trim_traceback\u001b[0m\u001b[1;33m(\u001b[0m\u001b[0mexc\u001b[0m\u001b[1;33m.\u001b[0m\u001b[0m__traceback__\u001b[0m\u001b[1;33m)\u001b[0m\u001b[1;33m\u001b[0m\u001b[1;33m\u001b[0m\u001b[0m\n\u001b[1;32m-> 1955\u001b[1;33m                 \u001b[1;32mraise\u001b[0m \u001b[0mexc\u001b[0m\u001b[1;33m\u001b[0m\u001b[1;33m\u001b[0m\u001b[0m\n\u001b[0m\u001b[0;32m   1956\u001b[0m         \u001b[1;32melse\u001b[0m\u001b[1;33m:\u001b[0m\u001b[1;33m\u001b[0m\u001b[1;33m\u001b[0m\u001b[0m\n\u001b[0;32m   1957\u001b[0m             \u001b[1;32mreturn\u001b[0m \u001b[0mtokens\u001b[0m\u001b[1;33m\u001b[0m\u001b[1;33m\u001b[0m\u001b[0m\n",
      "\u001b[1;32m~\\kvmcode\\thermoviz\\venv_thermoviz\\lib\\site-packages\\pyparsing.py\u001b[0m in \u001b[0;36mparseImpl\u001b[1;34m(self, instring, loc, doActions)\u001b[0m\n\u001b[0;32m   3340\u001b[0m         \u001b[0mresult\u001b[0m \u001b[1;33m=\u001b[0m \u001b[0mself\u001b[0m\u001b[1;33m.\u001b[0m\u001b[0mre_match\u001b[0m\u001b[1;33m(\u001b[0m\u001b[0minstring\u001b[0m\u001b[1;33m,\u001b[0m \u001b[0mloc\u001b[0m\u001b[1;33m)\u001b[0m\u001b[1;33m\u001b[0m\u001b[1;33m\u001b[0m\u001b[0m\n\u001b[0;32m   3341\u001b[0m         \u001b[1;32mif\u001b[0m \u001b[1;32mnot\u001b[0m \u001b[0mresult\u001b[0m\u001b[1;33m:\u001b[0m\u001b[1;33m\u001b[0m\u001b[1;33m\u001b[0m\u001b[0m\n\u001b[1;32m-> 3342\u001b[1;33m             \u001b[1;32mraise\u001b[0m \u001b[0mParseException\u001b[0m\u001b[1;33m(\u001b[0m\u001b[0minstring\u001b[0m\u001b[1;33m,\u001b[0m \u001b[0mloc\u001b[0m\u001b[1;33m,\u001b[0m \u001b[0mself\u001b[0m\u001b[1;33m.\u001b[0m\u001b[0merrmsg\u001b[0m\u001b[1;33m,\u001b[0m \u001b[0mself\u001b[0m\u001b[1;33m)\u001b[0m\u001b[1;33m\u001b[0m\u001b[1;33m\u001b[0m\u001b[0m\n\u001b[0m\u001b[0;32m   3343\u001b[0m \u001b[1;33m\u001b[0m\u001b[0m\n\u001b[0;32m   3344\u001b[0m         \u001b[0mloc\u001b[0m \u001b[1;33m=\u001b[0m \u001b[0mresult\u001b[0m\u001b[1;33m.\u001b[0m\u001b[0mend\u001b[0m\u001b[1;33m(\u001b[0m\u001b[1;33m)\u001b[0m\u001b[1;33m\u001b[0m\u001b[1;33m\u001b[0m\u001b[0m\n",
      "\u001b[1;31mParseException\u001b[0m: Expected {Re:('A[cglmrstu]|B[aehikr]?|C[adeflmnorsu]?|D[bsy]|E[rsu]|F[elmr]?|G[ade]|H[efgos]?|I[nr]?|Kr?|L[airuv]|M[cdgnot]|N[abdehiop]?|O[gs]?|P[abdmortu]?|R[abefghnu]|S[bcegimnr]?|T[abcehilms]|U|V|W|Xe|Yb?|Z[nr]') | Group:({{Suppress:(\"(\") : ...} Suppress:(\")\")})}, found 'A'  (at char 0), (line:1, col:1)"
     ]
    }
   ],
   "source": [
    "rsys=ReactionSystem.from_string(\"\"\"A + B -> C; 1e-4\n",
    "...     C -> A + B; 1e-1\"\"\",\\\n",
    "    substances=['A','B','C'])"
   ]
  },
  {
   "cell_type": "code",
   "execution_count": 29,
   "id": "204e920d-8907-479a-83a1-2d1dc6c4fb54",
   "metadata": {},
   "outputs": [],
   "source": [
    "from chempy.kinetics.ode import get_odesys"
   ]
  },
  {
   "cell_type": "code",
   "execution_count": 30,
   "id": "d8eeaa17-333d-44cd-80c9-198bbbd787ff",
   "metadata": {},
   "outputs": [],
   "source": [
    "odesys, extra = get_odesys(rsys)"
   ]
  },
  {
   "cell_type": "code",
   "execution_count": 31,
   "id": "d2034a08-c1d0-40c5-9dc2-75f3ac2e0d2f",
   "metadata": {},
   "outputs": [
    {
     "data": {
      "text/plain": [
       "<pyodesys.symbolic.SymbolicSys at 0x1e76029b7f0>"
      ]
     },
     "execution_count": 31,
     "metadata": {},
     "output_type": "execute_result"
    }
   ],
   "source": [
    "odesys"
   ]
  },
  {
   "cell_type": "code",
   "execution_count": 32,
   "id": "cacc49df-bdfd-469d-8994-8b27ce28d549",
   "metadata": {},
   "outputs": [
    {
     "ename": "TypeError",
     "evalue": "to_arrays() missing 3 required positional arguments: 'x', 'y', and 'p'",
     "output_type": "error",
     "traceback": [
      "\u001b[1;31m---------------------------------------------------------------------------\u001b[0m",
      "\u001b[1;31mTypeError\u001b[0m                                 Traceback (most recent call last)",
      "\u001b[1;32m~\\AppData\\Local\\Temp/ipykernel_14060/2250295359.py\u001b[0m in \u001b[0;36m<module>\u001b[1;34m\u001b[0m\n\u001b[1;32m----> 1\u001b[1;33m \u001b[0modesys\u001b[0m\u001b[1;33m.\u001b[0m\u001b[0mto_arrays\u001b[0m\u001b[1;33m(\u001b[0m\u001b[1;33m)\u001b[0m\u001b[1;33m\u001b[0m\u001b[1;33m\u001b[0m\u001b[0m\n\u001b[0m",
      "\u001b[1;31mTypeError\u001b[0m: to_arrays() missing 3 required positional arguments: 'x', 'y', and 'p'"
     ]
    }
   ],
   "source": [
    "odesys.to_arrays()"
   ]
  },
  {
   "cell_type": "code",
   "execution_count": null,
   "id": "32315cad-ff7d-47cb-9cc9-296b84190284",
   "metadata": {},
   "outputs": [],
   "source": []
  },
  {
   "cell_type": "code",
   "execution_count": 38,
   "id": "6fd8fef7-21d4-4063-b182-5a4d17bea156",
   "metadata": {},
   "outputs": [],
   "source": [
    "import sympy as sp\n",
    "from chempy import Substance, Equilibrium, ReactionSystem\n",
    "\n",
    "K1, K3, R1f, R3f = sp.symbols('K_1 K_3 R_1f R_3f')\n",
    "\n",
    "def mono_rev_single():\n",
    "    '''Reversible mechanism with one central complex (pg 36)\n",
    "    '''\n",
    "    E, A, P, X = map(Substance, 'EAPX')\n",
    "    equilibria = e1, e3 = [\n",
    "        Equilibrium({'E', 'A'}, {'X'}, param=K1),\n",
    "        Equilibrium({'X'}, {'E', 'P'}, param=K3)\n",
    "    ]\n",
    "    reactions = e1.as_reactions(kf=R1f) + e3.as_reactions(kf=R3f)\n",
    "    return ReactionSystem(reactions, (E, A, P, X))"
   ]
  },
  {
   "cell_type": "code",
   "execution_count": 39,
   "id": "9741e5ea-b866-4ed3-a4bc-d9477e27d0fe",
   "metadata": {},
   "outputs": [],
   "source": [
    "rsys = mono_rev_single()\n"
   ]
  },
  {
   "cell_type": "code",
   "execution_count": 40,
   "id": "76076feb-c49e-48c4-b8bf-1c56057f6e63",
   "metadata": {},
   "outputs": [
    {
     "data": {
      "text/html": [
       "<table class=\"chempy_ReactionSystem chempy_2093263070928\"><tr><th style=\"text-align:center;\" colspan=\"5\"></th></tr><tr class=\"chempy_2093263070928_0\"><td style=\"text-align:right;\"><span class=\"chempy_A\" style=\"border-radius: 5pt; padding: 0pt 3pt 0pt 3pt;\">A</span> + <span class=\"chempy_E\" style=\"border-radius: 5pt; padding: 0pt 3pt 0pt 3pt;\">E</span></td><td style=\"text-align:center;\">&rarr;</td><td style=\"text-align:left;\"><span class=\"chempy_X\" style=\"border-radius: 5pt; padding: 0pt 3pt 0pt 3pt;\">X</span></td><td style=\"text-align:left;\">&nbsp;R_1f</td></tr>\n",
       "\n",
       "<tr class=\"chempy_2093263070928_1\"><td style=\"text-align:right;\"><span class=\"chempy_X\" style=\"border-radius: 5pt; padding: 0pt 3pt 0pt 3pt;\">X</span></td><td style=\"text-align:center;\">&rarr;</td><td style=\"text-align:left;\"><span class=\"chempy_A\" style=\"border-radius: 5pt; padding: 0pt 3pt 0pt 3pt;\">A</span> + <span class=\"chempy_E\" style=\"border-radius: 5pt; padding: 0pt 3pt 0pt 3pt;\">E</span></td><td style=\"text-align:left;\">&nbsp;1.0*R_1f/K_1</td></tr>\n",
       "\n",
       "<tr class=\"chempy_2093263070928_2\"><td style=\"text-align:right;\"><span class=\"chempy_X\" style=\"border-radius: 5pt; padding: 0pt 3pt 0pt 3pt;\">X</span></td><td style=\"text-align:center;\">&rarr;</td><td style=\"text-align:left;\"><span class=\"chempy_E\" style=\"border-radius: 5pt; padding: 0pt 3pt 0pt 3pt;\">E</span> + <span class=\"chempy_P\" style=\"border-radius: 5pt; padding: 0pt 3pt 0pt 3pt;\">P</span></td><td style=\"text-align:left;\">&nbsp;R_3f</td></tr>\n",
       "\n",
       "<tr class=\"chempy_2093263070928_3\"><td style=\"text-align:right;\"><span class=\"chempy_E\" style=\"border-radius: 5pt; padding: 0pt 3pt 0pt 3pt;\">E</span> + <span class=\"chempy_P\" style=\"border-radius: 5pt; padding: 0pt 3pt 0pt 3pt;\">P</span></td><td style=\"text-align:center;\">&rarr;</td><td style=\"text-align:left;\"><span class=\"chempy_X\" style=\"border-radius: 5pt; padding: 0pt 3pt 0pt 3pt;\">X</span></td><td style=\"text-align:left;\">&nbsp;R_3f/K_3</td></tr></table><script type=\"text/javascript\">\n",
       "var cls_names_substances = [\"chempy_E\", \"chempy_A\", \"chempy_P\", \"chempy_X\"];\n",
       "var substance_row_cls_irrel = {\"chempy_E\": [], \"chempy_A\": [\"chempy_2093263070928_2\", \"chempy_2093263070928_3\"], \"chempy_P\": [\"chempy_2093263070928_0\", \"chempy_2093263070928_1\"], \"chempy_X\": []};\n",
       "var elms = {};\n",
       "var n = {}, nsubstances = cls_names_substances.length;\n",
       "var nirrel = {};\n",
       "function changeColor(classname, color) {\n",
       "    var curN = n[classname];\n",
       "    for(var i = 0; i < curN; i++) {\n",
       "        elms[classname][i].style.backgroundColor = color;\n",
       "    }\n",
       "}\n",
       "function toggleVisibility(classname_substance) {\n",
       "    var curN = nirrel[classname_substance];\n",
       "    for (var i=0; i<curN; i++) {\n",
       "        var objs = document.getElementsByClassName(substance_row_cls_irrel[classname_substance][i]);\n",
       "        for (var j=0; j<objs.length; ++j){\n",
       "            objs[j].style.display = objs[j].style.display == \"none\" ? \"table-row\" : \"none\";\n",
       "        }\n",
       "    }\n",
       "}\n",
       "function resetTab(tab){\n",
       "    tab.style.border = \"0px\";\n",
       "    var rows = tab.getElementsByTagName('tr');\n",
       "    [].forEach.call(rows, function(row){\n",
       "        row.style.display = \"table-row\";\n",
       "    });\n",
       "    tab.getElementsByTagName('th')[0].innerHTML = tab.ori_header +\n",
       "        \"<br>(click on species to show a subset of reactions)\";\n",
       "};\n",
       "\n",
       "for(var k = 0; k < nsubstances; k++) {\n",
       "    var curClass = cls_names_substances[k];\n",
       "    var curIrrel = substance_row_cls_irrel[k];\n",
       "    elms[curClass] = document.getElementsByClassName(curClass);\n",
       "    n[curClass] = elms[curClass].length;\n",
       "    nirrel[curClass] = substance_row_cls_irrel[curClass].length;\n",
       "    var curN = n[curClass];\n",
       "    for(var i = 0; i < curN; i++) {\n",
       "        elms[curClass][i].onmouseover = function() {\n",
       "            changeColor(this.className, \"LightBlue\");\n",
       "        };\n",
       "        elms[curClass][i].onmouseout = function() {\n",
       "            changeColor(this.className, \"inherit\");\n",
       "        };\n",
       "        elms[curClass][i].onclick = function() {\n",
       "            var tab = this.closest(\"table\");\n",
       "            resetTab(tab);\n",
       "            tab.style.border = \"1px dashed #000000\";\n",
       "            toggleVisibility(this.className);\n",
       "            tab.getElementsByTagName('th')[0].innerHTML = tab.ori_header +\n",
       "                 \"<br>Only showing reactions involving: \" + this.innerHTML +\n",
       "                 \" (double-click to reset)\";\n",
       "        };\n",
       "    }\n",
       "};\n",
       "var chempy_tabs = document.querySelectorAll('table.chempy_2093263070928');\n",
       "[].forEach.call(chempy_tabs, function(tab){\n",
       "    tab.ori_header = tab.getElementsByTagName('th')[0].innerHTML;\n",
       "    tab.ondblclick = function(){\n",
       "        resetTab(this);\n",
       "        this.scrollIntoView();\n",
       "    };\n",
       "});\n",
       "[].forEach.call(chempy_tabs, function(tab){\n",
       "    resetTab(tab);\n",
       "});\n",
       "</script>"
      ],
      "text/plain": [
       "<chempy.reactionsystem.ReactionSystem at 0x1e76033a6d0>"
      ]
     },
     "execution_count": 40,
     "metadata": {},
     "output_type": "execute_result"
    }
   ],
   "source": [
    "rsys"
   ]
  },
  {
   "cell_type": "code",
   "execution_count": 41,
   "id": "c4633d90-4bbc-4b0e-91ef-ca53a453dfb0",
   "metadata": {},
   "outputs": [],
   "source": [
    "odesys = get_odesys(rsys, include_params=False, params=True)[0]"
   ]
  },
  {
   "cell_type": "code",
   "execution_count": 42,
   "id": "382ef561-8d8e-44ce-b688-292a0b4c91d8",
   "metadata": {},
   "outputs": [
    {
     "data": {
      "text/plain": [
       "<pyodesys.symbolic.SymbolicSys at 0x1e75050b1f0>"
      ]
     },
     "execution_count": 42,
     "metadata": {},
     "output_type": "execute_result"
    }
   ],
   "source": [
    "odesys"
   ]
  },
  {
   "cell_type": "code",
   "execution_count": 43,
   "id": "00533393-b5c6-4698-8819-ba3cf5dae9ed",
   "metadata": {},
   "outputs": [
    {
     "data": {
      "text/plain": [
       "(K_1, K_3, R_1f, R_3f)"
      ]
     },
     "execution_count": 43,
     "metadata": {},
     "output_type": "execute_result"
    }
   ],
   "source": [
    "assert len(odesys.params) == 4\n",
    "odesys.params"
   ]
  },
  {
   "cell_type": "code",
   "execution_count": 44,
   "id": "3909a19f-3f01-4244-95e8-7892ea27b528",
   "metadata": {},
   "outputs": [
    {
     "data": {
      "text/latex": [
       "$\\displaystyle \\left[\\begin{matrix}- R_{1f} y_{1} - \\frac{R_{3f} y_{2}}{K_{3}} & - R_{1f} y_{0} & - \\frac{R_{3f} y_{0}}{K_{3}} & R_{3f} + \\frac{1.0 R_{1f}}{K_{1}}\\\\- R_{1f} y_{1} & - R_{1f} y_{0} & 0 & \\frac{1.0 R_{1f}}{K_{1}}\\\\- \\frac{R_{3f} y_{2}}{K_{3}} & 0 & - \\frac{R_{3f} y_{0}}{K_{3}} & R_{3f}\\\\R_{1f} y_{1} + \\frac{R_{3f} y_{2}}{K_{3}} & R_{1f} y_{0} & \\frac{R_{3f} y_{0}}{K_{3}} & - R_{3f} - \\frac{1.0 R_{1f}}{K_{1}}\\end{matrix}\\right]$"
      ],
      "text/plain": [
       "Matrix([\n",
       "[-R_1f*y_1 - R_3f*y_2/K_3, -R_1f*y_0, -R_3f*y_0/K_3,  R_3f + 1.0*R_1f/K_1],\n",
       "[               -R_1f*y_1, -R_1f*y_0,             0,         1.0*R_1f/K_1],\n",
       "[           -R_3f*y_2/K_3,         0, -R_3f*y_0/K_3,                 R_3f],\n",
       "[ R_1f*y_1 + R_3f*y_2/K_3,  R_1f*y_0,  R_3f*y_0/K_3, -R_3f - 1.0*R_1f/K_1]])"
      ]
     },
     "execution_count": 44,
     "metadata": {},
     "output_type": "execute_result"
    }
   ],
   "source": [
    "odesys.get_jac()"
   ]
  },
  {
   "cell_type": "code",
   "execution_count": 45,
   "id": "60d1a0db-4d1c-42f4-bbd3-fe966742e3cd",
   "metadata": {},
   "outputs": [],
   "source": [
    "c0 = {'E': 5, 'A': 2, 'P': 0, 'X': 0}\n",
    "params = {K1: 17, K3: 23, R1f: 63, R3f: 43}"
   ]
  },
  {
   "cell_type": "code",
   "execution_count": 47,
   "id": "b0f96a24-0907-4b30-9c9f-e97e765c716c",
   "metadata": {},
   "outputs": [
    {
     "data": {
      "text/plain": [
       "array([-630., -630.,    0.,  630.])"
      ]
     },
     "execution_count": 47,
     "metadata": {},
     "output_type": "execute_result"
    }
   ],
   "source": [
    "odesys.f_cb(42, [c0[k] for k in rsys.substances], [params[k] for k in odesys.params])"
   ]
  },
  {
   "cell_type": "code",
   "execution_count": 48,
   "id": "05f715a6-3696-4924-a529-ba1e9c6aa992",
   "metadata": {},
   "outputs": [
    {
     "data": {
      "text/plain": [
       "(('E', 'A', 'P', 'X'), ())"
      ]
     },
     "execution_count": 48,
     "metadata": {},
     "output_type": "execute_result"
    }
   ],
   "source": [
    "odesys.names, odesys.param_names  # get_odesys or SymbolicSys could determine names from Symbol.name"
   ]
  },
  {
   "cell_type": "code",
   "execution_count": 51,
   "id": "46013df0-d42b-4813-8da3-009c41508ca8",
   "metadata": {},
   "outputs": [
    {
     "ename": "ModuleNotFoundError",
     "evalue": "No module named 'pycvodes'",
     "output_type": "error",
     "traceback": [
      "\u001b[1;31m---------------------------------------------------------------------------\u001b[0m",
      "\u001b[1;31mModuleNotFoundError\u001b[0m                       Traceback (most recent call last)",
      "\u001b[1;32m~\\AppData\\Local\\Temp/ipykernel_14060/1624541490.py\u001b[0m in \u001b[0;36m<module>\u001b[1;34m\u001b[0m\n\u001b[1;32m----> 1\u001b[1;33m \u001b[0mresult\u001b[0m \u001b[1;33m=\u001b[0m \u001b[0modesys\u001b[0m\u001b[1;33m.\u001b[0m\u001b[0mintegrate\u001b[0m\u001b[1;33m(\u001b[0m\u001b[1;36m42\u001b[0m\u001b[1;33m,\u001b[0m \u001b[0mc0\u001b[0m\u001b[1;33m,\u001b[0m \u001b[0mparams\u001b[0m\u001b[1;33m,\u001b[0m \u001b[0mintegrator\u001b[0m\u001b[1;33m=\u001b[0m\u001b[1;34m'cvode'\u001b[0m\u001b[1;33m)\u001b[0m\u001b[1;33m\u001b[0m\u001b[1;33m\u001b[0m\u001b[0m\n\u001b[0m",
      "\u001b[1;32m~\\kvmcode\\thermoviz\\venv_thermoviz\\lib\\site-packages\\pyodesys\\core.py\u001b[0m in \u001b[0;36mintegrate\u001b[1;34m(self, x, y0, params, atol, rtol, **kwargs)\u001b[0m\n\u001b[0;32m    428\u001b[0m         \u001b[0mself\u001b[0m\u001b[1;33m.\u001b[0m\u001b[0m_current_integration_kwargs\u001b[0m \u001b[1;33m=\u001b[0m \u001b[0mkwargs\u001b[0m\u001b[1;33m\u001b[0m\u001b[1;33m\u001b[0m\u001b[0m\n\u001b[0;32m    429\u001b[0m         \u001b[1;32mif\u001b[0m \u001b[0misinstance\u001b[0m\u001b[1;33m(\u001b[0m\u001b[0mintegrator\u001b[0m\u001b[1;33m,\u001b[0m \u001b[0mstr\u001b[0m\u001b[1;33m)\u001b[0m\u001b[1;33m:\u001b[0m\u001b[1;33m\u001b[0m\u001b[1;33m\u001b[0m\u001b[0m\n\u001b[1;32m--> 430\u001b[1;33m             \u001b[0mnfo\u001b[0m \u001b[1;33m=\u001b[0m \u001b[0mgetattr\u001b[0m\u001b[1;33m(\u001b[0m\u001b[0mself\u001b[0m\u001b[1;33m,\u001b[0m \u001b[1;34m'_integrate_'\u001b[0m \u001b[1;33m+\u001b[0m \u001b[0mintegrator\u001b[0m\u001b[1;33m)\u001b[0m\u001b[1;33m(\u001b[0m\u001b[1;33m*\u001b[0m\u001b[0margs\u001b[0m\u001b[1;33m,\u001b[0m \u001b[1;33m**\u001b[0m\u001b[0mkwargs\u001b[0m\u001b[1;33m)\u001b[0m\u001b[1;33m\u001b[0m\u001b[1;33m\u001b[0m\u001b[0m\n\u001b[0m\u001b[0;32m    431\u001b[0m         \u001b[1;32melse\u001b[0m\u001b[1;33m:\u001b[0m\u001b[1;33m\u001b[0m\u001b[1;33m\u001b[0m\u001b[0m\n\u001b[0;32m    432\u001b[0m             \u001b[0mkwargs\u001b[0m\u001b[1;33m[\u001b[0m\u001b[1;34m'with_jacobian'\u001b[0m\u001b[1;33m]\u001b[0m \u001b[1;33m=\u001b[0m \u001b[0mgetattr\u001b[0m\u001b[1;33m(\u001b[0m\u001b[0mintegrator\u001b[0m\u001b[1;33m,\u001b[0m \u001b[1;34m'with_jacobian'\u001b[0m\u001b[1;33m,\u001b[0m \u001b[1;32mNone\u001b[0m\u001b[1;33m)\u001b[0m\u001b[1;33m\u001b[0m\u001b[1;33m\u001b[0m\u001b[0m\n",
      "\u001b[1;32m~\\kvmcode\\thermoviz\\venv_thermoviz\\lib\\site-packages\\pyodesys\\core.py\u001b[0m in \u001b[0;36m_integrate_cvode\u001b[1;34m(self, *args, **kwargs)\u001b[0m\n\u001b[0;32m    712\u001b[0m         \u001b[1;33m(\u001b[0m\u001b[0mvia\u001b[0m\u001b[0;31m \u001b[0m\u001b[0;31m`\u001b[0m\u001b[0mpycvodes\u001b[0m \u001b[1;33m<\u001b[0m\u001b[0mhttps\u001b[0m\u001b[1;33m:\u001b[0m\u001b[1;33m//\u001b[0m\u001b[0mpypi\u001b[0m\u001b[1;33m.\u001b[0m\u001b[0mpython\u001b[0m\u001b[1;33m.\u001b[0m\u001b[0morg\u001b[0m\u001b[1;33m/\u001b[0m\u001b[0mpypi\u001b[0m\u001b[1;33m/\u001b[0m\u001b[0mpycvodes\u001b[0m\u001b[1;33m>\u001b[0m\u001b[0;31m`\u001b[0m\u001b[0m_\u001b[0m\u001b[1;33m)\u001b[0m\u001b[1;33m\u001b[0m\u001b[1;33m\u001b[0m\u001b[0m\n\u001b[0;32m    713\u001b[0m         to integrate the ODE system. \"\"\"\n\u001b[1;32m--> 714\u001b[1;33m         \u001b[1;32mimport\u001b[0m \u001b[0mpycvodes\u001b[0m  \u001b[1;31m# Python interface to SUNDIALS's cvodes integrators\u001b[0m\u001b[1;33m\u001b[0m\u001b[1;33m\u001b[0m\u001b[0m\n\u001b[0m\u001b[0;32m    715\u001b[0m         \u001b[0mkwargs\u001b[0m\u001b[1;33m[\u001b[0m\u001b[1;34m'with_jacobian'\u001b[0m\u001b[1;33m]\u001b[0m \u001b[1;33m=\u001b[0m \u001b[0mkwargs\u001b[0m\u001b[1;33m.\u001b[0m\u001b[0mget\u001b[0m\u001b[1;33m(\u001b[0m\u001b[1;34m'method'\u001b[0m\u001b[1;33m,\u001b[0m \u001b[1;34m'bdf'\u001b[0m\u001b[1;33m)\u001b[0m \u001b[1;32min\u001b[0m \u001b[0mpycvodes\u001b[0m\u001b[1;33m.\u001b[0m\u001b[0mrequires_jac\u001b[0m\u001b[1;33m\u001b[0m\u001b[1;33m\u001b[0m\u001b[0m\n\u001b[0;32m    716\u001b[0m         \u001b[1;32mif\u001b[0m \u001b[1;34m'lband'\u001b[0m \u001b[1;32min\u001b[0m \u001b[0mkwargs\u001b[0m \u001b[1;32mor\u001b[0m \u001b[1;34m'uband'\u001b[0m \u001b[1;32min\u001b[0m \u001b[0mkwargs\u001b[0m \u001b[1;32mor\u001b[0m \u001b[1;34m'band'\u001b[0m \u001b[1;32min\u001b[0m \u001b[0mkwargs\u001b[0m\u001b[1;33m:\u001b[0m\u001b[1;33m\u001b[0m\u001b[1;33m\u001b[0m\u001b[0m\n",
      "\u001b[1;31mModuleNotFoundError\u001b[0m: No module named 'pycvodes'"
     ]
    }
   ],
   "source": [
    "result = odesys.integrate(42, c0, params, integrator='cvode')"
   ]
  },
  {
   "cell_type": "code",
   "execution_count": null,
   "id": "5ff60904-cfcd-4e32-8e1a-3a1f25778d31",
   "metadata": {},
   "outputs": [],
   "source": []
  }
 ],
 "metadata": {
  "kernelspec": {
   "display_name": "venv_thermoviz",
   "language": "python",
   "name": "venv_thermoviz"
  },
  "language_info": {
   "codemirror_mode": {
    "name": "ipython",
    "version": 3
   },
   "file_extension": ".py",
   "mimetype": "text/x-python",
   "name": "python",
   "nbconvert_exporter": "python",
   "pygments_lexer": "ipython3",
   "version": "3.9.6"
  }
 },
 "nbformat": 4,
 "nbformat_minor": 5
}
