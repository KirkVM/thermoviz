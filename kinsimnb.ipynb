{
 "cells": [
  {
   "cell_type": "code",
   "execution_count": 1,
   "id": "1209688c-816c-4505-a733-fed2a26c19a0",
   "metadata": {},
   "outputs": [
    {
     "name": "stderr",
     "output_type": "stream",
     "text": [
      "/Users/kvandermeulen/kvmcode/thermoviz/venv_thermoviz/lib/python3.9/site-packages/pandas/compat/__init__.py:124: UserWarning: Could not import the lzma module. Your installed Python is incomplete. Attempting to use lzma compression will result in a RuntimeError.\n",
      "  warnings.warn(msg)\n"
     ]
    },
    {
     "data": {
      "application/javascript": [
       "\n",
       "(function(root) {\n",
       "  function now() {\n",
       "    return new Date();\n",
       "  }\n",
       "\n",
       "  var force = true;\n",
       "\n",
       "  if (typeof root._bokeh_onload_callbacks === \"undefined\" || force === true) {\n",
       "    root._bokeh_onload_callbacks = [];\n",
       "    root._bokeh_is_loading = undefined;\n",
       "  }\n",
       "\n",
       "  if (typeof (root._bokeh_timeout) === \"undefined\" || force === true) {\n",
       "    root._bokeh_timeout = Date.now() + 5000;\n",
       "    root._bokeh_failed_load = false;\n",
       "  }\n",
       "\n",
       "  function run_callbacks() {\n",
       "    try {\n",
       "      root._bokeh_onload_callbacks.forEach(function(callback) {\n",
       "        if (callback != null)\n",
       "          callback();\n",
       "      });\n",
       "    } finally {\n",
       "      delete root._bokeh_onload_callbacks\n",
       "    }\n",
       "    console.debug(\"Bokeh: all callbacks have finished\");\n",
       "  }\n",
       "\n",
       "  function load_libs(css_urls, js_urls, js_modules, callback) {\n",
       "    if (css_urls == null) css_urls = [];\n",
       "    if (js_urls == null) js_urls = [];\n",
       "    if (js_modules == null) js_modules = [];\n",
       "\n",
       "    root._bokeh_onload_callbacks.push(callback);\n",
       "    if (root._bokeh_is_loading > 0) {\n",
       "      console.debug(\"Bokeh: BokehJS is being loaded, scheduling callback at\", now());\n",
       "      return null;\n",
       "    }\n",
       "    if (js_urls.length === 0 && js_modules.length === 0) {\n",
       "      run_callbacks();\n",
       "      return null;\n",
       "    }\n",
       "    console.debug(\"Bokeh: BokehJS not loaded, scheduling load and callback at\", now());\n",
       "    root._bokeh_is_loading = css_urls.length + js_urls.length + js_modules.length;\n",
       "\n",
       "    function on_load() {\n",
       "      root._bokeh_is_loading--;\n",
       "      if (root._bokeh_is_loading === 0) {\n",
       "        console.debug(\"Bokeh: all BokehJS libraries/stylesheets loaded\");\n",
       "        run_callbacks()\n",
       "      }\n",
       "    }\n",
       "\n",
       "    function on_error() {\n",
       "      console.error(\"failed to load \" + url);\n",
       "    }\n",
       "\n",
       "    for (var i = 0; i < css_urls.length; i++) {\n",
       "      var url = css_urls[i];\n",
       "      const element = document.createElement(\"link\");\n",
       "      element.onload = on_load;\n",
       "      element.onerror = on_error;\n",
       "      element.rel = \"stylesheet\";\n",
       "      element.type = \"text/css\";\n",
       "      element.href = url;\n",
       "      console.debug(\"Bokeh: injecting link tag for BokehJS stylesheet: \", url);\n",
       "      document.body.appendChild(element);\n",
       "    }\n",
       "\n",
       "    var skip = [];\n",
       "    if (window.requirejs) {\n",
       "      window.requirejs.config({'paths': {}, 'shim': {}});\n",
       "      \n",
       "    }\n",
       "    for (var i = 0; i < js_urls.length; i++) {\n",
       "      var url = js_urls[i];\n",
       "      if (skip.indexOf(url) >= 0) { on_load(); continue; }\n",
       "      var element = document.createElement('script');\n",
       "      element.onload = on_load;\n",
       "      element.onerror = on_error;\n",
       "      element.async = false;\n",
       "      element.src = url;\n",
       "      console.debug(\"Bokeh: injecting script tag for BokehJS library: \", url);\n",
       "      document.head.appendChild(element);\n",
       "    }\n",
       "    for (var i = 0; i < js_modules.length; i++) {\n",
       "      var url = js_modules[i];\n",
       "      if (skip.indexOf(url) >= 0) { on_load(); continue; }\n",
       "      var element = document.createElement('script');\n",
       "      element.onload = on_load;\n",
       "      element.onerror = on_error;\n",
       "      element.async = false;\n",
       "      element.src = url;\n",
       "      element.type = \"module\";\n",
       "      console.debug(\"Bokeh: injecting script tag for BokehJS library: \", url);\n",
       "      document.head.appendChild(element);\n",
       "    }\n",
       "    if (!js_urls.length && !js_modules.length) {\n",
       "      on_load()\n",
       "    }\n",
       "  };\n",
       "\n",
       "  function inject_raw_css(css) {\n",
       "    const element = document.createElement(\"style\");\n",
       "    element.appendChild(document.createTextNode(css));\n",
       "    document.body.appendChild(element);\n",
       "  }\n",
       "\n",
       "  var js_urls = [\"https://cdn.bokeh.org/bokeh/release/bokeh-2.3.3.min.js\", \"https://cdn.bokeh.org/bokeh/release/bokeh-widgets-2.3.3.min.js\", \"https://cdn.bokeh.org/bokeh/release/bokeh-tables-2.3.3.min.js\", \"https://unpkg.com/@holoviz/panel@0.12.0/dist/panel.min.js\"];\n",
       "  var js_modules = [];\n",
       "  var css_urls = [\"https://unpkg.com/@holoviz/panel@0.12.0/dist/css/alerts.css\", \"https://unpkg.com/@holoviz/panel@0.12.0/dist/css/card.css\", \"https://unpkg.com/@holoviz/panel@0.12.0/dist/css/widgets.css\", \"https://unpkg.com/@holoviz/panel@0.12.0/dist/css/markdown.css\", \"https://unpkg.com/@holoviz/panel@0.12.0/dist/css/json.css\", \"https://unpkg.com/@holoviz/panel@0.12.0/dist/css/loading.css\", \"https://unpkg.com/@holoviz/panel@0.12.0/dist/css/dataframe.css\"];\n",
       "  var inline_js = [\n",
       "    function(Bokeh) {\n",
       "      inject_raw_css(\"\\n    .bk.pn-loading.arcs:before {\\n      background-image: url(\\\"data:image/svg+xml;base64,PHN2ZyB4bWxucz0iaHR0cDovL3d3dy53My5vcmcvMjAwMC9zdmciIHhtbG5zOnhsaW5rPSJodHRwOi8vd3d3LnczLm9yZy8xOTk5L3hsaW5rIiBzdHlsZT0ibWFyZ2luOiBhdXRvOyBiYWNrZ3JvdW5kOiBub25lOyBkaXNwbGF5OiBibG9jazsgc2hhcGUtcmVuZGVyaW5nOiBhdXRvOyIgdmlld0JveD0iMCAwIDEwMCAxMDAiIHByZXNlcnZlQXNwZWN0UmF0aW89InhNaWRZTWlkIj4gIDxjaXJjbGUgY3g9IjUwIiBjeT0iNTAiIHI9IjMyIiBzdHJva2Utd2lkdGg9IjgiIHN0cm9rZT0iI2MzYzNjMyIgc3Ryb2tlLWRhc2hhcnJheT0iNTAuMjY1NDgyNDU3NDM2NjkgNTAuMjY1NDgyNDU3NDM2NjkiIGZpbGw9Im5vbmUiIHN0cm9rZS1saW5lY2FwPSJyb3VuZCI+ICAgIDxhbmltYXRlVHJhbnNmb3JtIGF0dHJpYnV0ZU5hbWU9InRyYW5zZm9ybSIgdHlwZT0icm90YXRlIiByZXBlYXRDb3VudD0iaW5kZWZpbml0ZSIgZHVyPSIxcyIga2V5VGltZXM9IjA7MSIgdmFsdWVzPSIwIDUwIDUwOzM2MCA1MCA1MCI+PC9hbmltYXRlVHJhbnNmb3JtPiAgPC9jaXJjbGU+PC9zdmc+\\\")\\n    }\\n    \");\n",
       "    },\n",
       "    function(Bokeh) {\n",
       "      Bokeh.set_log_level(\"info\");\n",
       "    },\n",
       "    function(Bokeh) {} // ensure no trailing comma for IE\n",
       "  ];\n",
       "\n",
       "  function run_inline_js() {\n",
       "    if ((root.Bokeh !== undefined) || (force === true)) {\n",
       "      for (var i = 0; i < inline_js.length; i++) {\n",
       "        inline_js[i].call(root, root.Bokeh);\n",
       "      }} else if (Date.now() < root._bokeh_timeout) {\n",
       "      setTimeout(run_inline_js, 100);\n",
       "    } else if (!root._bokeh_failed_load) {\n",
       "      console.log(\"Bokeh: BokehJS failed to load within specified timeout.\");\n",
       "      root._bokeh_failed_load = true;\n",
       "    }\n",
       "  }\n",
       "\n",
       "  if (root._bokeh_is_loading === 0) {\n",
       "    console.debug(\"Bokeh: BokehJS loaded, going straight to plotting\");\n",
       "    run_inline_js();\n",
       "  } else {\n",
       "    load_libs(css_urls, js_urls, js_modules, function() {\n",
       "      console.debug(\"Bokeh: BokehJS plotting callback run at\", now());\n",
       "      run_inline_js();\n",
       "    });\n",
       "  }\n",
       "}(window));"
      ],
      "application/vnd.holoviews_load.v0+json": "\n(function(root) {\n  function now() {\n    return new Date();\n  }\n\n  var force = true;\n\n  if (typeof root._bokeh_onload_callbacks === \"undefined\" || force === true) {\n    root._bokeh_onload_callbacks = [];\n    root._bokeh_is_loading = undefined;\n  }\n\n  if (typeof (root._bokeh_timeout) === \"undefined\" || force === true) {\n    root._bokeh_timeout = Date.now() + 5000;\n    root._bokeh_failed_load = false;\n  }\n\n  function run_callbacks() {\n    try {\n      root._bokeh_onload_callbacks.forEach(function(callback) {\n        if (callback != null)\n          callback();\n      });\n    } finally {\n      delete root._bokeh_onload_callbacks\n    }\n    console.debug(\"Bokeh: all callbacks have finished\");\n  }\n\n  function load_libs(css_urls, js_urls, js_modules, callback) {\n    if (css_urls == null) css_urls = [];\n    if (js_urls == null) js_urls = [];\n    if (js_modules == null) js_modules = [];\n\n    root._bokeh_onload_callbacks.push(callback);\n    if (root._bokeh_is_loading > 0) {\n      console.debug(\"Bokeh: BokehJS is being loaded, scheduling callback at\", now());\n      return null;\n    }\n    if (js_urls.length === 0 && js_modules.length === 0) {\n      run_callbacks();\n      return null;\n    }\n    console.debug(\"Bokeh: BokehJS not loaded, scheduling load and callback at\", now());\n    root._bokeh_is_loading = css_urls.length + js_urls.length + js_modules.length;\n\n    function on_load() {\n      root._bokeh_is_loading--;\n      if (root._bokeh_is_loading === 0) {\n        console.debug(\"Bokeh: all BokehJS libraries/stylesheets loaded\");\n        run_callbacks()\n      }\n    }\n\n    function on_error() {\n      console.error(\"failed to load \" + url);\n    }\n\n    for (var i = 0; i < css_urls.length; i++) {\n      var url = css_urls[i];\n      const element = document.createElement(\"link\");\n      element.onload = on_load;\n      element.onerror = on_error;\n      element.rel = \"stylesheet\";\n      element.type = \"text/css\";\n      element.href = url;\n      console.debug(\"Bokeh: injecting link tag for BokehJS stylesheet: \", url);\n      document.body.appendChild(element);\n    }\n\n    var skip = [];\n    if (window.requirejs) {\n      window.requirejs.config({'paths': {}, 'shim': {}});\n      \n    }\n    for (var i = 0; i < js_urls.length; i++) {\n      var url = js_urls[i];\n      if (skip.indexOf(url) >= 0) { on_load(); continue; }\n      var element = document.createElement('script');\n      element.onload = on_load;\n      element.onerror = on_error;\n      element.async = false;\n      element.src = url;\n      console.debug(\"Bokeh: injecting script tag for BokehJS library: \", url);\n      document.head.appendChild(element);\n    }\n    for (var i = 0; i < js_modules.length; i++) {\n      var url = js_modules[i];\n      if (skip.indexOf(url) >= 0) { on_load(); continue; }\n      var element = document.createElement('script');\n      element.onload = on_load;\n      element.onerror = on_error;\n      element.async = false;\n      element.src = url;\n      element.type = \"module\";\n      console.debug(\"Bokeh: injecting script tag for BokehJS library: \", url);\n      document.head.appendChild(element);\n    }\n    if (!js_urls.length && !js_modules.length) {\n      on_load()\n    }\n  };\n\n  function inject_raw_css(css) {\n    const element = document.createElement(\"style\");\n    element.appendChild(document.createTextNode(css));\n    document.body.appendChild(element);\n  }\n\n  var js_urls = [\"https://cdn.bokeh.org/bokeh/release/bokeh-2.3.3.min.js\", \"https://cdn.bokeh.org/bokeh/release/bokeh-widgets-2.3.3.min.js\", \"https://cdn.bokeh.org/bokeh/release/bokeh-tables-2.3.3.min.js\", \"https://unpkg.com/@holoviz/panel@0.12.0/dist/panel.min.js\"];\n  var js_modules = [];\n  var css_urls = [\"https://unpkg.com/@holoviz/panel@0.12.0/dist/css/alerts.css\", \"https://unpkg.com/@holoviz/panel@0.12.0/dist/css/card.css\", \"https://unpkg.com/@holoviz/panel@0.12.0/dist/css/widgets.css\", \"https://unpkg.com/@holoviz/panel@0.12.0/dist/css/markdown.css\", \"https://unpkg.com/@holoviz/panel@0.12.0/dist/css/json.css\", \"https://unpkg.com/@holoviz/panel@0.12.0/dist/css/loading.css\", \"https://unpkg.com/@holoviz/panel@0.12.0/dist/css/dataframe.css\"];\n  var inline_js = [\n    function(Bokeh) {\n      inject_raw_css(\"\\n    .bk.pn-loading.arcs:before {\\n      background-image: url(\\\"data:image/svg+xml;base64,PHN2ZyB4bWxucz0iaHR0cDovL3d3dy53My5vcmcvMjAwMC9zdmciIHhtbG5zOnhsaW5rPSJodHRwOi8vd3d3LnczLm9yZy8xOTk5L3hsaW5rIiBzdHlsZT0ibWFyZ2luOiBhdXRvOyBiYWNrZ3JvdW5kOiBub25lOyBkaXNwbGF5OiBibG9jazsgc2hhcGUtcmVuZGVyaW5nOiBhdXRvOyIgdmlld0JveD0iMCAwIDEwMCAxMDAiIHByZXNlcnZlQXNwZWN0UmF0aW89InhNaWRZTWlkIj4gIDxjaXJjbGUgY3g9IjUwIiBjeT0iNTAiIHI9IjMyIiBzdHJva2Utd2lkdGg9IjgiIHN0cm9rZT0iI2MzYzNjMyIgc3Ryb2tlLWRhc2hhcnJheT0iNTAuMjY1NDgyNDU3NDM2NjkgNTAuMjY1NDgyNDU3NDM2NjkiIGZpbGw9Im5vbmUiIHN0cm9rZS1saW5lY2FwPSJyb3VuZCI+ICAgIDxhbmltYXRlVHJhbnNmb3JtIGF0dHJpYnV0ZU5hbWU9InRyYW5zZm9ybSIgdHlwZT0icm90YXRlIiByZXBlYXRDb3VudD0iaW5kZWZpbml0ZSIgZHVyPSIxcyIga2V5VGltZXM9IjA7MSIgdmFsdWVzPSIwIDUwIDUwOzM2MCA1MCA1MCI+PC9hbmltYXRlVHJhbnNmb3JtPiAgPC9jaXJjbGU+PC9zdmc+\\\")\\n    }\\n    \");\n    },\n    function(Bokeh) {\n      Bokeh.set_log_level(\"info\");\n    },\n    function(Bokeh) {} // ensure no trailing comma for IE\n  ];\n\n  function run_inline_js() {\n    if ((root.Bokeh !== undefined) || (force === true)) {\n      for (var i = 0; i < inline_js.length; i++) {\n        inline_js[i].call(root, root.Bokeh);\n      }} else if (Date.now() < root._bokeh_timeout) {\n      setTimeout(run_inline_js, 100);\n    } else if (!root._bokeh_failed_load) {\n      console.log(\"Bokeh: BokehJS failed to load within specified timeout.\");\n      root._bokeh_failed_load = true;\n    }\n  }\n\n  if (root._bokeh_is_loading === 0) {\n    console.debug(\"Bokeh: BokehJS loaded, going straight to plotting\");\n    run_inline_js();\n  } else {\n    load_libs(css_urls, js_urls, js_modules, function() {\n      console.debug(\"Bokeh: BokehJS plotting callback run at\", now());\n      run_inline_js();\n    });\n  }\n}(window));"
     },
     "metadata": {},
     "output_type": "display_data"
    },
    {
     "data": {
      "application/javascript": [
       "\n",
       "if ((window.PyViz === undefined) || (window.PyViz instanceof HTMLElement)) {\n",
       "  window.PyViz = {comms: {}, comm_status:{}, kernels:{}, receivers: {}, plot_index: []}\n",
       "}\n",
       "\n",
       "\n",
       "    function JupyterCommManager() {\n",
       "    }\n",
       "\n",
       "    JupyterCommManager.prototype.register_target = function(plot_id, comm_id, msg_handler) {\n",
       "      if (window.comm_manager || ((window.Jupyter !== undefined) && (Jupyter.notebook.kernel != null))) {\n",
       "        var comm_manager = window.comm_manager || Jupyter.notebook.kernel.comm_manager;\n",
       "        comm_manager.register_target(comm_id, function(comm) {\n",
       "          comm.on_msg(msg_handler);\n",
       "        });\n",
       "      } else if ((plot_id in window.PyViz.kernels) && (window.PyViz.kernels[plot_id])) {\n",
       "        window.PyViz.kernels[plot_id].registerCommTarget(comm_id, function(comm) {\n",
       "          comm.onMsg = msg_handler;\n",
       "        });\n",
       "      } else if (typeof google != 'undefined' && google.colab.kernel != null) {\n",
       "        google.colab.kernel.comms.registerTarget(comm_id, (comm) => {\n",
       "          var messages = comm.messages[Symbol.asyncIterator]();\n",
       "          function processIteratorResult(result) {\n",
       "            var message = result.value;\n",
       "            console.log(message)\n",
       "            var content = {data: message.data, comm_id};\n",
       "            var buffers = []\n",
       "            for (var buffer of message.buffers || []) {\n",
       "              buffers.push(new DataView(buffer))\n",
       "            }\n",
       "            var metadata = message.metadata || {};\n",
       "            var msg = {content, buffers, metadata}\n",
       "            msg_handler(msg);\n",
       "            return messages.next().then(processIteratorResult);\n",
       "          }\n",
       "          return messages.next().then(processIteratorResult);\n",
       "        })\n",
       "      }\n",
       "    }\n",
       "\n",
       "    JupyterCommManager.prototype.get_client_comm = function(plot_id, comm_id, msg_handler) {\n",
       "      if (comm_id in window.PyViz.comms) {\n",
       "        return window.PyViz.comms[comm_id];\n",
       "      } else if (window.comm_manager || ((window.Jupyter !== undefined) && (Jupyter.notebook.kernel != null))) {\n",
       "        var comm_manager = window.comm_manager || Jupyter.notebook.kernel.comm_manager;\n",
       "        var comm = comm_manager.new_comm(comm_id, {}, {}, {}, comm_id);\n",
       "        if (msg_handler) {\n",
       "          comm.on_msg(msg_handler);\n",
       "        }\n",
       "      } else if ((plot_id in window.PyViz.kernels) && (window.PyViz.kernels[plot_id])) {\n",
       "        var comm = window.PyViz.kernels[plot_id].connectToComm(comm_id);\n",
       "        comm.open();\n",
       "        if (msg_handler) {\n",
       "          comm.onMsg = msg_handler;\n",
       "        }\n",
       "      } else if (typeof google != 'undefined' && google.colab.kernel != null) {\n",
       "        var comm_promise = google.colab.kernel.comms.open(comm_id)\n",
       "        comm_promise.then((comm) => {\n",
       "          window.PyViz.comms[comm_id] = comm;\n",
       "          if (msg_handler) {\n",
       "            var messages = comm.messages[Symbol.asyncIterator]();\n",
       "            function processIteratorResult(result) {\n",
       "              var message = result.value;\n",
       "              var content = {data: message.data};\n",
       "              var metadata = message.metadata || {comm_id};\n",
       "              var msg = {content, metadata}\n",
       "              msg_handler(msg);\n",
       "              return messages.next().then(processIteratorResult);\n",
       "            }\n",
       "            return messages.next().then(processIteratorResult);\n",
       "          }\n",
       "        }) \n",
       "        var sendClosure = (data, metadata, buffers, disposeOnDone) => {\n",
       "          return comm_promise.then((comm) => {\n",
       "            comm.send(data, metadata, buffers, disposeOnDone);\n",
       "          });\n",
       "        };\n",
       "        var comm = {\n",
       "          send: sendClosure\n",
       "        };\n",
       "      }\n",
       "      window.PyViz.comms[comm_id] = comm;\n",
       "      return comm;\n",
       "    }\n",
       "    window.PyViz.comm_manager = new JupyterCommManager();\n",
       "    \n",
       "\n",
       "\n",
       "var JS_MIME_TYPE = 'application/javascript';\n",
       "var HTML_MIME_TYPE = 'text/html';\n",
       "var EXEC_MIME_TYPE = 'application/vnd.holoviews_exec.v0+json';\n",
       "var CLASS_NAME = 'output';\n",
       "\n",
       "/**\n",
       " * Render data to the DOM node\n",
       " */\n",
       "function render(props, node) {\n",
       "  var div = document.createElement(\"div\");\n",
       "  var script = document.createElement(\"script\");\n",
       "  node.appendChild(div);\n",
       "  node.appendChild(script);\n",
       "}\n",
       "\n",
       "/**\n",
       " * Handle when a new output is added\n",
       " */\n",
       "function handle_add_output(event, handle) {\n",
       "  var output_area = handle.output_area;\n",
       "  var output = handle.output;\n",
       "  if ((output.data == undefined) || (!output.data.hasOwnProperty(EXEC_MIME_TYPE))) {\n",
       "    return\n",
       "  }\n",
       "  var id = output.metadata[EXEC_MIME_TYPE][\"id\"];\n",
       "  var toinsert = output_area.element.find(\".\" + CLASS_NAME.split(' ')[0]);\n",
       "  if (id !== undefined) {\n",
       "    var nchildren = toinsert.length;\n",
       "    var html_node = toinsert[nchildren-1].children[0];\n",
       "    html_node.innerHTML = output.data[HTML_MIME_TYPE];\n",
       "    var scripts = [];\n",
       "    var nodelist = html_node.querySelectorAll(\"script\");\n",
       "    for (var i in nodelist) {\n",
       "      if (nodelist.hasOwnProperty(i)) {\n",
       "        scripts.push(nodelist[i])\n",
       "      }\n",
       "    }\n",
       "\n",
       "    scripts.forEach( function (oldScript) {\n",
       "      var newScript = document.createElement(\"script\");\n",
       "      var attrs = [];\n",
       "      var nodemap = oldScript.attributes;\n",
       "      for (var j in nodemap) {\n",
       "        if (nodemap.hasOwnProperty(j)) {\n",
       "          attrs.push(nodemap[j])\n",
       "        }\n",
       "      }\n",
       "      attrs.forEach(function(attr) { newScript.setAttribute(attr.name, attr.value) });\n",
       "      newScript.appendChild(document.createTextNode(oldScript.innerHTML));\n",
       "      oldScript.parentNode.replaceChild(newScript, oldScript);\n",
       "    });\n",
       "    if (JS_MIME_TYPE in output.data) {\n",
       "      toinsert[nchildren-1].children[1].textContent = output.data[JS_MIME_TYPE];\n",
       "    }\n",
       "    output_area._hv_plot_id = id;\n",
       "    if ((window.Bokeh !== undefined) && (id in Bokeh.index)) {\n",
       "      window.PyViz.plot_index[id] = Bokeh.index[id];\n",
       "    } else {\n",
       "      window.PyViz.plot_index[id] = null;\n",
       "    }\n",
       "  } else if (output.metadata[EXEC_MIME_TYPE][\"server_id\"] !== undefined) {\n",
       "    var bk_div = document.createElement(\"div\");\n",
       "    bk_div.innerHTML = output.data[HTML_MIME_TYPE];\n",
       "    var script_attrs = bk_div.children[0].attributes;\n",
       "    for (var i = 0; i < script_attrs.length; i++) {\n",
       "      toinsert[toinsert.length - 1].childNodes[1].setAttribute(script_attrs[i].name, script_attrs[i].value);\n",
       "    }\n",
       "    // store reference to server id on output_area\n",
       "    output_area._bokeh_server_id = output.metadata[EXEC_MIME_TYPE][\"server_id\"];\n",
       "  }\n",
       "}\n",
       "\n",
       "/**\n",
       " * Handle when an output is cleared or removed\n",
       " */\n",
       "function handle_clear_output(event, handle) {\n",
       "  var id = handle.cell.output_area._hv_plot_id;\n",
       "  var server_id = handle.cell.output_area._bokeh_server_id;\n",
       "  if (((id === undefined) || !(id in PyViz.plot_index)) && (server_id !== undefined)) { return; }\n",
       "  var comm = window.PyViz.comm_manager.get_client_comm(\"hv-extension-comm\", \"hv-extension-comm\", function () {});\n",
       "  if (server_id !== null) {\n",
       "    comm.send({event_type: 'server_delete', 'id': server_id});\n",
       "    return;\n",
       "  } else if (comm !== null) {\n",
       "    comm.send({event_type: 'delete', 'id': id});\n",
       "  }\n",
       "  delete PyViz.plot_index[id];\n",
       "  if ((window.Bokeh !== undefined) & (id in window.Bokeh.index)) {\n",
       "    var doc = window.Bokeh.index[id].model.document\n",
       "    doc.clear();\n",
       "    const i = window.Bokeh.documents.indexOf(doc);\n",
       "    if (i > -1) {\n",
       "      window.Bokeh.documents.splice(i, 1);\n",
       "    }\n",
       "  }\n",
       "}\n",
       "\n",
       "/**\n",
       " * Handle kernel restart event\n",
       " */\n",
       "function handle_kernel_cleanup(event, handle) {\n",
       "  delete PyViz.comms[\"hv-extension-comm\"];\n",
       "  window.PyViz.plot_index = {}\n",
       "}\n",
       "\n",
       "/**\n",
       " * Handle update_display_data messages\n",
       " */\n",
       "function handle_update_output(event, handle) {\n",
       "  handle_clear_output(event, {cell: {output_area: handle.output_area}})\n",
       "  handle_add_output(event, handle)\n",
       "}\n",
       "\n",
       "function register_renderer(events, OutputArea) {\n",
       "  function append_mime(data, metadata, element) {\n",
       "    // create a DOM node to render to\n",
       "    var toinsert = this.create_output_subarea(\n",
       "    metadata,\n",
       "    CLASS_NAME,\n",
       "    EXEC_MIME_TYPE\n",
       "    );\n",
       "    this.keyboard_manager.register_events(toinsert);\n",
       "    // Render to node\n",
       "    var props = {data: data, metadata: metadata[EXEC_MIME_TYPE]};\n",
       "    render(props, toinsert[0]);\n",
       "    element.append(toinsert);\n",
       "    return toinsert\n",
       "  }\n",
       "\n",
       "  events.on('output_added.OutputArea', handle_add_output);\n",
       "  events.on('output_updated.OutputArea', handle_update_output);\n",
       "  events.on('clear_output.CodeCell', handle_clear_output);\n",
       "  events.on('delete.Cell', handle_clear_output);\n",
       "  events.on('kernel_ready.Kernel', handle_kernel_cleanup);\n",
       "\n",
       "  OutputArea.prototype.register_mime_type(EXEC_MIME_TYPE, append_mime, {\n",
       "    safe: true,\n",
       "    index: 0\n",
       "  });\n",
       "}\n",
       "\n",
       "if (window.Jupyter !== undefined) {\n",
       "  try {\n",
       "    var events = require('base/js/events');\n",
       "    var OutputArea = require('notebook/js/outputarea').OutputArea;\n",
       "    if (OutputArea.prototype.mime_types().indexOf(EXEC_MIME_TYPE) == -1) {\n",
       "      register_renderer(events, OutputArea);\n",
       "    }\n",
       "  } catch(err) {\n",
       "  }\n",
       "}\n"
      ],
      "application/vnd.holoviews_load.v0+json": "\nif ((window.PyViz === undefined) || (window.PyViz instanceof HTMLElement)) {\n  window.PyViz = {comms: {}, comm_status:{}, kernels:{}, receivers: {}, plot_index: []}\n}\n\n\n    function JupyterCommManager() {\n    }\n\n    JupyterCommManager.prototype.register_target = function(plot_id, comm_id, msg_handler) {\n      if (window.comm_manager || ((window.Jupyter !== undefined) && (Jupyter.notebook.kernel != null))) {\n        var comm_manager = window.comm_manager || Jupyter.notebook.kernel.comm_manager;\n        comm_manager.register_target(comm_id, function(comm) {\n          comm.on_msg(msg_handler);\n        });\n      } else if ((plot_id in window.PyViz.kernels) && (window.PyViz.kernels[plot_id])) {\n        window.PyViz.kernels[plot_id].registerCommTarget(comm_id, function(comm) {\n          comm.onMsg = msg_handler;\n        });\n      } else if (typeof google != 'undefined' && google.colab.kernel != null) {\n        google.colab.kernel.comms.registerTarget(comm_id, (comm) => {\n          var messages = comm.messages[Symbol.asyncIterator]();\n          function processIteratorResult(result) {\n            var message = result.value;\n            console.log(message)\n            var content = {data: message.data, comm_id};\n            var buffers = []\n            for (var buffer of message.buffers || []) {\n              buffers.push(new DataView(buffer))\n            }\n            var metadata = message.metadata || {};\n            var msg = {content, buffers, metadata}\n            msg_handler(msg);\n            return messages.next().then(processIteratorResult);\n          }\n          return messages.next().then(processIteratorResult);\n        })\n      }\n    }\n\n    JupyterCommManager.prototype.get_client_comm = function(plot_id, comm_id, msg_handler) {\n      if (comm_id in window.PyViz.comms) {\n        return window.PyViz.comms[comm_id];\n      } else if (window.comm_manager || ((window.Jupyter !== undefined) && (Jupyter.notebook.kernel != null))) {\n        var comm_manager = window.comm_manager || Jupyter.notebook.kernel.comm_manager;\n        var comm = comm_manager.new_comm(comm_id, {}, {}, {}, comm_id);\n        if (msg_handler) {\n          comm.on_msg(msg_handler);\n        }\n      } else if ((plot_id in window.PyViz.kernels) && (window.PyViz.kernels[plot_id])) {\n        var comm = window.PyViz.kernels[plot_id].connectToComm(comm_id);\n        comm.open();\n        if (msg_handler) {\n          comm.onMsg = msg_handler;\n        }\n      } else if (typeof google != 'undefined' && google.colab.kernel != null) {\n        var comm_promise = google.colab.kernel.comms.open(comm_id)\n        comm_promise.then((comm) => {\n          window.PyViz.comms[comm_id] = comm;\n          if (msg_handler) {\n            var messages = comm.messages[Symbol.asyncIterator]();\n            function processIteratorResult(result) {\n              var message = result.value;\n              var content = {data: message.data};\n              var metadata = message.metadata || {comm_id};\n              var msg = {content, metadata}\n              msg_handler(msg);\n              return messages.next().then(processIteratorResult);\n            }\n            return messages.next().then(processIteratorResult);\n          }\n        }) \n        var sendClosure = (data, metadata, buffers, disposeOnDone) => {\n          return comm_promise.then((comm) => {\n            comm.send(data, metadata, buffers, disposeOnDone);\n          });\n        };\n        var comm = {\n          send: sendClosure\n        };\n      }\n      window.PyViz.comms[comm_id] = comm;\n      return comm;\n    }\n    window.PyViz.comm_manager = new JupyterCommManager();\n    \n\n\nvar JS_MIME_TYPE = 'application/javascript';\nvar HTML_MIME_TYPE = 'text/html';\nvar EXEC_MIME_TYPE = 'application/vnd.holoviews_exec.v0+json';\nvar CLASS_NAME = 'output';\n\n/**\n * Render data to the DOM node\n */\nfunction render(props, node) {\n  var div = document.createElement(\"div\");\n  var script = document.createElement(\"script\");\n  node.appendChild(div);\n  node.appendChild(script);\n}\n\n/**\n * Handle when a new output is added\n */\nfunction handle_add_output(event, handle) {\n  var output_area = handle.output_area;\n  var output = handle.output;\n  if ((output.data == undefined) || (!output.data.hasOwnProperty(EXEC_MIME_TYPE))) {\n    return\n  }\n  var id = output.metadata[EXEC_MIME_TYPE][\"id\"];\n  var toinsert = output_area.element.find(\".\" + CLASS_NAME.split(' ')[0]);\n  if (id !== undefined) {\n    var nchildren = toinsert.length;\n    var html_node = toinsert[nchildren-1].children[0];\n    html_node.innerHTML = output.data[HTML_MIME_TYPE];\n    var scripts = [];\n    var nodelist = html_node.querySelectorAll(\"script\");\n    for (var i in nodelist) {\n      if (nodelist.hasOwnProperty(i)) {\n        scripts.push(nodelist[i])\n      }\n    }\n\n    scripts.forEach( function (oldScript) {\n      var newScript = document.createElement(\"script\");\n      var attrs = [];\n      var nodemap = oldScript.attributes;\n      for (var j in nodemap) {\n        if (nodemap.hasOwnProperty(j)) {\n          attrs.push(nodemap[j])\n        }\n      }\n      attrs.forEach(function(attr) { newScript.setAttribute(attr.name, attr.value) });\n      newScript.appendChild(document.createTextNode(oldScript.innerHTML));\n      oldScript.parentNode.replaceChild(newScript, oldScript);\n    });\n    if (JS_MIME_TYPE in output.data) {\n      toinsert[nchildren-1].children[1].textContent = output.data[JS_MIME_TYPE];\n    }\n    output_area._hv_plot_id = id;\n    if ((window.Bokeh !== undefined) && (id in Bokeh.index)) {\n      window.PyViz.plot_index[id] = Bokeh.index[id];\n    } else {\n      window.PyViz.plot_index[id] = null;\n    }\n  } else if (output.metadata[EXEC_MIME_TYPE][\"server_id\"] !== undefined) {\n    var bk_div = document.createElement(\"div\");\n    bk_div.innerHTML = output.data[HTML_MIME_TYPE];\n    var script_attrs = bk_div.children[0].attributes;\n    for (var i = 0; i < script_attrs.length; i++) {\n      toinsert[toinsert.length - 1].childNodes[1].setAttribute(script_attrs[i].name, script_attrs[i].value);\n    }\n    // store reference to server id on output_area\n    output_area._bokeh_server_id = output.metadata[EXEC_MIME_TYPE][\"server_id\"];\n  }\n}\n\n/**\n * Handle when an output is cleared or removed\n */\nfunction handle_clear_output(event, handle) {\n  var id = handle.cell.output_area._hv_plot_id;\n  var server_id = handle.cell.output_area._bokeh_server_id;\n  if (((id === undefined) || !(id in PyViz.plot_index)) && (server_id !== undefined)) { return; }\n  var comm = window.PyViz.comm_manager.get_client_comm(\"hv-extension-comm\", \"hv-extension-comm\", function () {});\n  if (server_id !== null) {\n    comm.send({event_type: 'server_delete', 'id': server_id});\n    return;\n  } else if (comm !== null) {\n    comm.send({event_type: 'delete', 'id': id});\n  }\n  delete PyViz.plot_index[id];\n  if ((window.Bokeh !== undefined) & (id in window.Bokeh.index)) {\n    var doc = window.Bokeh.index[id].model.document\n    doc.clear();\n    const i = window.Bokeh.documents.indexOf(doc);\n    if (i > -1) {\n      window.Bokeh.documents.splice(i, 1);\n    }\n  }\n}\n\n/**\n * Handle kernel restart event\n */\nfunction handle_kernel_cleanup(event, handle) {\n  delete PyViz.comms[\"hv-extension-comm\"];\n  window.PyViz.plot_index = {}\n}\n\n/**\n * Handle update_display_data messages\n */\nfunction handle_update_output(event, handle) {\n  handle_clear_output(event, {cell: {output_area: handle.output_area}})\n  handle_add_output(event, handle)\n}\n\nfunction register_renderer(events, OutputArea) {\n  function append_mime(data, metadata, element) {\n    // create a DOM node to render to\n    var toinsert = this.create_output_subarea(\n    metadata,\n    CLASS_NAME,\n    EXEC_MIME_TYPE\n    );\n    this.keyboard_manager.register_events(toinsert);\n    // Render to node\n    var props = {data: data, metadata: metadata[EXEC_MIME_TYPE]};\n    render(props, toinsert[0]);\n    element.append(toinsert);\n    return toinsert\n  }\n\n  events.on('output_added.OutputArea', handle_add_output);\n  events.on('output_updated.OutputArea', handle_update_output);\n  events.on('clear_output.CodeCell', handle_clear_output);\n  events.on('delete.Cell', handle_clear_output);\n  events.on('kernel_ready.Kernel', handle_kernel_cleanup);\n\n  OutputArea.prototype.register_mime_type(EXEC_MIME_TYPE, append_mime, {\n    safe: true,\n    index: 0\n  });\n}\n\nif (window.Jupyter !== undefined) {\n  try {\n    var events = require('base/js/events');\n    var OutputArea = require('notebook/js/outputarea').OutputArea;\n    if (OutputArea.prototype.mime_types().indexOf(EXEC_MIME_TYPE) == -1) {\n      register_renderer(events, OutputArea);\n    }\n  } catch(err) {\n  }\n}\n"
     },
     "metadata": {},
     "output_type": "display_data"
    }
   ],
   "source": [
    "import param\n",
    "import panel as pn\n",
    "import numpy as np\n",
    "import pandas as pd\n",
    "pn.extension()"
   ]
  },
  {
   "cell_type": "markdown",
   "id": "cb26e310-9502-4632-85f4-99c4e3acc99f",
   "metadata": {},
   "source": [
    "START with a simple reaction:\n",
    "A->B:\n",
    "a. dB/dt=-dA/dt=k[A]\n",
    "b. [A]=[A]t0 * e^(-kt)\n",
    "\n"
   ]
  },
  {
   "cell_type": "code",
   "execution_count": null,
   "id": "ee109a34-9301-48a8-8d0a-4cc7df7956a0",
   "metadata": {},
   "outputs": [],
   "source": [
    "gdrivepath="
   ]
  },
  {
   "cell_type": "code",
   "execution_count": null,
   "id": "089b4740-7683-42cf-9106-f605a2f3e4a6",
   "metadata": {},
   "outputs": [],
   "source": []
  },
  {
   "cell_type": "code",
   "execution_count": 2,
   "id": "f7546767-4556-4800-8a6f-4a70fd18bcde",
   "metadata": {},
   "outputs": [],
   "source": [
    "class BaseClass(param.Parameterized):\n",
    "    x = param.Parameter(default=3.14, doc=\"X position\")\n",
    "    y = param.Range(default=(2,3),bounds=(1,7),step=.5)"
   ]
  },
  {
   "cell_type": "code",
   "execution_count": 3,
   "id": "4add4084-c07d-4875-9a93-83ace7511c2e",
   "metadata": {},
   "outputs": [
    {
     "data": {},
     "metadata": {},
     "output_type": "display_data"
    },
    {
     "data": {
      "application/vnd.holoviews_exec.v0+json": "",
      "text/html": [
       "<div id='1002'>\n",
       "\n",
       "\n",
       "\n",
       "\n",
       "\n",
       "  <div class=\"bk-root\" id=\"c9987cdc-fe41-45f8-b9b6-3a45dcce9e4c\" data-root-id=\"1002\"></div>\n",
       "</div>\n",
       "<script type=\"application/javascript\">(function(root) {\n",
       "  function embed_document(root) {\n",
       "    var docs_json = {\"34b41502-75c1-48f2-9552-941a75f8025c\":{\"defs\":[{\"extends\":null,\"module\":null,\"name\":\"ReactiveHTML1\",\"overrides\":[],\"properties\":[]},{\"extends\":null,\"module\":null,\"name\":\"FlexBox1\",\"overrides\":[],\"properties\":[{\"default\":\"flex-start\",\"kind\":null,\"name\":\"align_content\"},{\"default\":\"flex-start\",\"kind\":null,\"name\":\"align_items\"},{\"default\":\"row\",\"kind\":null,\"name\":\"flex_direction\"},{\"default\":\"wrap\",\"kind\":null,\"name\":\"flex_wrap\"},{\"default\":\"flex-start\",\"kind\":null,\"name\":\"justify_content\"}]},{\"extends\":null,\"module\":null,\"name\":\"TemplateActions1\",\"overrides\":[],\"properties\":[{\"default\":0,\"kind\":null,\"name\":\"open_modal\"},{\"default\":0,\"kind\":null,\"name\":\"close_modal\"}]},{\"extends\":null,\"module\":null,\"name\":\"MaterialTemplateActions1\",\"overrides\":[],\"properties\":[{\"default\":0,\"kind\":null,\"name\":\"open_modal\"},{\"default\":0,\"kind\":null,\"name\":\"close_modal\"}]}],\"roots\":{\"references\":[{\"attributes\":{\"client_comm_id\":\"5daed3428cfe4a4291585d2e65574c90\",\"comm_id\":\"ce3c0a7802d54e2a84f079f65c6c4ad0\",\"plot_id\":\"1002\"},\"id\":\"1007\",\"type\":\"panel.models.comm_manager.CommManager\"},{\"attributes\":{\"children\":[{\"id\":\"1004\"},{\"id\":\"1005\"},{\"id\":\"1006\"}],\"margin\":[5,5,5,5],\"min_width\":300,\"name\":\"BaseClass\",\"width\":300},\"id\":\"1003\",\"type\":\"Column\"},{\"attributes\":{\"children\":[{\"id\":\"1003\"}],\"margin\":[0,0,0,0],\"name\":\"Row00110\"},\"id\":\"1002\",\"type\":\"Row\"},{\"attributes\":{\"margin\":[5,10,5,10],\"name\":\"\",\"text\":\"<b>BaseClass</b>\"},\"id\":\"1004\",\"type\":\"Div\"},{\"attributes\":{\"margin\":[5,10,5,10],\"title\":\"X\",\"value\":\"3.14\"},\"id\":\"1005\",\"type\":\"TextInput\"},{\"attributes\":{\"end\":7,\"margin\":[5,10,5,10],\"start\":1,\"step\":0.5,\"title\":\"Y\",\"value\":[2,3]},\"id\":\"1006\",\"type\":\"RangeSlider\"},{\"attributes\":{\"reload\":false},\"id\":\"1008\",\"type\":\"panel.models.location.Location\"}],\"root_ids\":[\"1002\",\"1007\",\"1008\"]},\"title\":\"Bokeh Application\",\"version\":\"2.3.3\"}};\n",
       "    var render_items = [{\"docid\":\"34b41502-75c1-48f2-9552-941a75f8025c\",\"root_ids\":[\"1002\"],\"roots\":{\"1002\":\"c9987cdc-fe41-45f8-b9b6-3a45dcce9e4c\"}}];\n",
       "    root.Bokeh.embed.embed_items_notebook(docs_json, render_items);\n",
       "  }\n",
       "  if (root.Bokeh !== undefined && root.Bokeh.Panel !== undefined) {\n",
       "    embed_document(root);\n",
       "  } else {\n",
       "    var attempts = 0;\n",
       "    var timer = setInterval(function(root) {\n",
       "      if (root.Bokeh !== undefined && root.Bokeh.Panel !== undefined) {\n",
       "        clearInterval(timer);\n",
       "        embed_document(root);\n",
       "      } else if (document.readyState == \"complete\") {\n",
       "        attempts++;\n",
       "        if (attempts > 200) {\n",
       "          clearInterval(timer);\n",
       "          console.log(\"Bokeh: ERROR: Unable to run BokehJS code because BokehJS library is missing\");\n",
       "        }\n",
       "      }\n",
       "    }, 25, root)\n",
       "  }\n",
       "})(window);</script>"
      ],
      "text/plain": [
       "Row\n",
       "    [0] Column(margin=5, name='BaseClass', width=300)\n",
       "        [0] StaticText(value='<b>BaseClass</b>')\n",
       "        [1] LiteralInput(name='X', value=3.14)\n",
       "        [2] RangeSlider(end=7, name='Y', start=1, step=0.5, value=(2, 3), value_end=3, value_start=2)"
      ]
     },
     "execution_count": 3,
     "metadata": {
      "application/vnd.holoviews_exec.v0+json": {
       "id": "1002"
      }
     },
     "output_type": "execute_result"
    }
   ],
   "source": [
    "base=BaseClass()\n",
    "pn.Row(base)"
   ]
  },
  {
   "cell_type": "code",
   "execution_count": 5,
   "id": "d4a1d584-8881-4b9c-9b81-cfa1cce3c4c2",
   "metadata": {},
   "outputs": [],
   "source": [
    "df=pd.DataFrame.from_dict({'x':[3,4,5],'y':[1,3,13]})\n",
    "source=ColumnDataSource(data=ColumnDataSource.from_df(df))"
   ]
  },
  {
   "cell_type": "code",
   "execution_count": 111,
   "id": "439dea4a-944a-41a5-866e-eb96e1b87ce5",
   "metadata": {},
   "outputs": [
    {
     "data": {
      "text/plain": [
       "{'index': array([0, 1, 2]), 'x': array([3, 4, 5]), 'y': array([ 1,  3, 13])}"
      ]
     },
     "execution_count": 111,
     "metadata": {},
     "output_type": "execute_result"
    }
   ],
   "source": [
    "source.data"
   ]
  },
  {
   "cell_type": "code",
   "execution_count": 3,
   "id": "6caa28e3-e2c9-412c-815a-c6404a7d3a52",
   "metadata": {},
   "outputs": [
    {
     "data": {},
     "metadata": {},
     "output_type": "display_data"
    },
    {
     "data": {
      "application/vnd.holoviews_exec.v0+json": "",
      "text/html": [
       "<div id='1071'>\n",
       "\n",
       "\n",
       "\n",
       "\n",
       "\n",
       "  <div class=\"bk-root\" id=\"4567ad9c-812f-44a4-a633-6b39c6966905\" data-root-id=\"1071\"></div>\n",
       "</div>\n",
       "<script type=\"application/javascript\">(function(root) {\n",
       "  function embed_document(root) {\n",
       "    var docs_json = {\"a6844286-6d8f-4e71-893b-a459d2bfac75\":{\"defs\":[{\"extends\":null,\"module\":null,\"name\":\"ReactiveHTML1\",\"overrides\":[],\"properties\":[]},{\"extends\":null,\"module\":null,\"name\":\"FlexBox1\",\"overrides\":[],\"properties\":[{\"default\":\"flex-start\",\"kind\":null,\"name\":\"align_content\"},{\"default\":\"flex-start\",\"kind\":null,\"name\":\"align_items\"},{\"default\":\"row\",\"kind\":null,\"name\":\"flex_direction\"},{\"default\":\"wrap\",\"kind\":null,\"name\":\"flex_wrap\"},{\"default\":\"flex-start\",\"kind\":null,\"name\":\"justify_content\"}]},{\"extends\":null,\"module\":null,\"name\":\"TemplateActions1\",\"overrides\":[],\"properties\":[{\"default\":0,\"kind\":null,\"name\":\"open_modal\"},{\"default\":0,\"kind\":null,\"name\":\"close_modal\"}]},{\"extends\":null,\"module\":null,\"name\":\"MaterialTemplateActions1\",\"overrides\":[],\"properties\":[{\"default\":0,\"kind\":null,\"name\":\"open_modal\"},{\"default\":0,\"kind\":null,\"name\":\"close_modal\"}]}],\"roots\":{\"references\":[{\"attributes\":{},\"id\":\"1079\",\"type\":\"BasicTickFormatter\"},{\"attributes\":{\"data_source\":{\"id\":\"1034\"},\"glyph\":{\"id\":\"1067\"},\"hover_glyph\":null,\"muted_glyph\":null,\"nonselection_glyph\":{\"id\":\"1068\"},\"view\":{\"id\":\"1070\"}},\"id\":\"1069\",\"type\":\"GlyphRenderer\"},{\"attributes\":{\"source\":{\"id\":\"1034\"}},\"id\":\"1070\",\"type\":\"CDSView\"},{\"attributes\":{},\"id\":\"1052\",\"type\":\"PanTool\"},{\"attributes\":{},\"id\":\"1081\",\"type\":\"AllLabels\"},{\"attributes\":{},\"id\":\"1053\",\"type\":\"WheelZoomTool\"},{\"attributes\":{\"overlay\":{\"id\":\"1058\"}},\"id\":\"1054\",\"type\":\"BoxZoomTool\"},{\"attributes\":{},\"id\":\"1038\",\"type\":\"DataRange1d\"},{\"attributes\":{},\"id\":\"1075\",\"type\":\"Title\"},{\"attributes\":{},\"id\":\"1042\",\"type\":\"LinearScale\"},{\"attributes\":{},\"id\":\"1055\",\"type\":\"SaveTool\"},{\"attributes\":{\"bottom_units\":\"screen\",\"fill_alpha\":0.5,\"fill_color\":\"lightgrey\",\"left_units\":\"screen\",\"level\":\"overlay\",\"line_alpha\":1.0,\"line_color\":\"black\",\"line_dash\":[4,4],\"line_width\":2,\"right_units\":\"screen\",\"syncable\":false,\"top_units\":\"screen\"},\"id\":\"1058\",\"type\":\"BoxAnnotation\"},{\"attributes\":{\"formatter\":{\"id\":\"1076\"},\"major_label_policy\":{\"id\":\"1078\"},\"ticker\":{\"id\":\"1045\"}},\"id\":\"1044\",\"type\":\"LinearAxis\"},{\"attributes\":{},\"id\":\"1040\",\"type\":\"LinearScale\"},{\"attributes\":{},\"id\":\"1056\",\"type\":\"ResetTool\"},{\"attributes\":{},\"id\":\"1036\",\"type\":\"DataRange1d\"},{\"attributes\":{},\"id\":\"1049\",\"type\":\"BasicTicker\"},{\"attributes\":{\"axis\":{\"id\":\"1044\"},\"ticker\":null},\"id\":\"1047\",\"type\":\"Grid\"},{\"attributes\":{},\"id\":\"1083\",\"type\":\"Selection\"},{\"attributes\":{\"active_multi\":null,\"tools\":[{\"id\":\"1052\"},{\"id\":\"1053\"},{\"id\":\"1054\"},{\"id\":\"1055\"},{\"id\":\"1056\"},{\"id\":\"1057\"}]},\"id\":\"1059\",\"type\":\"Toolbar\"},{\"attributes\":{},\"id\":\"1084\",\"type\":\"UnionRenderers\"},{\"attributes\":{\"fill_alpha\":{\"value\":0.1},\"fill_color\":{\"value\":\"#1f77b4\"},\"line_alpha\":{\"value\":0.1},\"line_color\":{\"value\":\"#1f77b4\"},\"x\":{\"field\":\"x\"},\"y\":{\"field\":\"y\"}},\"id\":\"1068\",\"type\":\"Circle\"},{\"attributes\":{},\"id\":\"1057\",\"type\":\"HelpTool\"},{\"attributes\":{},\"id\":\"1076\",\"type\":\"BasicTickFormatter\"},{\"attributes\":{\"reload\":false},\"id\":\"1163\",\"type\":\"panel.models.location.Location\"},{\"attributes\":{\"formatter\":{\"id\":\"1079\"},\"major_label_policy\":{\"id\":\"1081\"},\"ticker\":{\"id\":\"1049\"}},\"id\":\"1048\",\"type\":\"LinearAxis\"},{\"attributes\":{\"children\":[{\"id\":\"1035\"}],\"margin\":[0,0,0,0],\"name\":\"Row00122\"},\"id\":\"1073\",\"type\":\"Row\"},{\"attributes\":{\"below\":[{\"id\":\"1044\"}],\"center\":[{\"id\":\"1047\"},{\"id\":\"1051\"}],\"height\":200,\"left\":[{\"id\":\"1048\"}],\"renderers\":[{\"id\":\"1069\"}],\"title\":{\"id\":\"1075\"},\"toolbar\":{\"id\":\"1059\"},\"width\":400,\"x_range\":{\"id\":\"1036\"},\"x_scale\":{\"id\":\"1040\"},\"y_range\":{\"id\":\"1038\"},\"y_scale\":{\"id\":\"1042\"}},\"id\":\"1035\",\"subtype\":\"Figure\",\"type\":\"Plot\"},{\"attributes\":{},\"id\":\"1078\",\"type\":\"AllLabels\"},{\"attributes\":{\"axis\":{\"id\":\"1048\"},\"dimension\":1,\"ticker\":null},\"id\":\"1051\",\"type\":\"Grid\"},{\"attributes\":{\"children\":[{\"id\":\"1072\"},{\"id\":\"1073\"}],\"margin\":[0,0,0,0],\"name\":\"Row00127\"},\"id\":\"1071\",\"type\":\"Row\"},{\"attributes\":{\"data\":{\"index\":[0,1,2],\"x\":[3,4,5],\"y\":[1,3,45]},\"selected\":{\"id\":\"1083\"},\"selection_policy\":{\"id\":\"1084\"}},\"id\":\"1034\",\"type\":\"ColumnDataSource\"},{\"attributes\":{},\"id\":\"1045\",\"type\":\"BasicTicker\"},{\"attributes\":{\"fill_color\":{\"value\":\"#1f77b4\"},\"line_color\":{\"value\":\"#1f77b4\"},\"x\":{\"field\":\"x\"},\"y\":{\"field\":\"y\"}},\"id\":\"1067\",\"type\":\"Circle\"},{\"attributes\":{\"end\":7,\"margin\":[5,10,5,10],\"start\":1,\"step\":0.5,\"title\":\"Base\",\"value\":[2,3]},\"id\":\"1072\",\"type\":\"RangeSlider\"},{\"attributes\":{\"client_comm_id\":\"04d242a979a84761bc9464ee030af812\",\"comm_id\":\"76549f54db964f48a93b0172ae657000\",\"plot_id\":\"1071\"},\"id\":\"1129\",\"type\":\"panel.models.comm_manager.CommManager\"}],\"root_ids\":[\"1071\",\"1129\",\"1163\"]},\"title\":\"Bokeh Application\",\"version\":\"2.3.3\"}};\n",
       "    var render_items = [{\"docid\":\"a6844286-6d8f-4e71-893b-a459d2bfac75\",\"root_ids\":[\"1071\"],\"roots\":{\"1071\":\"4567ad9c-812f-44a4-a633-6b39c6966905\"}}];\n",
       "    root.Bokeh.embed.embed_items_notebook(docs_json, render_items);\n",
       "  }\n",
       "  if (root.Bokeh !== undefined && root.Bokeh.Panel !== undefined) {\n",
       "    embed_document(root);\n",
       "  } else {\n",
       "    var attempts = 0;\n",
       "    var timer = setInterval(function(root) {\n",
       "      if (root.Bokeh !== undefined && root.Bokeh.Panel !== undefined) {\n",
       "        clearInterval(timer);\n",
       "        embed_document(root);\n",
       "      } else if (document.readyState == \"complete\") {\n",
       "        attempts++;\n",
       "        if (attempts > 200) {\n",
       "          clearInterval(timer);\n",
       "          console.log(\"Bokeh: ERROR: Unable to run BokehJS code because BokehJS library is missing\");\n",
       "        }\n",
       "      }\n",
       "    }, 25, root)\n",
       "  }\n",
       "})(window);</script>"
      ],
      "text/plain": [
       "Row\n",
       "    [0] RangeSlider(end=7, name='Base', start=1, step=0.5, value=(2, 3), value_end=3, value_start=2)\n",
       "    [1] ParamMethod(method)"
      ]
     },
     "execution_count": 3,
     "metadata": {
      "application/vnd.holoviews_exec.v0+json": {
       "id": "1071"
      }
     },
     "output_type": "execute_result"
    }
   ],
   "source": [
    "from bokeh.plotting import figure\n",
    "from bokeh.models import ColumnDataSource\n",
    "\n",
    "class kinviewer(param.Parameterized):\n",
    "    df=pd.DataFrame.from_dict({'x':[3,4,5],'y':[1,3,13]})\n",
    "    source=ColumnDataSource(data=ColumnDataSource.from_df(df))    \n",
    "    base=param.Range(default=(2,3),bounds=(1,7),step=.5)\n",
    "    p=figure(height=200,width=400)\n",
    "    #p.plot_width=300\n",
    "    #p.plot_height=200\n",
    "    #counter=0\n",
    "    \n",
    "    @param.depends('base')\n",
    "    def plot_view(self):\n",
    "        #self.counter+=1\n",
    "        #self.source=ColumnDataSource(self.df)        \n",
    "        #self.source.data={'x':[1,3,20],'y':[1,5,self.base[-1]*5]}\n",
    "        self.source.data=ColumnDataSource.from_df(self.df)    \n",
    "        self.source.data['y'][-1]=self.base[-1]*15\n",
    "        self.p.circle(x='x',y='y',source=self.source)\n",
    "        return pn.pane.Bokeh(self.p)\n",
    "kv=kinviewer()\n",
    "pn.Row(kv.param.base,kv.plot_view)"
   ]
  },
  {
   "cell_type": "code",
   "execution_count": 7,
   "id": "1216c7b1-3e34-4098-a0b4-7447cb47831f",
   "metadata": {},
   "outputs": [],
   "source": [
    "kv.base=(1,5)"
   ]
  },
  {
   "cell_type": "code",
   "execution_count": 145,
   "id": "48748f24-88b9-45eb-a1c4-4f813d0ea1e9",
   "metadata": {},
   "outputs": [
    {
     "name": "stdout",
     "output_type": "stream",
     "text": [
      "(2, 3)\n",
      "{'x': [1, 3, 20], 'y': [1, 5, 27.5]}\n",
      "1\n"
     ]
    }
   ],
   "source": [
    "print(kv.base.y)\n",
    "print(kv.source.data)\n",
    "print(kv.counter)"
   ]
  },
  {
   "cell_type": "code",
   "execution_count": 59,
   "id": "3763e780-4a63-42bc-8093-abda9ba6771d",
   "metadata": {},
   "outputs": [
    {
     "data": {
      "text/plain": [
       "array([0, 1, 2, 3, 4, 6, 7, 8, 9])"
      ]
     },
     "execution_count": 59,
     "metadata": {},
     "output_type": "execute_result"
    }
   ],
   "source": [
    "x=np.arange(0,5,1)\n",
    "y=np.arange(6,10,1)\n",
    "z=np.concatenate((x,y))\n",
    "z"
   ]
  },
  {
   "cell_type": "code",
   "execution_count": 141,
   "id": "d8e18719-7f0b-4d0f-a3bb-6c31313c11ad",
   "metadata": {},
   "outputs": [
    {
     "ename": "NameError",
     "evalue": "name 'analyte_conc' is not defined",
     "output_type": "error",
     "traceback": [
      "\u001b[1;31m---------------------------------------------------------------------------\u001b[0m",
      "\u001b[1;31mNameError\u001b[0m                                 Traceback (most recent call last)",
      "\u001b[1;32m~\\AppData\\Local\\Temp/ipykernel_17740/629254303.py\u001b[0m in \u001b[0;36m<module>\u001b[1;34m\u001b[0m\n\u001b[0;32m      1\u001b[0m \u001b[0masec\u001b[0m\u001b[1;33m=\u001b[0m\u001b[0mnp\u001b[0m\u001b[1;33m.\u001b[0m\u001b[0marange\u001b[0m\u001b[1;33m(\u001b[0m\u001b[1;36m0\u001b[0m\u001b[1;33m,\u001b[0m\u001b[1;36m180\u001b[0m\u001b[1;33m,\u001b[0m\u001b[1;36m1\u001b[0m\u001b[1;33m)\u001b[0m\u001b[1;33m\u001b[0m\u001b[1;33m\u001b[0m\u001b[0m\n\u001b[0;32m      2\u001b[0m \u001b[0madf\u001b[0m\u001b[1;33m=\u001b[0m\u001b[0mmake_associationkinetics_df\u001b[0m\u001b[1;33m(\u001b[0m\u001b[0masec\u001b[0m\u001b[1;33m,\u001b[0m\u001b[1;36m1e7\u001b[0m\u001b[1;33m,\u001b[0m\u001b[1;36m1e-7\u001b[0m\u001b[1;33m,\u001b[0m\u001b[1;36m1e-12\u001b[0m\u001b[1;33m,\u001b[0m\u001b[1;36m10e-9\u001b[0m\u001b[1;33m,\u001b[0m\u001b[1;36m0\u001b[0m\u001b[1;33m,\u001b[0m\u001b[0mgeneral\u001b[0m\u001b[1;33m=\u001b[0m\u001b[1;32mFalse\u001b[0m\u001b[1;33m)\u001b[0m\u001b[1;33m\u001b[0m\u001b[1;33m\u001b[0m\u001b[0m\n\u001b[1;32m----> 3\u001b[1;33m \u001b[0mddf\u001b[0m\u001b[1;33m=\u001b[0m\u001b[0mmake_dissociationkinetics_df\u001b[0m\u001b[1;33m(\u001b[0m\u001b[0masec\u001b[0m\u001b[1;33m,\u001b[0m\u001b[1;36m1e7\u001b[0m\u001b[1;33m,\u001b[0m\u001b[1;36m1e-1\u001b[0m\u001b[1;33m,\u001b[0m\u001b[1;36m.1e-12\u001b[0m\u001b[1;33m,\u001b[0m\u001b[1;36m0\u001b[0m\u001b[1;33m,\u001b[0m\u001b[1;36m.9e-12\u001b[0m\u001b[1;33m,\u001b[0m\u001b[0mgeneral\u001b[0m\u001b[1;33m=\u001b[0m\u001b[1;32mFalse\u001b[0m\u001b[1;33m)\u001b[0m\u001b[1;33m\u001b[0m\u001b[1;33m\u001b[0m\u001b[0m\n\u001b[0m",
      "\u001b[1;32m~\\AppData\\Local\\Temp/ipykernel_17740/361582280.py\u001b[0m in \u001b[0;36mmake_dissociationkinetics_df\u001b[1;34m(seconds, ka, kd, ligand_0, analyte_0, complex_0, general)\u001b[0m\n\u001b[0;32m     21\u001b[0m         \u001b[1;32mreturn\u001b[0m \u001b[1;32mNone\u001b[0m\u001b[1;33m\u001b[0m\u001b[1;33m\u001b[0m\u001b[0m\n\u001b[0;32m     22\u001b[0m     \u001b[0mstart_theta\u001b[0m \u001b[1;33m=\u001b[0m \u001b[0mcomplex_0\u001b[0m\u001b[1;33m/\u001b[0m\u001b[1;33m(\u001b[0m\u001b[0manalyte_0\u001b[0m\u001b[1;33m+\u001b[0m\u001b[0mcomplex_0\u001b[0m\u001b[1;33m)\u001b[0m\u001b[1;33m\u001b[0m\u001b[1;33m\u001b[0m\u001b[0m\n\u001b[1;32m---> 23\u001b[1;33m     \u001b[0mend_theta\u001b[0m \u001b[1;33m=\u001b[0m \u001b[0manalyte_0\u001b[0m\u001b[1;33m/\u001b[0m\u001b[1;33m(\u001b[0m\u001b[0mkd\u001b[0m\u001b[1;33m/\u001b[0m\u001b[0mka\u001b[0m \u001b[1;33m+\u001b[0m \u001b[0manalyte_conc\u001b[0m\u001b[1;33m)\u001b[0m\u001b[1;33m\u001b[0m\u001b[1;33m\u001b[0m\u001b[0m\n\u001b[0m\u001b[0;32m     24\u001b[0m     \u001b[0mtheta_t\u001b[0m\u001b[1;33m=\u001b[0m \u001b[1;33m(\u001b[0m\u001b[0mstart_theta\u001b[0m \u001b[1;33m-\u001b[0m \u001b[0mend_theta\u001b[0m\u001b[1;33m)\u001b[0m\u001b[1;33m*\u001b[0m\u001b[0mnp\u001b[0m\u001b[1;33m.\u001b[0m\u001b[0mexp\u001b[0m\u001b[1;33m(\u001b[0m\u001b[1;33m-\u001b[0m\u001b[0mkd\u001b[0m\u001b[1;33m*\u001b[0m\u001b[0mseconds\u001b[0m\u001b[1;33m)\u001b[0m\u001b[1;33m\u001b[0m\u001b[1;33m\u001b[0m\u001b[0m\n\u001b[0;32m     25\u001b[0m     \u001b[0mcomplex_t\u001b[0m \u001b[1;33m=\u001b[0m \u001b[0mtheta_t\u001b[0m\u001b[1;33m*\u001b[0m\u001b[1;33m(\u001b[0m\u001b[0mligand_0\u001b[0m \u001b[1;33m+\u001b[0m \u001b[0mcomplex_0\u001b[0m\u001b[1;33m)\u001b[0m\u001b[1;33m\u001b[0m\u001b[1;33m\u001b[0m\u001b[0m\n",
      "\u001b[1;31mNameError\u001b[0m: name 'analyte_conc' is not defined"
     ]
    }
   ],
   "source": [
    "asec=np.arange(0,180,1)\n",
    "adf=make_associationkinetics_df(asec,1e7,1e-7,1e-12,10e-9,0,general=False)\n",
    "ddf=make_dissociationkinetics_df(asec,1e7,1e-1,.1e-12,0,.9e-12,general=False)"
   ]
  },
  {
   "cell_type": "code",
   "execution_count": 139,
   "id": "2308950f-b450-44d7-8bfc-f708381d10b5",
   "metadata": {},
   "outputs": [
    {
     "data": {
      "text/html": [
       "<div>\n",
       "<style scoped>\n",
       "    .dataframe tbody tr th:only-of-type {\n",
       "        vertical-align: middle;\n",
       "    }\n",
       "\n",
       "    .dataframe tbody tr th {\n",
       "        vertical-align: top;\n",
       "    }\n",
       "\n",
       "    .dataframe thead th {\n",
       "        text-align: right;\n",
       "    }\n",
       "</style>\n",
       "<table border=\"1\" class=\"dataframe\">\n",
       "  <thead>\n",
       "    <tr style=\"text-align: right;\">\n",
       "      <th></th>\n",
       "      <th>sec_total</th>\n",
       "      <th>theta</th>\n",
       "      <th>complex</th>\n",
       "      <th>ligand</th>\n",
       "    </tr>\n",
       "  </thead>\n",
       "  <tbody>\n",
       "    <tr>\n",
       "      <th>0</th>\n",
       "      <td>0</td>\n",
       "      <td>0.000000</td>\n",
       "      <td>0.000000e+00</td>\n",
       "      <td>1.000000e-12</td>\n",
       "    </tr>\n",
       "    <tr>\n",
       "      <th>1</th>\n",
       "      <td>1</td>\n",
       "      <td>0.095163</td>\n",
       "      <td>9.516258e-14</td>\n",
       "      <td>9.048374e-13</td>\n",
       "    </tr>\n",
       "    <tr>\n",
       "      <th>2</th>\n",
       "      <td>2</td>\n",
       "      <td>0.181269</td>\n",
       "      <td>1.812692e-13</td>\n",
       "      <td>8.187308e-13</td>\n",
       "    </tr>\n",
       "    <tr>\n",
       "      <th>3</th>\n",
       "      <td>3</td>\n",
       "      <td>0.259182</td>\n",
       "      <td>2.591817e-13</td>\n",
       "      <td>7.408183e-13</td>\n",
       "    </tr>\n",
       "    <tr>\n",
       "      <th>4</th>\n",
       "      <td>4</td>\n",
       "      <td>0.329680</td>\n",
       "      <td>3.296799e-13</td>\n",
       "      <td>6.703201e-13</td>\n",
       "    </tr>\n",
       "    <tr>\n",
       "      <th>...</th>\n",
       "      <td>...</td>\n",
       "      <td>...</td>\n",
       "      <td>...</td>\n",
       "      <td>...</td>\n",
       "    </tr>\n",
       "    <tr>\n",
       "      <th>175</th>\n",
       "      <td>175</td>\n",
       "      <td>0.999999</td>\n",
       "      <td>9.999990e-13</td>\n",
       "      <td>1.025109e-18</td>\n",
       "    </tr>\n",
       "    <tr>\n",
       "      <th>176</th>\n",
       "      <td>176</td>\n",
       "      <td>0.999999</td>\n",
       "      <td>9.999990e-13</td>\n",
       "      <td>1.022719e-18</td>\n",
       "    </tr>\n",
       "    <tr>\n",
       "      <th>177</th>\n",
       "      <td>177</td>\n",
       "      <td>0.999999</td>\n",
       "      <td>9.999990e-13</td>\n",
       "      <td>1.020557e-18</td>\n",
       "    </tr>\n",
       "    <tr>\n",
       "      <th>178</th>\n",
       "      <td>178</td>\n",
       "      <td>0.999999</td>\n",
       "      <td>9.999990e-13</td>\n",
       "      <td>1.018601e-18</td>\n",
       "    </tr>\n",
       "    <tr>\n",
       "      <th>179</th>\n",
       "      <td>179</td>\n",
       "      <td>0.999999</td>\n",
       "      <td>9.999990e-13</td>\n",
       "      <td>1.016830e-18</td>\n",
       "    </tr>\n",
       "  </tbody>\n",
       "</table>\n",
       "<p>180 rows × 4 columns</p>\n",
       "</div>"
      ],
      "text/plain": [
       "     sec_total     theta       complex        ligand\n",
       "0            0  0.000000  0.000000e+00  1.000000e-12\n",
       "1            1  0.095163  9.516258e-14  9.048374e-13\n",
       "2            2  0.181269  1.812692e-13  8.187308e-13\n",
       "3            3  0.259182  2.591817e-13  7.408183e-13\n",
       "4            4  0.329680  3.296799e-13  6.703201e-13\n",
       "..         ...       ...           ...           ...\n",
       "175        175  0.999999  9.999990e-13  1.025109e-18\n",
       "176        176  0.999999  9.999990e-13  1.022719e-18\n",
       "177        177  0.999999  9.999990e-13  1.020557e-18\n",
       "178        178  0.999999  9.999990e-13  1.018601e-18\n",
       "179        179  0.999999  9.999990e-13  1.016830e-18\n",
       "\n",
       "[180 rows x 4 columns]"
      ]
     },
     "execution_count": 139,
     "metadata": {},
     "output_type": "execute_result"
    }
   ],
   "source": [
    "adf=adf.rename(columns={'seconds':'sec_total'})\n",
    "adf"
   ]
  },
  {
   "cell_type": "code",
   "execution_count": 12,
   "id": "918e3167-3420-4af3-a095-17ee92a54be9",
   "metadata": {},
   "outputs": [],
   "source": [
    "from bokeh.models.formatters import PrintfTickFormatter"
   ]
  },
  {
   "cell_type": "code",
   "execution_count": 14,
   "id": "8dfd7ee1-d778-4559-93c3-0f3e989342f5",
   "metadata": {},
   "outputs": [
    {
     "name": "stdout",
     "output_type": "stream",
     "text": [
      "9.999899832714493e-06 0\n"
     ]
    },
    {
     "data": {
      "text/html": [
       "0.9090909090909092 0</br>\n",
       "0.09090909090909093 0</br>\n",
       "0.5 0</br>\n",
       "0.9090909090909092 0</br>\n",
       "0.9999000099990001 0</br>\n",
       "0.9900989959672186 0</br>"
      ]
     },
     "metadata": {},
     "output_type": "display_data"
    },
    {
     "data": {
      "application/vnd.holoviews_exec.v0+json": "",
      "text/html": [
       "<div id='2066'>\n",
       "\n",
       "\n",
       "\n",
       "\n",
       "\n",
       "  <div class=\"bk-root\" id=\"4e32c3da-005e-4419-8089-9c8a33a1c2c5\" data-root-id=\"2066\"></div>\n",
       "</div>\n",
       "<script type=\"application/javascript\">(function(root) {\n",
       "  function embed_document(root) {\n",
       "    var docs_json = {\"60359512-8084-4279-bafc-7ac26b2b0656\":{\"defs\":[{\"extends\":null,\"module\":null,\"name\":\"ReactiveHTML1\",\"overrides\":[],\"properties\":[]},{\"extends\":null,\"module\":null,\"name\":\"FlexBox1\",\"overrides\":[],\"properties\":[{\"default\":\"flex-start\",\"kind\":null,\"name\":\"align_content\"},{\"default\":\"flex-start\",\"kind\":null,\"name\":\"align_items\"},{\"default\":\"row\",\"kind\":null,\"name\":\"flex_direction\"},{\"default\":\"wrap\",\"kind\":null,\"name\":\"flex_wrap\"},{\"default\":\"flex-start\",\"kind\":null,\"name\":\"justify_content\"}]},{\"extends\":null,\"module\":null,\"name\":\"TemplateActions1\",\"overrides\":[],\"properties\":[{\"default\":0,\"kind\":null,\"name\":\"open_modal\"},{\"default\":0,\"kind\":null,\"name\":\"close_modal\"}]},{\"extends\":null,\"module\":null,\"name\":\"MaterialTemplateActions1\",\"overrides\":[],\"properties\":[{\"default\":0,\"kind\":null,\"name\":\"open_modal\"},{\"default\":0,\"kind\":null,\"name\":\"close_modal\"}]}],\"roots\":{\"references\":[{\"attributes\":{},\"id\":\"2043\",\"type\":\"BasicTicker\"},{\"attributes\":{\"below\":[{\"id\":\"2038\"}],\"center\":[{\"id\":\"2041\"},{\"id\":\"2045\"}],\"height\":300,\"left\":[{\"id\":\"2042\"}],\"renderers\":[{\"id\":\"2064\"}],\"title\":{\"id\":\"2078\"},\"toolbar\":{\"id\":\"2053\"},\"x_range\":{\"id\":\"2030\"},\"x_scale\":{\"id\":\"2034\"},\"y_range\":{\"id\":\"2060\"},\"y_scale\":{\"id\":\"2036\"}},\"id\":\"2029\",\"subtype\":\"Figure\",\"type\":\"Plot\"},{\"attributes\":{\"line_alpha\":0.1,\"line_color\":\"#1f77b4\",\"x\":{\"field\":\"seconds\"},\"y\":{\"field\":\"theta\"}},\"id\":\"2063\",\"type\":\"Line\"},{\"attributes\":{\"active_multi\":null,\"tools\":[{\"id\":\"2046\"},{\"id\":\"2047\"},{\"id\":\"2048\"},{\"id\":\"2049\"},{\"id\":\"2050\"},{\"id\":\"2051\"}]},\"id\":\"2053\",\"type\":\"Toolbar\"},{\"attributes\":{\"axis\":{\"id\":\"2038\"},\"ticker\":null},\"id\":\"2041\",\"type\":\"Grid\"},{\"attributes\":{\"css_classes\":[\"markdown\"],\"margin\":[5,5,5,5],\"name\":\"Markdown00342\",\"text\":\"&lt;p&gt;Kd (eq)=0.01&lt;/p&gt;\"},\"id\":\"2075\",\"type\":\"panel.models.markup.HTML\"},{\"attributes\":{\"reload\":false},\"id\":\"2166\",\"type\":\"panel.models.location.Location\"},{\"attributes\":{},\"id\":\"2079\",\"type\":\"BasicTickFormatter\"},{\"attributes\":{\"margin\":[5,10,5,10],\"title\":\"conc in nM\",\"value\":\"100\"},\"id\":\"2070\",\"type\":\"TextInput\"},{\"attributes\":{\"data\":{\"complex\":{\"__ndarray__\":\"AAAAAAAAAAB/qCIiRxb8OxMQduMmwAo8jYbSZMwfEzxS6i91d1MYPB41551oCB08QRfwk1elIDycQQRImpIiPCZvYT7sUCQ8HtQaBcXkJTwXdiVXL1InPGrlg3fTnCg8/ocmkADIKTzy0oIstdYqPL3nmuWmyys8IsodU0mpLDxXgmlT1HEtPD4vh7pJJy48ivmwdnrLLjzfFI83C2AvPFj7F6R45i88os3ulA0wMDwcL8U3FWcwPGeRsTngmDA87ArmLu7FMDyL0oWHsu4wPEtNa7eVEzE864PIQfY0MTwOtk+rKVMxPG1/UFV9bjE8Dvj6QzeHMTyoy8TRlp0xPKTsu1HVsTE8vMlmoibEMTzKWKqyudQxPJt5Cvq44zE8Jsx45UrxMTxCw8g5kv0xPHg1xWyuCDI8CKzL9bsSMjyQ97uW1BsyPFzq9p0PJDI87k8VIoIrMjyZIfA3PzIyPAxphCNYODI8nxQwhNw9MjzmFbl82kIyPGJZhddeRzI87WNgJ3VLMjyQjSLlJ08yPPLThYqAUjI8jANtqodVMjwBbNsGRVgyPKFo1aS/WjI80Kpc3v1cMjxgW7ZyBV8yPEjFJJXbYDI8QUQ6+oRiMjzNmufjBWQyPFiTZCxiZTI8xd8OUJ1mMjyYgVh2umcyPBad3Hm8aDI8+Guv76VpMjz3C/wteWoyPCIdAVI4azI8tYZ7ReVrMjy9Q43DgWwyPHfGLF0PbTI8iE8ofY9tMjxFgcdrA24yPNp8FFJsbjI8RvTUPMtuMjxXzzofIW8yPO5HU9VubzI8Lbo6JrVvMjwVzRrG9G8yPMMO+FcucDI8+KJTb2JwMjwkMqWRkXAyPEPhsDe8cDI8xr68zuJwMjxBvai5BXEyPF8J7FElcTI8BUR66EFxMjwb7JLGW3EyPF4LfS5zcTI8EQcxXIhxMjyoR/KFm3EyPCpB2tyscTI8ckBWjbxxMjyxP5m/ynEyPNPlApjXcTI8rLh8N+NxMjy3cM677XEyPHlG6j/3cTI8Cv0x3P9xMjyZWrWmB3IyPB+varMOcjI84vlhFBVyMjwFMfPZGnIyPJ4h6BIgcjI8plOizCRyMjzHUj0TKXIyPAK0rfEscjI8iSfdcTByMjy/3sOcM3IyPIyHf3o2cjI8sBdoEjlyMjylnSJrO3IyPPtGsoo9cjI8DsiHdj9yMjxYTI8zQXIyPEETPcZCcjI8q9mYMkRyMjxjLUh8RXIyPCXFl6ZGcjI83fSDtEdyMjwFVMCoSHIyPKepvoVJcjI8ri+1TUpyMjy5PaQCS3IyPMZpW6ZLcjI8CCx+OkxyMjygEYjATHIyPB+J0DlNcjI8clKOp01yMjwVm9oKTnIyPIXOs2ROcjI8FiIAtk5yMjzT4o//TnIyPCyLH0JPcjI85aVZfk9yMjwIg9i0T3IyPEfDJ+ZPcjI8vr3FElByMjyowyQ7UHIyPENFrF9QcjI82dq5gFByMjyQNKKeUHIyPGbzsblQcjI8hW0u0lByMjzuX1boUHIyPDSPYvxQcjI88liGDlFyMjxpN/AeUXIyPJE4yi1RcjI82Gk6O1FyMjypOWNHUXIyPJ7PY1JRcjI8U1xYXFFyMjykYVplUXIyPAX0gG1RcjI8pfXgdFFyMjzwS417UXIyPPkPl4FRcjI8SroNh1FyMjyISv+LUXIyPE1reJBRcjI8opKElFFyMjxWHy6YUXIyPJlzfptRcjI8/gx+nlFyMjw/mjShUXIyPO4OqaNRcjI8RbXhpVFyMjxAPuSnUXIyPDLQtalRcjI8/xNbq1FyMjwAQdisUXIyPNwnMa5RcjI8RTxpr1FyMjzXnYOwUXIyPBYgg7FRcjI8qlFqslFyMjzugjuzUXIyPOPL+LNRcjI8ghGktFFyMjyiCj+1UXIyPFFEy7VRcjI8UUTLtVFyMjx11S9c7rAwPNmqI6qdNC4821l+m8JUKzxGZwow7rooPNQ91XV2YCY8IdiC0lM/JDyB0WKQEVIiPJ6r4eO/kyA85xQLi87/HTwuWxwA+iQbPHzWyqqxjxg8LpuvP1c5FjySqCav7RsUPF10Zs0JMhI8M6thcMR2EDyqCsK/W8sNPJk+S++E9Qo83b3ovMBkCDxf0WBvfBIGPKVAWW/F+AM8Ph9CCjoSAjyyTX2o+1kAPDt73aZEl/07Glz81mLG+jtkpjviGjr4Ow7/U43l6/U7Y/LmptrV8ztDHQ7lofLxO8T+nTNlPfA73YsMoIhj7TusZiAmk5fqOysngpe/D+g7IlTFIpLF5TvjO1nqLLPjOxPljfxA0+E7mgvIuQAh4Dt/qhYMJzDdO9OtpUwVado7c1FgWq7l1ztFpMC5gZ/VO4N89c67kNM7hO0u8Ba00TsYlJnjzQTQO8qj2Uwf/cw7Q2J2u+g6yjt8H16p5rvHO8n7H92zecU7c6y76oZuwzt9hAdgI5XBO+T7krSY0b87dLxHxXDKvDt03XbkDA26OwPm5QNokrc7NDeKGChUtTt7FmXUjUyzO7Cn1exldrE7JtNMj/eZrzvTzWXZGpisO1HsgzqB36k7jMhC6jFppzsgnXH43S6lO+8TYyPQKqM7d9/9N95XoTulUSust2KfO+JlSe4cZpw71xxxMUWymTtLMJ/dQ0CXO516EgrVCZU798rdb00JkzuyG4rjizmROwVvJGHYK487XuoWanY0jDuiDgc+WIWJO91FA2CdF4c7+cFx2wzlhDvq7rJSBeiCO36SKJJuG4E7hmtXBVn1fjtpv/+zJgN8O4/GAda5WHk7mW1T9D3vdjvmq1v7hMB0O+qCdGX3xnI7I6Eq54X9cDtLyArxOL9uOyZxQDQt0ms7BQUPcGksaTtgxk4eJcdmO0hbYvk8nGQ7pp5nQiOmYju/roOG0d9gOw9Dqn13iV47j+AeVImhWzuhn8yDZgBZO3mrjWJSn1Y74oLcZTR4VDsvNYOEiIVSO/MQyBRRwlA7uNXEBRRUTjvhc+h9OnFLOxjdxomw1Eg7cDiARsV3RjsDDuTRalREOznebscmZUI7sfIrNwSlQDvKuArlDR8+O3VJ8BxAQTs7u9R2+0apODs80GxQfVA2O+zKVM/fMDQ7+6CBp/1EMjuKPIKT6ocwOyZqS3hk6i07pG6NnZkRKzsX0EBTKX4oO0Ombgd6KSY7+hfL8JINJDvHwcDBDCUiO2x/O9ADayA7Y7ZzHRe2HTveGBltRuIaO++vcgxXUxg7okp087oCFjsTk6LJg+oTOyaR3rNTBRI7veBklE9OEDsrxoszJYINO8fi7PlFswo771NCo88oCDtaOD6dP9wFOwjL9O2xxwM7aT05HNLlATvYCKeHzTEAOwkvtRqOTv06kwths5eE+jrIBMyUkv73Om5mXY4HtvU61fOX8hyl8zpPptmZh8bxOvkSRVJ9FfA66wYpNFEb7Tr5ucoJO1bqOrXhEF+f1Oc6f9sxURKQ5Tp8nB1txILjOk0ycsxzp+E6jf42Or3y3zoB/DXibejcOjdCem4vKNo6FlD1gPWq1zqMQ+lwX2rVOqdn0fOnYNM6faZdVJaI0Tp+TT4j4rrPOvRuPojjtcw6jG65U3T6yTo2bj96lIHHOrCIfXnuRMU6Zca3Hcc+wzoAAJ7S7mnBOkxhuLNog786JZG2irGDvDqAy8ksCc25OsSIlct7WLc6yG2z974ftTrQtIyCIR2zOsRP2+h8S7E6exTqQFBMrzrQhSJP11GsOmT24m3tn6k6yZJ89qovpzr7Kxl50PqkOnh5wrq2+6I6EJhiOUAtoTqiv0IhmBWfOv2GFDxUIJw6R+8wjCBzmTpMoFZ9IQeXOmESBYwi1pQ6\",\"dtype\":\"float64\",\"order\":\"little\",\"shape\":[360]},\"index\":[0,1,2,3,4,5,6,7,8,9,10,11,12,13,14,15,16,17,18,19,20,21,22,23,24,25,26,27,28,29,30,31,32,33,34,35,36,37,38,39,40,41,42,43,44,45,46,47,48,49,50,51,52,53,54,55,56,57,58,59,60,61,62,63,64,65,66,67,68,69,70,71,72,73,74,75,76,77,78,79,80,81,82,83,84,85,86,87,88,89,90,91,92,93,94,95,96,97,98,99,100,101,102,103,104,105,106,107,108,109,110,111,112,113,114,115,116,117,118,119,120,121,122,123,124,125,126,127,128,129,130,131,132,133,134,135,136,137,138,139,140,141,142,143,144,145,146,147,148,149,150,151,152,153,154,155,156,157,158,159,160,161,162,163,164,165,166,167,168,169,170,171,172,173,174,175,176,177,178,179,180,181,182,183,184,185,186,187,188,189,190,191,192,193,194,195,196,197,198,199,200,201,202,203,204,205,206,207,208,209,210,211,212,213,214,215,216,217,218,219,220,221,222,223,224,225,226,227,228,229,230,231,232,233,234,235,236,237,238,239,240,241,242,243,244,245,246,247,248,249,250,251,252,253,254,255,256,257,258,259,260,261,262,263,264,265,266,267,268,269,270,271,272,273,274,275,276,277,278,279,280,281,282,283,284,285,286,287,288,289,290,291,292,293,294,295,296,297,298,299,300,301,302,303,304,305,306,307,308,309,310,311,312,313,314,315,316,317,318,319,320,321,322,323,324,325,326,327,328,329,330,331,332,333,334,335,336,337,338,339,340,341,342,343,344,345,346,347,348,349,350,351,352,353,354,355,356,357,358,359],\"ligand\":{\"__ndarray__\":\"gnZJaMIlPD1gBOWmwCU8PROaRBC/JTw9TV1WoL0lPD02mWtTvCU8PQhPLya7JTw9iqydFbolPD2AUvweuSU8PVFX0z+4JTw99fPmdbclPD3vyjG/tiU8PcC63xm2JTw9by5JhLUlPD1B4O78tCU8PbUDdoK0JTw988ykE7QlPD3NTF+vsyU8PT6ZpFSzJTw9KjuMArMlPD262kO4siU8PXYkDXWyJTw9k+E7OLIlPD29PjQBsiU8PdA8ac+xJTw9nEdborElPD387pZ5sSU8PRe/s1SxJTw9uTRTM7ElPD0yyx8VsSU8PTIhzPmwJTw9hzIS4bAlPD29pLLKsCU8PcYkdLawJTw9G9QipLAlPD3Yw4+TsCU8PXh8kISwJTw9CZH+drAlPD25PLdqsCU8Pb0Jm1+wJTw9toCNVbAlPD3G33RMsCU8PYvYOUSwJTw9bVTHPLAlPD2SPgo2sCU8Pf5S8S+wJTw9UvJsKrAlPD3J+W4lsCU8Pf2e6iCwJTw9Ik/UHLAlPD1fkSEZsCU8PfzryBWwJTw9FczBErAlPD2nbwQQsCU8Pa3RiQ2wJTw9JZhLC7AlPD3MA0QJsCU8PV3hbQewJTw9SHzEBbAlPD2akkMEsCU8PR1K5wKwJTw9cyasAbAlPD0pAI8AsCU8PaX8jP+vJTw904aj/q8lPD2GSND9ryU8PYEkEf2vJTw9BjFk/K8lPD31ssf7ryU8PVUZOvuvJTw9Wvm5+q8lPD26Ckb6ryU8PW4k3fmvJTw9rTl++a8lPD1HVyj5ryU8PS+h2vivJTw9R1CU+K8lPD1nsFT4ryU8PYoeG/ivJTw9Lgfn968lPD3d5Lf3ryU8PdE+jfevJTw9xadm968lPD3ZvEP3ryU8PZYkJPevJTw9CI4H968lPD3vr+32ryU8PQVI1vavJTw9URrB9q8lPD2Q8K32ryU8PaiZnPavJTw9LOmM9q8lPD3ptn72ryU8PX/ecfavJTw9BT9m9q8lPD20ulv2ryU8PZg2UvavJTw9UJpJ9q8lPD3Nz0H2ryU8PRfDOvavJTw9IGI09q8lPD2PnC72ryU8PZpjKfavJTw94Kkk9q8lPD1FYyD2ryU8PdSEHPavJTw9pQQZ9q8lPD2+2RX2ryU8PQL8EvavJTw9GmQQ9q8lPD1fCw72ryU8PdDrC/avJTw9+v8J9q8lPD3zQgj2ryU8PUWwBvavJTw96UMF9q8lPD06+gP2ryU8PerPAvavJTw9/sEB9q8lPD3CzQD2ryU8PcPw//WvJTw9zSj/9a8lPD3ec/71ryU8PSfQ/fWvJTw9BDz99a8lPD36tfz1ryU8PbE8/PWvJTw99M779a8lPD2na/v1ryU8Pc4R+/WvJTw9gsD69a8lPD3ydvr1ryU8PWI0+vWvJTw9KPj59a8lPD2pwfn1ryU8PVqQ+fWvJTw9vGP59a8lPD1dO/n1ryU8PdYW+fWvJTw9yPX49a8lPD3g1/j1ryU8PdC8+PWvJTw9VKT49a8lPD0sjvj1ryU8PR96+PWvJTw9/Gf49a8lPD2SV/j1ryU8PbhI+PWvJTw9SDv49a8lPD0fL/j1ryU8PR4k+PWvJTw9Khr49a8lPD0oEfj1ryU8PQEJ+PWvJTw9oQH49a8lPD31+vf1ryU8Pev09/WvJTw9dO/39a8lPD2D6vf1ryU8PQrm9/WvJTw9/eH39a8lPD1U3vf1ryU8PQTb9/WvJTw9BNj39a8lPD1N1ff1ryU8PdnS9/WvJTw9oND39a8lPD2ezvf1ryU8PczM9/WvJTw9J8v39a8lPD2qyff1ryU8PVHI9/WvJTw9Gcf39a8lPD3+xff1ryU8Pf/E9/WvJTw9GMT39a8lPD1Gw/f1ryU8PYnC9/WvJTw93sH39a8lPD1Dwff1ryU8PbfA9/WvJTw9t8D39a8lPD1SGlu3sSU8PXCh+k2zJTw9wyjovbQlPD19XtIKtiU8PZc7Dji3JTw9QY2fSLglPD1RrkA/uSU8PZGEaR66JTw9v9NV6LolPD179gqfuyU8Pc8LXUS8JTw9lqbz2bwlPD24Ck5hvSU8PSgDx9u9JTw9alqYSr4lPD2K/t2uviU8PZnYmAm/JTw95V6xW78lPD2W6PmlvyU8PZfIMOm/JTw9OjUCJsAlPD1yAQpdwCU8PRQs1Y7AJTw9Eknju8AlPD1eyKfkwCU8Pa0diwnBJTw9FMzrKsElPD0xWB9JwSU8PUgjc2TBJTw9gjEtfcElPD1R3YyTwSU8PcZ5y6fBJTw9bOUcusElPD0vD7DKwSU8PZ5ur9nBJTw9tHBB58ElPD1S2ojzwSU8PU8hpf7BJTw9GL2yCMIlPD2bb8sRwiU8PUaHBhrCJTw9wRp5IcIlPD30PjYowiU8Peg3Ty7CJTw9C6XTM8IlPD0vqdE4wiU8PcgOVj3CJTw9rWhsQcIlPD3CLx9FwiU8Pc3dd0jCJTw9vQV/S8IlPD2eaTxOwiU8PX4Ot1DCJTw9aU71UsIlPD2u6PxUwiU8PZUQ01bCJTw9unp8WMIlPD0Vaf1ZwiU8PeW1WVvCJTw9jd2UXMIlPD2GB7JdwiU8PXAOtF7CJTw9ZoedX8IlPD2XyHBgwiU8PUbvL2HCJTw9NuXcYcIlPD2LZXliwiU8PT8BB2PCJTw9JiOHY8IlPD2JE/tjwiU8PXb7Y2TCJTw9tefCZMIlPD16yxhlwiU8PdaCZmXCJTw959SsZcIlPD3YdexlwiU8PbAIJmbCJTw98iBaZsIlPD0XRIlmwiU8PeXqs2bCJTw9o4LaZsIlPD0ybv1mwiU8PQwHHWfCJTw9JJ45Z8IlPD26fFNnwiU8PRjlamfCJTw9NhOAZ8IlPD1ZPZNnwiU8PZqUpGfCJTw9aEW0Z8IlPD32d8JnwiU8PaRQz2fCJTw9XfDaZ8IlPD3odOVnwiU8PTj57mfCJTw9sJX3Z8IlPD1gYP9nwiU8PT5tBmjCJTw9Ws4MaMIlPD0NlBJowiU8PSHNF2jCJTw994YcaMIlPD2szSBowiU8PTSsJGjCJTw9eiwoaMIlPD10VytowiU8PUI1LmjCJTw9O80waMIlPD0FJjNowiU8PaJFNWjCJTw9hDE3aMIlPD2X7jhowiU8PVCBOmjCJTw9te07aMIlPD1tNz1owiU8PcVhPmjCJTw9uW8/aMIlPD38Y0BowiU8PQBBQWjCJTw9/AhCaMIlPD3wvUJowiU8PaxhQ2jCJTw90/VDaMIlPD3he0RowiU8PS31RGjCJTw97mJFaMIlPD09xkVowiU8PRkgRmjCJTw9aHFGaMIlPD36ukZowiU8PYz9RmjCJTw9yDlHaMIlPD1IcEdowiU8PZmhR2jCJTw9Oc5HaMIlPD2Z9kdowiU8PSIbSGjCJTw9MDxIaMIlPD0aWkhowiU8PSp1SGjCJTw9p41IaMIlPD3Qo0howiU8Pd23SGjCJTw9AcpIaMIlPD1s2khowiU8PUbpSGjCJTw9t/ZIaMIlPD3gAklowiU8PeENSWjCJTw91hdJaMIlPD3ZIElowiU8Pf8oSWjCJTw9YDBJaMIlPD0MN0lowiU8PRY9SWjCJTw9jUJJaMIlPD1/R0lowiU8PfhLSWjCJTw9BFBJaMIlPD2uU0lowiU8Pf9WSWjCJTw9/llJaMIlPD21XElowiU8PSpfSWjCJTw9YmFJaMIlPD1lY0lowiU8PTdlSWjCJTw93GZJaMIlPD1ZaElowiU8PbJpSWjCJTw96mpJaMIlPD0FbElowiU8PQRtSWjCJTw9621JaMIlPD29bklowiU8PXpvSWjCJTw9JXBJaMIlPD3AcElowiU8PUxxSWjCJTw9\",\"dtype\":\"float64\",\"order\":\"little\",\"shape\":[360]},\"seconds\":[0,1,2,3,4,5,6,7,8,9,10,11,12,13,14,15,16,17,18,19,20,21,22,23,24,25,26,27,28,29,30,31,32,33,34,35,36,37,38,39,40,41,42,43,44,45,46,47,48,49,50,51,52,53,54,55,56,57,58,59,60,61,62,63,64,65,66,67,68,69,70,71,72,73,74,75,76,77,78,79,80,81,82,83,84,85,86,87,88,89,90,91,92,93,94,95,96,97,98,99,100,101,102,103,104,105,106,107,108,109,110,111,112,113,114,115,116,117,118,119,120,121,122,123,124,125,126,127,128,129,130,131,132,133,134,135,136,137,138,139,140,141,142,143,144,145,146,147,148,149,150,151,152,153,154,155,156,157,158,159,160,161,162,163,164,165,166,167,168,169,170,171,172,173,174,175,176,177,178,179,180,181,182,183,184,185,186,187,188,189,190,191,192,193,194,195,196,197,198,199,200,201,202,203,204,205,206,207,208,209,210,211,212,213,214,215,216,217,218,219,220,221,222,223,224,225,226,227,228,229,230,231,232,233,234,235,236,237,238,239,240,241,242,243,244,245,246,247,248,249,250,251,252,253,254,255,256,257,258,259,260,261,262,263,264,265,266,267,268,269,270,271,272,273,274,275,276,277,278,279,280,281,282,283,284,285,286,287,288,289,290,291,292,293,294,295,296,297,298,299,300,301,302,303,304,305,306,307,308,309,310,311,312,313,314,315,316,317,318,319,320,321,322,323,324,325,326,327,328,329,330,331,332,333,334,335,336,337,338,339,340,341,342,343,344,345,346,347,348,349,350,351,352,353,354,355,356,357,358,359],\"seconds_assoc\":{\"__ndarray__\":\"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\",\"dtype\":\"float64\",\"order\":\"little\",\"shape\":[360]},\"seconds_dissoc\":{\"__ndarray__\":\"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\",\"dtype\":\"float64\",\"order\":\"little\",\"shape\":[360]},\"theta\":{\"__ndarray__\":\"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\",\"dtype\":\"float64\",\"order\":\"little\",\"shape\":[360]}},\"selected\":{\"id\":\"2087\"},\"selection_policy\":{\"id\":\"2086\"}},\"id\":\"2028\",\"type\":\"ColumnDataSource\"},{\"attributes\":{\"children\":[{\"id\":\"2029\"}],\"margin\":[0,0,0,0],\"name\":\"Row00364\"},\"id\":\"2076\",\"type\":\"Row\"},{\"attributes\":{\"margin\":[5,10,5,10],\"title\":\"ka (M-1s-1)\",\"value\":\"10\"},\"id\":\"2068\",\"type\":\"TextInput\"},{\"attributes\":{},\"id\":\"2034\",\"type\":\"LinearScale\"},{\"attributes\":{},\"id\":\"2087\",\"type\":\"Selection\"},{\"attributes\":{},\"id\":\"2036\",\"type\":\"LinearScale\"},{\"attributes\":{\"children\":[{\"id\":\"2072\"},{\"id\":\"2074\"}],\"margin\":[0,0,0,0],\"name\":\"Row00346\"},\"id\":\"2071\",\"type\":\"Row\"},{\"attributes\":{\"formatter\":{\"id\":\"2082\"},\"major_label_policy\":{\"id\":\"2084\"},\"ticker\":{\"id\":\"2043\"}},\"id\":\"2042\",\"type\":\"LinearAxis\"},{\"attributes\":{\"line_color\":\"#1f77b4\",\"x\":{\"field\":\"seconds\"},\"y\":{\"field\":\"theta\"}},\"id\":\"2062\",\"type\":\"Line\"},{\"attributes\":{\"children\":[{\"id\":\"2073\"}],\"margin\":[0,0,0,0],\"name\":\"Row00332\"},\"id\":\"2072\",\"type\":\"Row\"},{\"attributes\":{\"children\":[{\"id\":\"2075\"}],\"margin\":[0,0,0,0],\"name\":\"Row00341\"},\"id\":\"2074\",\"type\":\"Row\"},{\"attributes\":{\"axis\":{\"id\":\"2042\"},\"dimension\":1,\"ticker\":null},\"id\":\"2045\",\"type\":\"Grid\"},{\"attributes\":{\"overlay\":{\"id\":\"2052\"}},\"id\":\"2048\",\"type\":\"BoxZoomTool\"},{\"attributes\":{\"client_comm_id\":\"f8b8db025fbe4bfdbbb227be99a89038\",\"comm_id\":\"2455cdfd77a64d198edfaebdfce4b9f2\",\"plot_id\":\"2066\"},\"id\":\"2132\",\"type\":\"panel.models.comm_manager.CommManager\"},{\"attributes\":{},\"id\":\"2049\",\"type\":\"SaveTool\"},{\"attributes\":{},\"id\":\"2039\",\"type\":\"BasicTicker\"},{\"attributes\":{},\"id\":\"2047\",\"type\":\"WheelZoomTool\"},{\"attributes\":{\"css_classes\":[\"markdown\"],\"margin\":[5,5,5,5],\"name\":\"Markdown00333\",\"text\":\"&lt;p&gt;ka_obs=0.1&lt;/p&gt;\"},\"id\":\"2073\",\"type\":\"panel.models.markup.HTML\"},{\"attributes\":{},\"id\":\"2081\",\"type\":\"AllLabels\"},{\"attributes\":{},\"id\":\"2046\",\"type\":\"PanTool\"},{\"attributes\":{},\"id\":\"2078\",\"type\":\"Title\"},{\"attributes\":{\"formatter\":{\"id\":\"2079\"},\"major_label_policy\":{\"id\":\"2081\"},\"ticker\":{\"id\":\"2039\"}},\"id\":\"2038\",\"type\":\"LinearAxis\"},{\"attributes\":{\"bottom_units\":\"screen\",\"fill_alpha\":0.5,\"fill_color\":\"lightgrey\",\"left_units\":\"screen\",\"level\":\"overlay\",\"line_alpha\":1.0,\"line_color\":\"black\",\"line_dash\":[4,4],\"line_width\":2,\"right_units\":\"screen\",\"syncable\":false,\"top_units\":\"screen\"},\"id\":\"2052\",\"type\":\"BoxAnnotation\"},{\"attributes\":{\"children\":[{\"id\":\"2067\"},{\"id\":\"2076\"}],\"margin\":[0,0,0,0],\"name\":\"Row00369\"},\"id\":\"2066\",\"type\":\"Row\"},{\"attributes\":{},\"id\":\"2084\",\"type\":\"AllLabels\"},{\"attributes\":{},\"id\":\"2082\",\"type\":\"BasicTickFormatter\"},{\"attributes\":{\"source\":{\"id\":\"2028\"}},\"id\":\"2065\",\"type\":\"CDSView\"},{\"attributes\":{},\"id\":\"2086\",\"type\":\"UnionRenderers\"},{\"attributes\":{\"margin\":[5,10,5,10],\"title\":\"kd (s-1)\",\"value\":\"0.1\"},\"id\":\"2069\",\"type\":\"TextInput\"},{\"attributes\":{},\"id\":\"2060\",\"type\":\"Range1d\"},{\"attributes\":{\"data_source\":{\"id\":\"2028\"},\"glyph\":{\"id\":\"2062\"},\"hover_glyph\":null,\"muted_glyph\":null,\"nonselection_glyph\":{\"id\":\"2063\"},\"view\":{\"id\":\"2065\"}},\"id\":\"2064\",\"type\":\"GlyphRenderer\"},{\"attributes\":{},\"id\":\"2050\",\"type\":\"ResetTool\"},{\"attributes\":{},\"id\":\"2051\",\"type\":\"HelpTool\"},{\"attributes\":{\"children\":[{\"id\":\"2068\"},{\"id\":\"2069\"},{\"id\":\"2070\"},{\"id\":\"2071\"}],\"margin\":[0,0,0,0],\"name\":\"Column00359\"},\"id\":\"2067\",\"type\":\"Column\"},{\"attributes\":{},\"id\":\"2030\",\"type\":\"DataRange1d\"}],\"root_ids\":[\"2066\",\"2132\",\"2166\"]},\"title\":\"Bokeh Application\",\"version\":\"2.3.3\"}};\n",
       "    var render_items = [{\"docid\":\"60359512-8084-4279-bafc-7ac26b2b0656\",\"root_ids\":[\"2066\"],\"roots\":{\"2066\":\"4e32c3da-005e-4419-8089-9c8a33a1c2c5\"}}];\n",
       "    root.Bokeh.embed.embed_items_notebook(docs_json, render_items);\n",
       "  }\n",
       "  if (root.Bokeh !== undefined && root.Bokeh.Panel !== undefined) {\n",
       "    embed_document(root);\n",
       "  } else {\n",
       "    var attempts = 0;\n",
       "    var timer = setInterval(function(root) {\n",
       "      if (root.Bokeh !== undefined && root.Bokeh.Panel !== undefined) {\n",
       "        clearInterval(timer);\n",
       "        embed_document(root);\n",
       "      } else if (document.readyState == \"complete\") {\n",
       "        attempts++;\n",
       "        if (attempts > 200) {\n",
       "          clearInterval(timer);\n",
       "          console.log(\"Bokeh: ERROR: Unable to run BokehJS code because BokehJS library is missing\");\n",
       "        }\n",
       "      }\n",
       "    }, 25, root)\n",
       "  }\n",
       "})(window);</script>"
      ],
      "text/plain": [
       "Row\n",
       "    [0] Column\n",
       "        [0] LiteralInput(name='ka (M-1s-1)', value=10)\n",
       "        [1] LiteralInput(name='kd (s-1)', value=0.1)\n",
       "        [2] LiteralInput(name='conc in nM', value=100)\n",
       "        [3] Row\n",
       "            [0] ParamMethod(method)\n",
       "            [1] ParamMethod(method)\n",
       "    [1] ParamMethod(method)"
      ]
     },
     "execution_count": 14,
     "metadata": {
      "application/vnd.holoviews_exec.v0+json": {
       "id": "2066"
      }
     },
     "output_type": "execute_result"
    }
   ],
   "source": [
    "from bokeh.plotting import figure\n",
    "from bokeh.models import ColumnDataSource,Range1d\n",
    "#from bokeh.models.formatter import PrintfTickFormatter\n",
    "\n",
    "def make_associationkinetics_df(seconds,ka,kd,ligand_0,analyte_0,complex_0,general=False):\n",
    "    if general:\n",
    "        print('general equation set (assuming analyte not in excess) not implemented yet')\n",
    "        return None\n",
    "    start_theta = complex_0/(analyte_0+complex_0)\n",
    "    end_theta = analyte_0/(kd/ka + analyte_0)\n",
    "    kobs = ka*analyte_0 + kd\n",
    "    theta_t = start_theta+(end_theta-start_theta)*(1-np.exp(-kobs*seconds))\n",
    "    complex_t = theta_t*(ligand_0 + complex_0)\n",
    "    ligand_t = (ligand_0 + complex_0) - complex_t\n",
    "    assocdf=pd.DataFrame(data={'seconds':seconds,'theta':theta_t,'complex':complex_t,'ligand':ligand_t})\n",
    "    return assocdf\n",
    "    \n",
    "def make_dissociationkinetics_df(seconds,ka,kd,ligand_0,analyte_0,complex_0,general=False):\n",
    "    #typically, analyte_0 should be = 0\n",
    "    if general:\n",
    "        print('general equation set (assuming analyte not in excess) not implemented yet')\n",
    "        return None    \n",
    "    start_theta = complex_0/(ligand_0+complex_0)\n",
    "    end_theta = 0#analyte_0/(kd/ka + analyte_0)\n",
    "    print(start_theta,end_theta)\n",
    "    theta_t= (start_theta - end_theta)*np.exp(-kd*seconds)    \n",
    "    complex_t = theta_t*(ligand_0 + complex_0)\n",
    "    ligand_t = (ligand_0 + complex_0) - complex_t\n",
    "    dissocdf=pd.DataFrame(data={'seconds':seconds,'theta':theta_t,'complex':complex_t,'ligand':ligand_t})\n",
    "    return dissocdf\n",
    "\n",
    "def make_sprdf(assoc_time,dissoc_time,ka,analyte_conc,kd):\n",
    "    forward_seconds=np.arange(0,assoc_time,1)\n",
    "    reverse_seconds=np.arange(0,dissoc_time,1)\n",
    "    assocdf=make_associationkinetics_df(forward_seconds,ka,kd,1e-13,analyte_conc,0)\n",
    "    assocdf=assocdf.rename(columns={'seconds':'seconds_assoc'})\n",
    "    dissocdf=make_dissociationkinetics_df(forward_seconds,ka,kd,\n",
    "                             assocdf.iloc[-1]['ligand'],analyte_conc,assocdf.iloc[-1]['complex'])\n",
    "    dissocdf=dissocdf.rename(columns={'seconds':'seconds_dissoc'})  \n",
    "    sprdf=pd.concat([assocdf,dissocdf],ignore_index=True)\n",
    "    sprdf=sprdf.assign(seconds=np.arange(0,assoc_time+dissoc_time,1))\n",
    "    return sprdf\n",
    "\n",
    "class sprviewer(param.Parameterized):\n",
    "    assoc_time=param.Number(180,bounds=(15,300),step=15)\n",
    "    dissoc_time=param.Number(180,bounds=(15,300),step=15)\n",
    "    ka=param.Parameter(10,label='ka (M-1s-1)',doc='bimolecular assoc. rate')#,format=PrintfTickFormatter(format='%.1e'))\n",
    "    analyte_conc=param.Parameter(100,label='conc in nM',doc='analyte conc (nM)')\n",
    "    kd=param.Parameter(0.1,label='kd (s-1)',doc='dissoc. rate')\n",
    "    @param.depends('ka','analyte_conc','kd')\n",
    "    def ka_obs(self):\n",
    "        return pn.Pane(f'ka_obs={self.ka*self.analyte_conc*1e-9+self.kd:.1g}')\n",
    "    @param.depends('ka','analyte_conc','kd')\n",
    "    def Kd_eq(self):\n",
    "        return pn.Pane(f'Kd (eq)={self.kd/self.ka:.1g}')\n",
    "    \n",
    "    df=pd.DataFrame(data={'seconds':[1,1],'theta':[1,1]})#make_sprdf(self.assoc_time,dissoc_time,ka,analyte_conc,kd)\n",
    "    source=ColumnDataSource(data=ColumnDataSource.from_df(df))\n",
    "\n",
    "    p=figure(height=300,width=600)\n",
    "    p.y_range=Range1d(0,1)\n",
    "    \n",
    "    @param.depends('ka','kd','analyte_conc')\n",
    "    def plot_view(self):\n",
    "        self.df=make_sprdf(self.assoc_time,self.dissoc_time,self.ka,self.analyte_conc*1e-9,self.kd)\n",
    "        self.source.data=ColumnDataSource.from_df(self.df)    \n",
    "        self.p.line(x='seconds',y='theta',source=self.source)\n",
    "        return pn.pane.Bokeh(self.p)\n",
    "    \n",
    "sprv=sprviewer()\n",
    "pn.Row(pn.Column(sprv.param.ka,sprv.param.kd,sprv.param.analyte_conc,pn.Row(sprv.ka_obs,sprv.Kd_eq)),sprv.plot_view)\n"
   ]
  },
  {
   "cell_type": "code",
   "execution_count": 4,
   "id": "f068cd6c-950c-4506-90c5-b0a662bf8311",
   "metadata": {},
   "outputs": [
    {
     "data": {
      "text/plain": [
       "1.8867924528301888e-05"
      ]
     },
     "execution_count": 4,
     "metadata": {},
     "output_type": "execute_result"
    }
   ],
   "source": [
    "1/53000"
   ]
  },
  {
   "cell_type": "code",
   "execution_count": 2,
   "id": "2a146984-d2c6-40d3-a6af-e8d2ad259391",
   "metadata": {},
   "outputs": [],
   "source": [
    "#first set up timescale\n",
    "seconds=np.arange(0,10*60,1)"
   ]
  },
  {
   "cell_type": "code",
   "execution_count": 50,
   "id": "49cb5ee4-433b-4922-a6c4-c0d17df48cfe",
   "metadata": {},
   "outputs": [
    {
     "data": {
      "text/plain": [
       "<bound method sprviewer.ka_obs of sprviewer(analyte_conc=100, assoc_time=180, base=(2, 3), dissoc_time=180, ka=15, kd=0.1, name='sprviewer00719')>"
      ]
     },
     "execution_count": 50,
     "metadata": {},
     "output_type": "execute_result"
    }
   ],
   "source": [
    "sprv.ka_obs"
   ]
  },
  {
   "cell_type": "code",
   "execution_count": 3,
   "id": "4171f95a-ce23-41c5-ac78-89452a469320",
   "metadata": {},
   "outputs": [],
   "source": [
    "Ainit=10e-6\n",
    "k=1e-2"
   ]
  },
  {
   "cell_type": "code",
   "execution_count": 4,
   "id": "342ce8dd-a43d-4f36-b291-f534c31442c9",
   "metadata": {},
   "outputs": [
    {
     "data": {
      "text/plain": [
       "(0.0, 1e-05)"
      ]
     },
     "execution_count": 4,
     "metadata": {},
     "output_type": "execute_result"
    },
    {
     "data": {
      "image/png": "[encoded data removed]",
      "text/plain": [
       "<Figure size 432x288 with 1 Axes>"
      ]
     },
     "metadata": {
      "needs_background": "light"
     },
     "output_type": "display_data"
    }
   ],
   "source": [
    "A=Ainit*np.exp(-k*seconds)\n",
    "plt.plot(seconds,A)\n",
    "plt.ylim(0,Ainit)"
   ]
  },
  {
   "cell_type": "code",
   "execution_count": 17,
   "id": "a3b78db2-861a-4512-9397-cb34d2242d07",
   "metadata": {},
   "outputs": [
    {
     "data": {
      "text/plain": [
       "array([0])"
      ]
     },
     "execution_count": 17,
     "metadata": {},
     "output_type": "execute_result"
    }
   ],
   "source": [
    "seconds"
   ]
  },
  {
   "cell_type": "code",
   "execution_count": 25,
   "id": "0576b0b5-dfd0-40bf-8789-a419137de992",
   "metadata": {},
   "outputs": [
    {
     "data": {
      "text/plain": [
       "Watcher(inst=FloatSlider(end=3.141, name='Float Slider', step=0.01, value=1.6), cls=<class 'panel.widgets.slider.FloatSlider'>, fn=<function cool at 0x000001F4B7A85700>, mode='args', onlychanged=True, parameter_names=('value',), what='value', queued=False)"
      ]
     },
     "execution_count": 25,
     "metadata": {},
     "output_type": "execute_result"
    }
   ],
   "source": [
    "float_slider.param.watch(cool, 'value')"
   ]
  },
  {
   "cell_type": "code",
   "execution_count": 26,
   "id": "4c1809db-9055-4f98-ad24-b317382711dd",
   "metadata": {},
   "outputs": [],
   "source": [
    "def cool(thin):\n",
    "    p1 = figure(width=300, height=300)\n",
    "    A=Ainit*np.exp(-float_slider.value*seconds)\n",
    "    p1.line(seconds,A )\n",
    "    pnl=pn.panel(p1)\n",
    "#    pnl.link(float_slider,)\n",
    "#tabs = pn.Tabs(p1)\n",
    "    return pnl"
   ]
  },
  {
   "cell_type": "code",
   "execution_count": null,
   "id": "437136ce-7412-413d-98a0-73fe49274ee2",
   "metadata": {},
   "outputs": [],
   "source": []
  },
  {
   "cell_type": "code",
   "execution_count": 235,
   "id": "ac72e55b-9c0f-4bb5-94ba-482c9b266e09",
   "metadata": {},
   "outputs": [
    {
     "data": {
      "text/plain": [
       "array([ 0.53452248,  0.80178373, -0.26726124])"
      ]
     },
     "execution_count": 235,
     "metadata": {},
     "output_type": "execute_result"
    }
   ],
   "source": [
    "rawvec=np.array((.2,.3,-.1))\n",
    "frobnorm=linalg.norm(rawvec)\n",
    "rawvec/frobnorm"
   ]
  },
  {
   "cell_type": "markdown",
   "id": "b1b15b06-1acd-4fc0-a0e3-d93ae1f1036f",
   "metadata": {},
   "source": [
    "# Matrix Stuffs"
   ]
  },
  {
   "cell_type": "code",
   "execution_count": 8,
   "id": "3b50fefa-295f-4843-858d-4cbe3ecd093e",
   "metadata": {},
   "outputs": [],
   "source": [
    "import scipy\n",
    "from scipy import linalg"
   ]
  },
  {
   "cell_type": "code",
   "execution_count": 175,
   "id": "5ff60904-cfcd-4e32-8e1a-3a1f25778d31",
   "metadata": {},
   "outputs": [
    {
     "data": {
      "text/plain": [
       "array([[-0.3,  0. ,  0. ],\n",
       "       [ 0.3, -0.1,  0. ],\n",
       "       [ 0. ,  0.1,  0. ]])"
      ]
     },
     "execution_count": 175,
     "metadata": {},
     "output_type": "execute_result"
    }
   ],
   "source": [
    "a=np.array(((-.3,0,0),(.3,-.1,0),(0,.1,0)))\n",
    "a"
   ]
  },
  {
   "cell_type": "code",
   "execution_count": 234,
   "id": "fe27958b-fada-47c8-8315-7da56dbc3954",
   "metadata": {},
   "outputs": [
    {
     "data": {
      "text/plain": [
       "(array([ 0. +0.j, -0.1+0.j, -0.3+0.j]),\n",
       " array([[ 0.        ,  0.        ,  0.53452248],\n",
       "        [ 0.        ,  0.70710678, -0.80178373],\n",
       "        [ 1.        , -0.70710678,  0.26726124]]))"
      ]
     },
     "execution_count": 234,
     "metadata": {},
     "output_type": "execute_result"
    }
   ],
   "source": [
    "eigstuff=linalg.eig(a)\n",
    "eigstuff"
   ]
  },
  {
   "cell_type": "code",
   "execution_count": 246,
   "id": "46958113-7604-4820-91f6-cd674f362a6d",
   "metadata": {},
   "outputs": [],
   "source": [
    "eigval1=eigstuff[0][0].real\n",
    "eigval2=eigstuff[0][1].real\n",
    "eigval3=eigstuff[0][2].real\n",
    "eigvec1=eigstuff[1][:,0]\n",
    "eigvec2=eigstuff[1][:,1]\n",
    "eigvec3=eigstuff[1][:,2]\n",
    "eigvec2=np.array((0,1,-1))\n",
    "eigvec3=np.array((-.2,.3,-.1))\n"
   ]
  },
  {
   "cell_type": "code",
   "execution_count": 248,
   "id": "6b9729ef-5506-4562-88af-4ef908d4a54f",
   "metadata": {},
   "outputs": [
    {
     "data": {
      "text/plain": [
       "(array([[-0.3, -0. ,  0. ],\n",
       "        [-0. , -0.1,  0. ],\n",
       "        [-0. , -0. ,  0. ]]),\n",
       " array([[-0.2,  0. ,  0. ],\n",
       "        [ 0.3,  1. ,  0. ],\n",
       "        [-0.1, -1. ,  1. ]]))"
      ]
     },
     "execution_count": 248,
     "metadata": {},
     "output_type": "execute_result"
    }
   ],
   "source": [
    "diagmatrix=np.array([eigval3,eigval2,eigval1])*np.identity(3)\n",
    "eigvecmatrix=np.array((eigvec3,eigvec2,eigvec1)).T\n",
    "diagmatrix,eigvecmatrix"
   ]
  },
  {
   "cell_type": "code",
   "execution_count": 249,
   "id": "508ddbd5-418e-42e5-9a04-f033aef74508",
   "metadata": {},
   "outputs": [
    {
     "data": {
      "text/plain": [
       "array([[0.25924026, 1.        , 1.        ],\n",
       "       [1.        , 0.63762815, 1.        ],\n",
       "       [1.        , 1.        , 1.        ]])"
      ]
     },
     "execution_count": 249,
     "metadata": {},
     "output_type": "execute_result"
    }
   ],
   "source": [
    "expmatrix=np.exp(diagmatrix*4.5) #4.5 seconds into reaction...\n",
    "expmatrix"
   ]
  },
  {
   "cell_type": "code",
   "execution_count": 250,
   "id": "d085e258-bccc-4bae-802c-87c469cea246",
   "metadata": {},
   "outputs": [
    {
     "data": {
      "text/plain": [
       "array([[-0.24075974, -0.4       , -0.2       ],\n",
       "       [-2.68241816,  2.23762815,  1.3       ],\n",
       "       [ 0.4231779 ,  0.16237185, -0.1       ]])"
      ]
     },
     "execution_count": 250,
     "metadata": {},
     "output_type": "execute_result"
    }
   ],
   "source": [
    "eigvecmatrix@expmatrix@linalg.inv(eigvecmatrix)#@(np.array((1,0,0))).T"
   ]
  },
  {
   "cell_type": "code",
   "execution_count": 255,
   "id": "0b5f7e78-8bbe-4cd0-91f8-4a64e33df1e4",
   "metadata": {},
   "outputs": [
    {
     "data": {
      "text/plain": [
       "array([ 0.25924026,  0.45      , -0.1       ])"
      ]
     },
     "execution_count": 255,
     "metadata": {},
     "output_type": "execute_result"
    }
   ],
   "source": [
    "eigvecmatrix*expmatrix*linalg.inv(eigvecmatrix)@(np.array((1,0,0))).T"
   ]
  },
  {
   "cell_type": "code",
   "execution_count": 258,
   "id": "faadfc26-f60a-453d-84f2-3743eb8e8221",
   "metadata": {},
   "outputs": [
    {
     "data": {
      "text/plain": [
       "array([[3, 7],\n",
       "       [3, 7]])"
      ]
     },
     "execution_count": 258,
     "metadata": {},
     "output_type": "execute_result"
    }
   ],
   "source": [
    "testa=np.array(((1,1),(1,1)))\n",
    "testb=np.array(((1,2),(3,4))).T\n",
    "testa@testb"
   ]
  },
  {
   "cell_type": "code",
   "execution_count": 223,
   "id": "0207a45a-d6e0-4832-a855-90daea7d2269",
   "metadata": {},
   "outputs": [
    {
     "data": {
      "text/plain": [
       "array([2.25924026, 0.26756064, 0.09256748])"
      ]
     },
     "execution_count": 223,
     "metadata": {},
     "output_type": "execute_result"
    }
   ],
   "source": [
    "eigstuff[1].T@expmatrix@linalg.inv(eigstuff[1].T)@(np.array((1,0,0)))"
   ]
  },
  {
   "cell_type": "code",
   "execution_count": 196,
   "id": "8b468d62-4411-4d77-a82e-123aabf3ef84",
   "metadata": {},
   "outputs": [
    {
     "data": {
      "text/plain": [
       "array([[0.  , 0.  , 0.  ],\n",
       "       [0.  , 0.01, 0.  ],\n",
       "       [0.  , 0.  , 0.09]])"
      ]
     },
     "execution_count": 196,
     "metadata": {},
     "output_type": "execute_result"
    }
   ],
   "source": [
    "diagmatrix@diagmatrix#(np.array((1,1,0)))"
   ]
  },
  {
   "cell_type": "code",
   "execution_count": 190,
   "id": "9d5a5f26-8078-4d23-87da-49692dd5ec0a",
   "metadata": {},
   "outputs": [
    {
     "data": {
      "text/plain": [
       "array([[ 0. , -0. , -0. ],\n",
       "       [ 0. , -0.1, -0. ],\n",
       "       [ 0. , -0. , -0.3]])"
      ]
     },
     "execution_count": 190,
     "metadata": {},
     "output_type": "execute_result"
    }
   ],
   "source": [
    "diagmatrix"
   ]
  },
  {
   "cell_type": "code",
   "execution_count": 212,
   "id": "47c2a11b-4660-4a60-9943-d7d8210fc9b0",
   "metadata": {},
   "outputs": [
    {
     "data": {
      "text/plain": [
       "array([ 0.        ,  0.70710678, -0.70710678])"
      ]
     },
     "execution_count": 212,
     "metadata": {},
     "output_type": "execute_result"
    }
   ],
   "source": [
    "eigvec2"
   ]
  },
  {
   "cell_type": "code",
   "execution_count": 211,
   "id": "0cbec8a4-7c62-49cd-8633-5df488d94373",
   "metadata": {},
   "outputs": [
    {
     "data": {
      "text/plain": [
       "array([ 0.        , -0.07071068,  0.07071068])"
      ]
     },
     "execution_count": 211,
     "metadata": {},
     "output_type": "execute_result"
    }
   ],
   "source": [
    "a@eigvec2"
   ]
  },
  {
   "cell_type": "code",
   "execution_count": 174,
   "id": "6c43ecf6-6b2d-4e89-8138-1e27a4962dab",
   "metadata": {},
   "outputs": [
    {
     "data": {
      "text/plain": [
       "array([[ 0.        ,  0.        ,  1.        ],\n",
       "       [ 0.        ,  0.70710678, -0.70710678],\n",
       "       [ 0.53452248, -0.80178373,  0.26726124]])"
      ]
     },
     "execution_count": 174,
     "metadata": {},
     "output_type": "execute_result"
    }
   ],
   "source": [
    "eigvec_array=np.array((eigvec1,eigvec2,eigvec3))\n",
    "eigvec_array"
   ]
  },
  {
   "cell_type": "code",
   "execution_count": 259,
   "id": "cf46a9f8-5a8a-4e37-a20c-389f53ce3c6d",
   "metadata": {},
   "outputs": [
    {
     "data": {
      "text/plain": [
       "0.019607843137254898"
      ]
     },
     "execution_count": 259,
     "metadata": {},
     "output_type": "execute_result"
    }
   ],
   "source": [
    "5.6/285.6"
   ]
  },
  {
   "cell_type": "code",
   "execution_count": 261,
   "id": "01c8c369-7afd-4bce-b6b1-4d330cedd8e1",
   "metadata": {},
   "outputs": [
    {
     "data": {
      "text/plain": [
       "3.7735849056603776e-05"
      ]
     },
     "execution_count": 261,
     "metadata": {},
     "output_type": "execute_result"
    }
   ],
   "source": []
  },
  {
   "cell_type": "code",
   "execution_count": 117,
   "id": "611037b5-69c9-4c6f-9720-88506d9c19c2",
   "metadata": {},
   "outputs": [],
   "source": [
    "cmatrix=np.array((eigvec1,eigvec2,eigvec3))\n",
    "cmatrixT=cmatrix.T"
   ]
  },
  {
   "cell_type": "code",
   "execution_count": 122,
   "id": "ceeff315-7b53-4bc4-bd9c-3eaf295df888",
   "metadata": {},
   "outputs": [
    {
     "data": {
      "text/plain": [
       "array([0.        , 0.        , 0.53452248])"
      ]
     },
     "execution_count": 122,
     "metadata": {},
     "output_type": "execute_result"
    }
   ],
   "source": [
    "alpha=cmatrix@np.array((1,0,0))\n",
    "alpha"
   ]
  },
  {
   "cell_type": "code",
   "execution_count": 123,
   "id": "ced080f3-9b20-4b6f-a3a5-645708c2fb36",
   "metadata": {},
   "outputs": [
    {
     "data": {
      "text/plain": [
       "array([ 0.21166235, -0.31749352,  0.10583117])"
      ]
     },
     "execution_count": 123,
     "metadata": {},
     "output_type": "execute_result"
    }
   ],
   "source": [
    "prod1=alpha[0]*eigvec1*np.exp(eigval1*1)\n",
    "prod2=alpha[1]*eigvec2*np.exp(eigval2*1)\n",
    "prod3=alpha[2]*eigvec3*np.exp(eigval3*1)\n",
    "prods=prod1+prod2+prod3\n",
    "prods\n",
    "prod3"
   ]
  },
  {
   "cell_type": "code",
   "execution_count": null,
   "id": "e1b209b3-e780-4258-93f5-8d5c4de6856a",
   "metadata": {},
   "outputs": [],
   "source": [
    "for second in seconds:\n",
    "    prod1=alpha[0]*eigvec1*np.exp(eigval1*1)\n",
    "    prod2=alpha[1]*eigvec2*np.exp(eigval2*1)\n",
    "    prod3=alpha[2]*eigvec3*np.exp(eigval3*1)\n",
    "    prods=prod1+prod2+prod3"
   ]
  },
  {
   "cell_type": "code",
   "execution_count": 63,
   "id": "0f629d0c-9fea-46fb-bce9-a8147fbeead7",
   "metadata": {},
   "outputs": [],
   "source": [
    "seconds=np.arange(0,100)"
   ]
  },
  {
   "cell_type": "markdown",
   "id": "e1ce58a1-5ba2-4071-af82-02de8d484b2b",
   "metadata": {},
   "source": [
    "### jump to here"
   ]
  },
  {
   "cell_type": "code",
   "execution_count": 173,
   "id": "0b9dcfba-9fea-4d9f-bea5-eb6c04bb42a8",
   "metadata": {},
   "outputs": [
    {
     "data": {
      "text/plain": [
       "array([2.25924026, 0.26756064, 0.09256748])"
      ]
     },
     "execution_count": 173,
     "metadata": {},
     "output_type": "execute_result"
    }
   ],
   "source": [
    "eigvec_array@expmatrix@linalg.inv(eigvec_array)@(np.array((1,0,0)))"
   ]
  },
  {
   "cell_type": "code",
   "execution_count": 23,
   "id": "caf6ecef-c765-4703-8b6b-a9d049dc41a4",
   "metadata": {},
   "outputs": [
    {
     "data": {
      "text/plain": [
       "0.0"
      ]
     },
     "execution_count": 23,
     "metadata": {},
     "output_type": "execute_result"
    }
   ],
   "source": [
    "eigstuff[0][0].real"
   ]
  },
  {
   "cell_type": "code",
   "execution_count": null,
   "id": "2453f34c-cc05-48c4-b076-9212e5e73684",
   "metadata": {},
   "outputs": [],
   "source": []
  },
  {
   "cell_type": "code",
   "execution_count": 24,
   "id": "2734faf7-e5f9-4905-b5b5-44b5fff68a60",
   "metadata": {},
   "outputs": [
    {
     "data": {
      "text/plain": [
       "array([0.        , 0.        , 0.78446454])"
      ]
     },
     "execution_count": 24,
     "metadata": {},
     "output_type": "execute_result"
    }
   ],
   "source": [
    "eigstuff[1][0]"
   ]
  },
  {
   "cell_type": "code",
   "execution_count": 25,
   "id": "b34d82a7-a54d-4c94-b008-b8e5b6b56688",
   "metadata": {},
   "outputs": [
    {
     "ename": "LinAlgError",
     "evalue": "singular matrix",
     "output_type": "error",
     "traceback": [
      "\u001b[0;31m---------------------------------------------------------------------------\u001b[0m",
      "\u001b[0;31mLinAlgError\u001b[0m                               Traceback (most recent call last)",
      "\u001b[0;32m/var/folders/dm/b13csy3d1554_t20p2qt31th0000gq/T/ipykernel_28340/4209643301.py\u001b[0m in \u001b[0;36m<module>\u001b[0;34m\u001b[0m\n\u001b[0;32m----> 1\u001b[0;31m \u001b[0mlinalg\u001b[0m\u001b[0;34m.\u001b[0m\u001b[0minv\u001b[0m\u001b[0;34m(\u001b[0m\u001b[0ma\u001b[0m\u001b[0;34m)\u001b[0m\u001b[0;34m\u001b[0m\u001b[0;34m\u001b[0m\u001b[0m\n\u001b[0m",
      "\u001b[0;32m~/kvmcode/thermoviz/venv_thermoviz/lib/python3.9/site-packages/scipy/linalg/basic.py\u001b[0m in \u001b[0;36minv\u001b[0;34m(a, overwrite_a, check_finite)\u001b[0m\n\u001b[1;32m    966\u001b[0m         \u001b[0minv_a\u001b[0m\u001b[0;34m,\u001b[0m \u001b[0minfo\u001b[0m \u001b[0;34m=\u001b[0m \u001b[0mgetri\u001b[0m\u001b[0;34m(\u001b[0m\u001b[0mlu\u001b[0m\u001b[0;34m,\u001b[0m \u001b[0mpiv\u001b[0m\u001b[0;34m,\u001b[0m \u001b[0mlwork\u001b[0m\u001b[0;34m=\u001b[0m\u001b[0mlwork\u001b[0m\u001b[0;34m,\u001b[0m \u001b[0moverwrite_lu\u001b[0m\u001b[0;34m=\u001b[0m\u001b[0;36m1\u001b[0m\u001b[0;34m)\u001b[0m\u001b[0;34m\u001b[0m\u001b[0;34m\u001b[0m\u001b[0m\n\u001b[1;32m    967\u001b[0m     \u001b[0;32mif\u001b[0m \u001b[0minfo\u001b[0m \u001b[0;34m>\u001b[0m \u001b[0;36m0\u001b[0m\u001b[0;34m:\u001b[0m\u001b[0;34m\u001b[0m\u001b[0;34m\u001b[0m\u001b[0m\n\u001b[0;32m--> 968\u001b[0;31m         \u001b[0;32mraise\u001b[0m \u001b[0mLinAlgError\u001b[0m\u001b[0;34m(\u001b[0m\u001b[0;34m\"singular matrix\"\u001b[0m\u001b[0;34m)\u001b[0m\u001b[0;34m\u001b[0m\u001b[0;34m\u001b[0m\u001b[0m\n\u001b[0m\u001b[1;32m    969\u001b[0m     \u001b[0;32mif\u001b[0m \u001b[0minfo\u001b[0m \u001b[0;34m<\u001b[0m \u001b[0;36m0\u001b[0m\u001b[0;34m:\u001b[0m\u001b[0;34m\u001b[0m\u001b[0;34m\u001b[0m\u001b[0m\n\u001b[1;32m    970\u001b[0m         raise ValueError('illegal value in %d-th argument of internal '\n",
      "\u001b[0;31mLinAlgError\u001b[0m: singular matrix"
     ]
    }
   ],
   "source": [
    "linalg.inv(a)"
   ]
  },
  {
   "cell_type": "code",
   "execution_count": 29,
   "id": "a01925e1-b9b4-4648-92bb-2780160929e7",
   "metadata": {},
   "outputs": [
    {
     "data": {
      "text/plain": [
       "array([[-3,  0,  0],\n",
       "       [ 3,  1,  0],\n",
       "       [ 0,  1,  0]])"
      ]
     },
     "execution_count": 29,
     "metadata": {},
     "output_type": "execute_result"
    }
   ],
   "source": [
    "a"
   ]
  },
  {
   "cell_type": "code",
   "execution_count": 30,
   "id": "2e88e929-7b7b-4e34-91a4-3f63bcd78811",
   "metadata": {},
   "outputs": [],
   "source": [
    "b=np.array((1,1,1))"
   ]
  },
  {
   "cell_type": "code",
   "execution_count": 28,
   "id": "3b363ee5-2e98-4ac5-8753-f2cb2ebcb961",
   "metadata": {},
   "outputs": [
    {
     "data": {
      "text/plain": [
       "array([-3,  4,  1])"
      ]
     },
     "execution_count": 28,
     "metadata": {},
     "output_type": "execute_result"
    }
   ],
   "source": [
    "a@np.array((1,1,1))"
   ]
  },
  {
   "cell_type": "code",
   "execution_count": 31,
   "id": "5001fc2f-243d-4a9d-b2b8-aa3128266c12",
   "metadata": {},
   "outputs": [
    {
     "data": {
      "text/plain": [
       "array([-3,  4,  1])"
      ]
     },
     "execution_count": 31,
     "metadata": {},
     "output_type": "execute_result"
    }
   ],
   "source": [
    "np.dot(a,b)"
   ]
  },
  {
   "cell_type": "code",
   "execution_count": 32,
   "id": "aaf8eb3b-3257-450f-aada-af8b31777f3f",
   "metadata": {},
   "outputs": [
    {
     "data": {
      "text/plain": [
       "array([-3,  4,  1])"
      ]
     },
     "execution_count": 32,
     "metadata": {},
     "output_type": "execute_result"
    }
   ],
   "source": [
    "np.matmul(a,b)"
   ]
  },
  {
   "cell_type": "code",
   "execution_count": 34,
   "id": "8ea5a960-b5b4-4069-ad26-2043442db288",
   "metadata": {},
   "outputs": [
    {
     "data": {
      "text/plain": [
       "array([-3,  0,  0])"
      ]
     },
     "execution_count": 34,
     "metadata": {},
     "output_type": "execute_result"
    }
   ],
   "source": [
    "a[0,:]"
   ]
  },
  {
   "cell_type": "code",
   "execution_count": null,
   "id": "fffa02a5-43f8-4e0b-a152-27eacfd74189",
   "metadata": {},
   "outputs": [],
   "source": [
    "eig1="
   ]
  }
 ],
 "metadata": {
  "kernelspec": {
   "display_name": "venv_thermoviz",
   "language": "python",
   "name": "venv_thermoviz"
  },
  "language_info": {
   "codemirror_mode": {
    "name": "ipython",
    "version": 3
   },
   "file_extension": ".py",
   "mimetype": "text/x-python",
   "name": "python",
   "nbconvert_exporter": "python",
   "pygments_lexer": "ipython3",
   "version": "3.9.6"
  }
 },
 "nbformat": 4,
 "nbformat_minor": 5
}
